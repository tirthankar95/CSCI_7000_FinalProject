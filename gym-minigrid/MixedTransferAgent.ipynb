{
  "nbformat": 4,
  "nbformat_minor": 0,
  "metadata": {
    "colab": {
      "provenance": []
    },
    "kernelspec": {
      "name": "python3",
      "display_name": "Python 3"
    },
    "language_info": {
      "name": "python"
    },
    "accelerator": "GPU",
    "gpuClass": "standard"
  },
  "cells": [
    {
      "cell_type": "code",
      "source": [
        "!git clone -b mittra https://github.com/tirthankar95/CSCI_7000_FinalProject.git"
      ],
      "metadata": {
        "colab": {
          "base_uri": "https://localhost:8080/"
        },
        "id": "bWC-jq-moplD",
        "outputId": "1a4839e6-3183-43be-b52a-1e65a30f9f37"
      },
      "execution_count": 1,
      "outputs": [
        {
          "output_type": "stream",
          "name": "stdout",
          "text": [
            "fatal: destination path 'CSCI_7000_FinalProject' already exists and is not an empty directory.\n"
          ]
        }
      ]
    },
    {
      "cell_type": "code",
      "source": [
        "import tensorflow as tf \n",
        "tf.config.list_physical_devices()"
      ],
      "metadata": {
        "colab": {
          "base_uri": "https://localhost:8080/"
        },
        "id": "fpl0XcBJPF_9",
        "outputId": "3f40528c-c178-41f9-eace-9136590e405c"
      },
      "execution_count": 2,
      "outputs": [
        {
          "output_type": "execute_result",
          "data": {
            "text/plain": [
              "[PhysicalDevice(name='/physical_device:CPU:0', device_type='CPU'),\n",
              " PhysicalDevice(name='/physical_device:GPU:0', device_type='GPU')]"
            ]
          },
          "metadata": {},
          "execution_count": 2
        }
      ]
    },
    {
      "cell_type": "code",
      "source": [
        "%cd /content/CSCI_7000_FinalProject/gym-minigrid/"
      ],
      "metadata": {
        "colab": {
          "base_uri": "https://localhost:8080/"
        },
        "id": "Fl1ZzexgnxFb",
        "outputId": "b35c3485-0ae3-42bf-f636-e44b9b85a639"
      },
      "execution_count": 3,
      "outputs": [
        {
          "output_type": "stream",
          "name": "stdout",
          "text": [
            "/content/CSCI_7000_FinalProject/gym-minigrid\n"
          ]
        }
      ]
    },
    {
      "cell_type": "code",
      "source": [
        "!pip install gym-minigrid"
      ],
      "metadata": {
        "colab": {
          "base_uri": "https://localhost:8080/"
        },
        "id": "IWdw3xtko4mB",
        "outputId": "578804e1-2b2c-4d06-f04d-aeece89dc389"
      },
      "execution_count": 4,
      "outputs": [
        {
          "output_type": "stream",
          "name": "stdout",
          "text": [
            "Looking in indexes: https://pypi.org/simple, https://us-python.pkg.dev/colab-wheels/public/simple/\n",
            "Requirement already satisfied: gym-minigrid in /content/CSCI_7000_FinalProject/gym-minigrid (0.0.5)\n",
            "Requirement already satisfied: gym>=0.9.6 in /usr/local/lib/python3.8/dist-packages (from gym-minigrid) (0.26.2)\n",
            "Requirement already satisfied: numpy>=1.15.0 in /usr/local/lib/python3.8/dist-packages (from gym-minigrid) (1.21.6)\n",
            "Requirement already satisfied: pyqt5>=5.10.1 in /usr/local/lib/python3.8/dist-packages (from gym-minigrid) (5.15.7)\n",
            "Requirement already satisfied: cloudpickle>=1.2.0 in /usr/local/lib/python3.8/dist-packages (from gym>=0.9.6->gym-minigrid) (1.5.0)\n",
            "Requirement already satisfied: gym-notices>=0.0.4 in /usr/local/lib/python3.8/dist-packages (from gym>=0.9.6->gym-minigrid) (0.0.8)\n",
            "Requirement already satisfied: importlib-metadata>=4.8.0 in /usr/local/lib/python3.8/dist-packages (from gym>=0.9.6->gym-minigrid) (4.13.0)\n",
            "Requirement already satisfied: zipp>=0.5 in /usr/local/lib/python3.8/dist-packages (from importlib-metadata>=4.8.0->gym>=0.9.6->gym-minigrid) (3.10.0)\n",
            "Requirement already satisfied: PyQt5-sip<13,>=12.11 in /usr/local/lib/python3.8/dist-packages (from pyqt5>=5.10.1->gym-minigrid) (12.11.0)\n",
            "Requirement already satisfied: PyQt5-Qt5>=5.15.0 in /usr/local/lib/python3.8/dist-packages (from pyqt5>=5.10.1->gym-minigrid) (5.15.2)\n"
          ]
        }
      ]
    },
    {
      "cell_type": "code",
      "source": [
        "!pip install -e ."
      ],
      "metadata": {
        "colab": {
          "base_uri": "https://localhost:8080/"
        },
        "id": "7UFqhUBOt2Av",
        "outputId": "0d42a728-94d0-4f01-d9e3-e236039d5d16"
      },
      "execution_count": 5,
      "outputs": [
        {
          "output_type": "stream",
          "name": "stdout",
          "text": [
            "Looking in indexes: https://pypi.org/simple, https://us-python.pkg.dev/colab-wheels/public/simple/\n",
            "Obtaining file:///content/CSCI_7000_FinalProject/gym-minigrid\n",
            "Requirement already satisfied: gym>=0.9.6 in /usr/local/lib/python3.8/dist-packages (from gym-minigrid==0.0.5) (0.26.2)\n",
            "Requirement already satisfied: numpy>=1.15.0 in /usr/local/lib/python3.8/dist-packages (from gym-minigrid==0.0.5) (1.21.6)\n",
            "Requirement already satisfied: pyqt5>=5.10.1 in /usr/local/lib/python3.8/dist-packages (from gym-minigrid==0.0.5) (5.15.7)\n",
            "Requirement already satisfied: gym-notices>=0.0.4 in /usr/local/lib/python3.8/dist-packages (from gym>=0.9.6->gym-minigrid==0.0.5) (0.0.8)\n",
            "Requirement already satisfied: cloudpickle>=1.2.0 in /usr/local/lib/python3.8/dist-packages (from gym>=0.9.6->gym-minigrid==0.0.5) (1.5.0)\n",
            "Requirement already satisfied: importlib-metadata>=4.8.0 in /usr/local/lib/python3.8/dist-packages (from gym>=0.9.6->gym-minigrid==0.0.5) (4.13.0)\n",
            "Requirement already satisfied: zipp>=0.5 in /usr/local/lib/python3.8/dist-packages (from importlib-metadata>=4.8.0->gym>=0.9.6->gym-minigrid==0.0.5) (3.10.0)\n",
            "Requirement already satisfied: PyQt5-sip<13,>=12.11 in /usr/local/lib/python3.8/dist-packages (from pyqt5>=5.10.1->gym-minigrid==0.0.5) (12.11.0)\n",
            "Requirement already satisfied: PyQt5-Qt5>=5.15.0 in /usr/local/lib/python3.8/dist-packages (from pyqt5>=5.10.1->gym-minigrid==0.0.5) (5.15.2)\n",
            "Installing collected packages: gym-minigrid\n",
            "  Attempting uninstall: gym-minigrid\n",
            "    Found existing installation: gym-minigrid 0.0.5\n",
            "    Can't uninstall 'gym-minigrid'. No files were found to uninstall.\n",
            "  Running setup.py develop for gym-minigrid\n",
            "Successfully installed gym-minigrid-0.0.5\n"
          ]
        }
      ]
    },
    {
      "cell_type": "code",
      "source": [
        "!pip install keras"
      ],
      "metadata": {
        "colab": {
          "base_uri": "https://localhost:8080/"
        },
        "id": "NUYDTwg_VkdX",
        "outputId": "e0f6c9a1-e3d6-4f8a-cbf3-2cc42eee74d9"
      },
      "execution_count": 6,
      "outputs": [
        {
          "output_type": "stream",
          "name": "stdout",
          "text": [
            "Looking in indexes: https://pypi.org/simple, https://us-python.pkg.dev/colab-wheels/public/simple/\n",
            "Requirement already satisfied: keras in /usr/local/lib/python3.8/dist-packages (2.9.0)\n"
          ]
        }
      ]
    },
    {
      "cell_type": "code",
      "source": [
        "!python ./kerasDQN.py &> logs.txt"
      ],
      "metadata": {
        "id": "sZoruMCQt8KY",
        "colab": {
          "base_uri": "https://localhost:8080/"
        },
        "outputId": "0821797b-7b01-4b27-c4c1-7208d8c80a96"
      },
      "execution_count": 7,
      "outputs": [
        {
          "output_type": "stream",
          "name": "stdout",
          "text": [
            "^C\n"
          ]
        }
      ]
    },
    {
      "cell_type": "code",
      "source": [
        "import gym\n",
        "import numpy as np\n",
        "import random\n",
        "import gym_minigrid\n",
        "import matplotlib.pyplot as plt\n",
        "import tensorflow as tf\n",
        "import keras\n",
        "from keras.models import Sequential,Model\n",
        "from keras.layers import LSTM,Bidirectional,Dense,Input,Embedding,TimeDistributed\n",
        "from keras.callbacks import EarlyStopping, ModelCheckpoint\n",
        "from gym_minigrid.envs.doorkey import *\n",
        "from gym_minigrid.envs.crossing import *\n",
        "from tqdm import tqdm\n",
        "import math\n",
        "\n",
        "num_actions=5\n",
        "N_EXPERTS=2"
      ],
      "metadata": {
        "id": "YU-hClWks1oJ"
      },
      "execution_count": 8,
      "outputs": []
    },
    {
      "cell_type": "code",
      "source": [
        "def plotProgress(reward_plot):\n",
        "    plt.plot(reward_plot)\n",
        "    plt.xlabel('Episodes')\n",
        "    plt.ylabel('Avg. reward')\n",
        "    plt.title('Avg Reward Per Step V/S Episodes.')\n",
        "    plt.show()\n",
        "\n",
        "def create():\n",
        "    global num_actions\n",
        "    input=Input(shape=(3,147)) # (3,3,7,7) ~ the mini-grid by default returns (3,7,7) image.\n",
        "    model=LSTM(units=64,return_sequences=False)(input)\n",
        "    x1 = Dense(units=128, activation='relu')(model)\n",
        "    x1 = Dense(units=64, activation='relu')(x1)\n",
        "    x1 = Dense(units=32, activation='relu')(x1)\n",
        "    x1 = Dense(units=16, activation='relu')(x1)\n",
        "    output=Dense(units=num_actions,activation='linear')(x1)\n",
        "    model=Model(input,output)\n",
        "    return model"
      ],
      "metadata": {
        "id": "LdnsqEvTs7IS"
      },
      "execution_count": 9,
      "outputs": []
    },
    {
      "cell_type": "code",
      "source": [
        "def updateNovice(novice,exp,wt_arr,lr):\n",
        "  global N_EXPERTS\n",
        "  m=novice.get_weights()\n",
        "  wt=[]\n",
        "  for xx in range(len(m)):\n",
        "    temp=(1-lr)*novice.get_weights()[xx]\n",
        "    for _ in range(N_EXPERTS):\n",
        "      temp+=lr*np.array(exp[_].get_weights()[xx])*wt_arr[_]\n",
        "    wt.append(temp)\n",
        "  novice.set_weights(wt)"
      ],
      "metadata": {
        "id": "2jfYAmzoIn3T"
      },
      "execution_count": 22,
      "outputs": []
    },
    {
      "cell_type": "code",
      "source": [
        "def mixed_algo():\n",
        "  global N_EXPERTS,max_steps_per_episode,reward_plot,num_actions,env,novice,gamma\n",
        "  frame_count=0\n",
        "  mxFramesToPredict=3\n",
        "  lr=1;trust_lr=0.1\n",
        "  noOfEpisodes=100\n",
        "  stepDecrease=noOfEpisodes\n",
        "  \n",
        "  # LOAD Experts\n",
        "  normalize_Q=[[math.inf,-math.inf] for _ in range(N_EXPERTS)]\n",
        "  exp=[]\n",
        "  for _ in range(1,N_EXPERTS+1):\n",
        "    temp_model=keras.models.load_model('Experts/Expert{}'.format(_))\n",
        "    exp.append(temp_model)\n",
        "\n",
        "  #Trust arrays.\n",
        "  trust_arr=[1/N_EXPERTS for _ in range(1,1+N_EXPERTS)]\n",
        "  trust_prob=[1/N_EXPERTS for _ in range(1,1+N_EXPERTS)]\n",
        "\n",
        "  for _ in tqdm(range(noOfEpisodes)): \n",
        "    state = np.array(env.reset_m())\n",
        "    episode_reward = 0\n",
        "    frame_history=[]\n",
        "    reward_history=[]\n",
        "    wt_arr=[-1 for _ in range(N_EXPERTS)]; wt_arr_=[]\n",
        "    q_arr=[-1 for _ in range(N_EXPERTS)]; q_arr_=[]\n",
        "    frame_count=0\n",
        "    for timestep in range(1, max_steps_per_episode):\n",
        "      temp_state=dict(state.item(0)) # state is a 0-d numpy array.\n",
        "      frame_history.append(temp_state['image'])\n",
        "      frame_count+=1\n",
        "      if frame_count<mxFramesToPredict:\n",
        "        action = np.random.choice(num_actions)\n",
        "      else:\n",
        "        state_numpy = np.array(frame_history[-3:]).reshape(3,147)\n",
        "        state_numpy = np.array([state_numpy])\n",
        "        for __,e in enumerate(exp):\n",
        "          action_probs = e(state_numpy, training=False)\n",
        "          for A in action_probs[0]:\n",
        "            normalize_Q[__][0]=min(normalize_Q[__][0],A)\n",
        "            normalize_Q[__][1]=max(normalize_Q[__][1],A)\n",
        "          trust=np.exp(trust_arr[__])/np.sum(np.exp(trust_arr))\n",
        "          q_arr[__]=max((action_probs[0]-normalize_Q[__][0])/(normalize_Q[__][1]-normalize_Q[__][0])) # normalized Q value.\n",
        "          action_P=q_arr[__]*trust\n",
        "          wt_arr[__]=action_P # weights\n",
        "        updateNovice(novice,exp,wt_arr,lr)\n",
        "        lr=max(0.01,lr-1/(stepDecrease))\n",
        "        action_probs = novice(state_numpy, training=False)\n",
        "        action=np.argmax(action_probs[0])\n",
        "\n",
        "      q_arr_.append(q_arr)\n",
        "      wt_arr_.append(wt_arr)\n",
        "      state_next, reward, done, _ = env.step_m(action)\n",
        "      reward_history.append(reward)\n",
        "      state_next = np.array(state_next)\n",
        "      episode_reward += reward\n",
        "      state=state_next\n",
        "\n",
        "      if len(frame_history)>4:\n",
        "        del frame_history[:1]\n",
        "      if done:\n",
        "        break\n",
        "\n",
        "    reward_plot.append(episode_reward/timestep)\n",
        "    rh_sz=len(reward_history)\n",
        "    for i in range(1,rh_sz):\n",
        "      reward_history[rh_sz-i-1]+=gamma*reward_history[rh_sz-i]\n",
        "    print(wt_arr_)\n",
        "    for _e_ in range(N_EXPERTS):\n",
        "      for ___ in range(rh_sz):\n",
        "        trust_arr[_e_]+=trust_lr*(reward_history[___]-q_arr_[___][_e_])*wt_arr_[___][_e_]\n",
        "      trust_arr[_e_]/=rh_sz\n",
        "    for _e_ in range(N_EXPERTS):   \n",
        "      trust_prob[_e_]=np.exp(trust_arr[_e_])/np.sum(np.exp(trust_arr))\n",
        "    if debug:\n",
        "      print('See who you trust - ',trust_prob)\n",
        "\n",
        "  plotProgress(reward_plot)\n",
        "  novice.save('HotExpert.ml')"
      ],
      "metadata": {
        "id": "wV_dxQSEF87f"
      },
      "execution_count": 23,
      "outputs": []
    },
    {
      "cell_type": "code",
      "source": [
        "def og_algo():\n",
        "  global max_steps_per_episode,reward_plot,num_actions,env,novice,novice_target,gamma\n",
        "  epsilon = 1.0  # Epsilon greedy parameter\n",
        "  epsilon_min = 0.1  # Minimum epsilon greedy parameter\n",
        "  epsilon_max = 1.0  # Maximum epsilon greedy parameter\n",
        "  epsilon_interval = (\n",
        "      epsilon_max - epsilon_min\n",
        "  )  # Rate at which to reduce chance of random action being taken\n",
        "  batch_size = 4096  # Size of batch taken from replay buffer\n",
        "  \n",
        "  # Experience replay buffers\n",
        "  action_history = []\n",
        "  state_history = []\n",
        "  state_next_history = []\n",
        "  episode_reward_history=[]\n",
        "  done_history = []\n",
        "  rewards_history=[]\n",
        "\n",
        "  model=novice\n",
        "  model_target=novice_target\n",
        "  loss_function = keras.losses.MeanSquaredError()\n",
        "  optimizer=keras.optimizers.RMSprop()\n",
        "\n",
        "  running_reward = 0\n",
        "  episode_count = 0\n",
        "  frame_count = 0\n",
        "\n",
        "  # Number of frames to take random action and observe output\n",
        "  epsilon_random_frames = 25000 #beast 50000\n",
        "  # Number of frames for exploration\n",
        "  epsilon_greedy_frames = 1000000.0\n",
        "  # Maximum replay length\n",
        "  # Note: The Deepmind paper suggests 1000000 however this causes memory issues\n",
        "  max_memory_length = 100000\n",
        "  # Train the model after 4 actions\n",
        "  update_after_actions = 10\n",
        "  # How often to update the target network\n",
        "  update_target_network = 10000\n",
        "  # Using huber loss for stability\n",
        "  # We are taking 3 frames in our LSTM\n",
        "  frame_offset=2\n",
        "\n",
        "  noOfEpisodes=900 #beast 100000\n",
        "  for _ in tqdm(range(noOfEpisodes)):\n",
        "      state = np.array(env.reset_m())\n",
        "      episode_reward = 0\n",
        "\n",
        "      for timestep in range(1, max_steps_per_episode):\n",
        "          # env.render(); Adding this line would show the attempts\n",
        "          # of the agent in a pop up window.\n",
        "          frame_count += 1\n",
        "\n",
        "          # Use epsilon-greedy for exploration\n",
        "          if frame_count < epsilon_random_frames or epsilon > np.random.rand(1)[0]:\n",
        "              # Take random action\n",
        "              action = np.random.choice(num_actions)\n",
        "          else:\n",
        "              # Predict action Q-values\n",
        "              # From environment state\n",
        "              state_numpy = np.array(state_history[-3:]).reshape(3,147)\n",
        "              state_numpy = np.array([state_numpy])\n",
        "              action_probs = model(state_numpy, training=False)\n",
        "              # Take best action\n",
        "              action = np.argmax(action_probs[0])\n",
        "\n",
        "          # Decay probability of taking random action\n",
        "          epsilon -= epsilon_interval / epsilon_greedy_frames\n",
        "          epsilon = max(epsilon, epsilon_min)\n",
        "\n",
        "          # Apply the sampled action in our environment\n",
        "          state_next, reward, done, _ = env.step_m(action)\n",
        "          state_next = np.array(state_next)\n",
        "\n",
        "          episode_reward += reward\n",
        "\n",
        "          # Save actions and states in replay buffer\n",
        "          action_history.append(action)\n",
        "          temp_state=dict(state.item(0)) # state is a 0-d numpy array.\n",
        "          state_history.append(temp_state['image'])\n",
        "          temp_state=dict(state_next.item(0)) # state is a 0-d numpy array.\n",
        "          state_next_history.append(temp_state['image'])\n",
        "          done_history.append(done)\n",
        "          rewards_history.append(reward)\n",
        "          state = state_next\n",
        "\n",
        "          # Update every fourth frame and once batch size is over 32\n",
        "          if frame_count % update_after_actions == 0 and len(done_history) > batch_size:\n",
        "              # Get indices of samples for replay buffers\n",
        "              indices = np.random.choice(range(len(done_history)-frame_offset), size=batch_size)+frame_offset\n",
        "              i=indices[0]\n",
        "              # Using list comprehension to sample from replay buffer\n",
        "              state_sample = np.array([ np.array(state_history[i-frame_offset:i+1]).reshape(3,147) for i in indices])\n",
        "              state_next_sample = np.array([ np.array(state_next_history[i-frame_offset:i+1]).reshape(3,147) for i in indices])\n",
        "              rewards_sample = [rewards_history[i] for i in indices]\n",
        "              action_sample = [action_history[i] for i in indices]\n",
        "              # Build the updated Q-values for the sampled future states\n",
        "              # Use the target model for stability\n",
        "              future_rewards = model_target.predict(state_next_sample,verbose=False)\n",
        "              # Q value = reward + discount factor * expected future reward\n",
        "              updated_q_values = rewards_sample + gamma * np.max(\\\n",
        "                  future_rewards, axis=1)\n",
        "              updated_q_values = updated_q_values.astype('float32')\n",
        "              # Create a mask so we only calculate loss on the updated Q-values\n",
        "              masks = tf.one_hot(action_sample, num_actions)\n",
        "              with tf.GradientTape() as tape:    \n",
        "                  q_values = model(state_sample)\n",
        "                  # Apply the masks to the Q-values to get the Q-value for action taken\n",
        "                  q_action = tf.reduce_sum(tf.multiply(q_values, masks), axis=1)\n",
        "                  loss = loss_function(updated_q_values,q_action)\n",
        "              # Backpropagation\n",
        "              grads = tape.gradient(loss, model.trainable_variables)\n",
        "              optimizer.apply_gradients(zip(grads, model.trainable_variables))\n",
        "              \n",
        "\n",
        "          if frame_count % update_target_network == 0:\n",
        "              model.save('Expert1.ml')\n",
        "              # update the the target network with new weights\n",
        "              model_target.set_weights(model.get_weights())\n",
        "              # Log details\n",
        "              template = \"running reward: {:.2f} at episode {}, frame count {}\"\n",
        "              print(template.format(running_reward, episode_count, frame_count))\n",
        "\n",
        "          # Limit the state and reward history\n",
        "          if len(rewards_history) > max_memory_length:\n",
        "              del rewards_history[:1]\n",
        "              del state_history[:1]\n",
        "              del state_next_history[:1]\n",
        "              del action_history[:1]\n",
        "              del done_history[:1]\n",
        "          if done:\n",
        "              break\n",
        "\n",
        "  # Update running reward to check condition for solving\n",
        "      episode_reward_history.append(episode_reward)\n",
        "      running_reward = np.mean(episode_reward_history)\n",
        "      reward_plot.append(episode_reward/timestep)\n",
        "      episode_count += 1\n",
        "  plotProgress(reward_plot)\n",
        "\n",
        "  model.save('Expert.ml')"
      ],
      "metadata": {
        "id": "POlhmyp7s9br"
      },
      "execution_count": 43,
      "outputs": []
    },
    {
      "cell_type": "code",
      "source": [
        "max_steps_per_episode = 10 # If the agent doesn't terminate normally we use this var to terminate\n",
        "reward_plot=[]\n",
        "seed = 42\n",
        "env = DoorKeyEnv(size=6)\n",
        "env.seed(seed)\n",
        "novice=create()\n",
        "novice_target=create()\n",
        "loss_function = keras.losses.MeanSquaredError()\n",
        "optimizer=keras.optimizers.RMSprop()\n",
        "gamma = 0.99  # Discount factor for past rewards\n",
        "debug=True\n",
        "\n",
        "mixed_algo()\n",
        "og_algo()"
      ],
      "metadata": {
        "colab": {
          "base_uri": "https://localhost:8080/",
          "height": 1000
        },
        "id": "MtevuKUjQnW_",
        "outputId": "ae786f64-92b2-4c4d-ec0c-26aaf7354741"
      },
      "execution_count": 24,
      "outputs": [
        {
          "output_type": "stream",
          "name": "stderr",
          "text": [
            "WARNING:tensorflow:No training configuration found in save file, so the model was *not* compiled. Compile it manually.\n",
            "WARNING:tensorflow:No training configuration found in save file, so the model was *not* compiled. Compile it manually.\n",
            "  1%|          | 1/100 [00:01<02:04,  1.25s/it]"
          ]
        },
        {
          "output_type": "stream",
          "name": "stdout",
          "text": [
            "[[<tf.Tensor: shape=(), dtype=float32, numpy=0.5>, 0], [<tf.Tensor: shape=(), dtype=float32, numpy=0.5>, 0], [<tf.Tensor: shape=(), dtype=float32, numpy=0.5>, 0], [<tf.Tensor: shape=(), dtype=float32, numpy=0.5>, 0], [<tf.Tensor: shape=(), dtype=float32, numpy=0.5>, 0], [<tf.Tensor: shape=(), dtype=float32, numpy=0.5>, 0], [<tf.Tensor: shape=(), dtype=float32, numpy=0.5>, 0], [<tf.Tensor: shape=(), dtype=float32, numpy=0.5>, 0], [<tf.Tensor: shape=(), dtype=float32, numpy=0.5>, 0]]\n",
            "See who you trust -  [0.3956813, 0.60431874]\n"
          ]
        },
        {
          "output_type": "stream",
          "name": "stderr",
          "text": [
            "\r  2%|▏         | 2/100 [00:02<02:01,  1.24s/it]"
          ]
        },
        {
          "output_type": "stream",
          "name": "stdout",
          "text": [
            "[[<tf.Tensor: shape=(), dtype=float32, numpy=0.1281944>, 0], [<tf.Tensor: shape=(), dtype=float32, numpy=0.1281944>, 0], [<tf.Tensor: shape=(), dtype=float32, numpy=0.1281944>, 0], [<tf.Tensor: shape=(), dtype=float32, numpy=0.1281944>, 0], [<tf.Tensor: shape=(), dtype=float32, numpy=0.1281944>, 0], [<tf.Tensor: shape=(), dtype=float32, numpy=0.1281944>, 0], [<tf.Tensor: shape=(), dtype=float32, numpy=0.1281944>, 0], [<tf.Tensor: shape=(), dtype=float32, numpy=0.1281944>, 0], [<tf.Tensor: shape=(), dtype=float32, numpy=0.1281944>, 0]]\n",
            "See who you trust -  [0.47020462, 0.5297954]\n"
          ]
        },
        {
          "output_type": "stream",
          "name": "stderr",
          "text": [
            "\r  3%|▎         | 3/100 [00:03<02:02,  1.26s/it]"
          ]
        },
        {
          "output_type": "stream",
          "name": "stdout",
          "text": [
            "[[<tf.Tensor: shape=(), dtype=float32, numpy=0.1402986>, 0], [<tf.Tensor: shape=(), dtype=float32, numpy=0.1402986>, 0], [<tf.Tensor: shape=(), dtype=float32, numpy=0.1402986>, 0], [<tf.Tensor: shape=(), dtype=float32, numpy=0.1402986>, 0], [<tf.Tensor: shape=(), dtype=float32, numpy=0.1402986>, 0], [<tf.Tensor: shape=(), dtype=float32, numpy=0.1402986>, 0], [<tf.Tensor: shape=(), dtype=float32, numpy=0.1402986>, 0], [<tf.Tensor: shape=(), dtype=float32, numpy=0.1402986>, 0], [<tf.Tensor: shape=(), dtype=float32, numpy=0.1402986>, 0]]\n",
            "See who you trust -  [0.4785743, 0.5214257]\n"
          ]
        },
        {
          "output_type": "stream",
          "name": "stderr",
          "text": [
            "\r  4%|▍         | 4/100 [00:05<02:00,  1.26s/it]"
          ]
        },
        {
          "output_type": "stream",
          "name": "stdout",
          "text": [
            "[[<tf.Tensor: shape=(), dtype=float32, numpy=0.11302304>, 0], [<tf.Tensor: shape=(), dtype=float32, numpy=0.11302304>, 0], [<tf.Tensor: shape=(), dtype=float32, numpy=0.11302304>, 0], [<tf.Tensor: shape=(), dtype=float32, numpy=0.11302304>, 0], [<tf.Tensor: shape=(), dtype=float32, numpy=0.11302304>, 0], [<tf.Tensor: shape=(), dtype=float32, numpy=0.11302304>, 0], [<tf.Tensor: shape=(), dtype=float32, numpy=0.11302304>, 0], [<tf.Tensor: shape=(), dtype=float32, numpy=0.11302304>, 0], [<tf.Tensor: shape=(), dtype=float32, numpy=0.11302304>, 0]]\n",
            "See who you trust -  [0.48194498, 0.518055]\n"
          ]
        },
        {
          "output_type": "stream",
          "name": "stderr",
          "text": [
            "\r  5%|▌         | 5/100 [00:06<01:59,  1.25s/it]"
          ]
        },
        {
          "output_type": "stream",
          "name": "stdout",
          "text": [
            "[[<tf.Tensor: shape=(), dtype=float32, numpy=0.113819085>, 0], [<tf.Tensor: shape=(), dtype=float32, numpy=0.113819085>, 0], [<tf.Tensor: shape=(), dtype=float32, numpy=0.113819085>, 0], [<tf.Tensor: shape=(), dtype=float32, numpy=0.113819085>, 0], [<tf.Tensor: shape=(), dtype=float32, numpy=0.113819085>, 0], [<tf.Tensor: shape=(), dtype=float32, numpy=0.113819085>, 0], [<tf.Tensor: shape=(), dtype=float32, numpy=0.113819085>, 0], [<tf.Tensor: shape=(), dtype=float32, numpy=0.113819085>, 0], [<tf.Tensor: shape=(), dtype=float32, numpy=0.113819085>, 0]]\n",
            "See who you trust -  [0.4822093, 0.51779073]\n"
          ]
        },
        {
          "output_type": "stream",
          "name": "stderr",
          "text": [
            "\r  6%|▌         | 6/100 [00:07<01:56,  1.24s/it]"
          ]
        },
        {
          "output_type": "stream",
          "name": "stdout",
          "text": [
            "[[<tf.Tensor: shape=(), dtype=float32, numpy=0.1562281>, 0], [<tf.Tensor: shape=(), dtype=float32, numpy=0.1562281>, 0], [<tf.Tensor: shape=(), dtype=float32, numpy=0.1562281>, 0], [<tf.Tensor: shape=(), dtype=float32, numpy=0.1562281>, 0], [<tf.Tensor: shape=(), dtype=float32, numpy=0.1562281>, 0], [<tf.Tensor: shape=(), dtype=float32, numpy=0.1562281>, 0], [<tf.Tensor: shape=(), dtype=float32, numpy=0.1562281>, 0], [<tf.Tensor: shape=(), dtype=float32, numpy=0.1562281>, 0], [<tf.Tensor: shape=(), dtype=float32, numpy=0.1562281>, 0]]\n",
            "See who you trust -  [0.4725776, 0.5274224]\n"
          ]
        },
        {
          "output_type": "stream",
          "name": "stderr",
          "text": [
            "\r  7%|▋         | 7/100 [00:08<01:54,  1.24s/it]"
          ]
        },
        {
          "output_type": "stream",
          "name": "stdout",
          "text": [
            "[[<tf.Tensor: shape=(), dtype=float32, numpy=0.11160683>, 0], [<tf.Tensor: shape=(), dtype=float32, numpy=0.11160683>, 0], [<tf.Tensor: shape=(), dtype=float32, numpy=0.11160683>, 0], [<tf.Tensor: shape=(), dtype=float32, numpy=0.11160683>, 0], [<tf.Tensor: shape=(), dtype=float32, numpy=0.11160683>, 0], [<tf.Tensor: shape=(), dtype=float32, numpy=0.11160683>, 0], [<tf.Tensor: shape=(), dtype=float32, numpy=0.11160683>, 0], [<tf.Tensor: shape=(), dtype=float32, numpy=0.11160683>, 0], [<tf.Tensor: shape=(), dtype=float32, numpy=0.11160683>, 0]]\n",
            "See who you trust -  [0.48024833, 0.51975167]\n"
          ]
        },
        {
          "output_type": "stream",
          "name": "stderr",
          "text": [
            "\r  8%|▊         | 8/100 [00:09<01:53,  1.24s/it]"
          ]
        },
        {
          "output_type": "stream",
          "name": "stdout",
          "text": [
            "[[<tf.Tensor: shape=(), dtype=float32, numpy=0.15559277>, 0], [<tf.Tensor: shape=(), dtype=float32, numpy=0.15559277>, 0], [<tf.Tensor: shape=(), dtype=float32, numpy=0.15559277>, 0], [<tf.Tensor: shape=(), dtype=float32, numpy=0.15559277>, 0], [<tf.Tensor: shape=(), dtype=float32, numpy=0.15559277>, 0], [<tf.Tensor: shape=(), dtype=float32, numpy=0.15559277>, 0], [<tf.Tensor: shape=(), dtype=float32, numpy=0.15559277>, 0], [<tf.Tensor: shape=(), dtype=float32, numpy=0.15559277>, 0], [<tf.Tensor: shape=(), dtype=float32, numpy=0.15559277>, 0]]\n",
            "See who you trust -  [0.4741872, 0.5258128]\n"
          ]
        },
        {
          "output_type": "stream",
          "name": "stderr",
          "text": [
            "\r  9%|▉         | 9/100 [00:11<01:53,  1.24s/it]"
          ]
        },
        {
          "output_type": "stream",
          "name": "stdout",
          "text": [
            "[[<tf.Tensor: shape=(), dtype=float32, numpy=0.17676419>, 0], [<tf.Tensor: shape=(), dtype=float32, numpy=0.17676419>, 0], [<tf.Tensor: shape=(), dtype=float32, numpy=0.17676419>, 0], [<tf.Tensor: shape=(), dtype=float32, numpy=0.17676419>, 0], [<tf.Tensor: shape=(), dtype=float32, numpy=0.17676419>, 0], [<tf.Tensor: shape=(), dtype=float32, numpy=0.17676419>, 0], [<tf.Tensor: shape=(), dtype=float32, numpy=0.17676419>, 0], [<tf.Tensor: shape=(), dtype=float32, numpy=0.17676419>, 0], [<tf.Tensor: shape=(), dtype=float32, numpy=0.17676419>, 0]]\n",
            "See who you trust -  [0.47398904, 0.52601093]\n"
          ]
        },
        {
          "output_type": "stream",
          "name": "stderr",
          "text": [
            "\r 10%|█         | 10/100 [00:12<01:51,  1.24s/it]"
          ]
        },
        {
          "output_type": "stream",
          "name": "stdout",
          "text": [
            "[[<tf.Tensor: shape=(), dtype=float32, numpy=0.15668258>, 0], [<tf.Tensor: shape=(), dtype=float32, numpy=0.15668258>, 0], [<tf.Tensor: shape=(), dtype=float32, numpy=0.15668258>, 0], [<tf.Tensor: shape=(), dtype=float32, numpy=0.15668258>, 0], [<tf.Tensor: shape=(), dtype=float32, numpy=0.15668258>, 0], [<tf.Tensor: shape=(), dtype=float32, numpy=0.15668258>, 0], [<tf.Tensor: shape=(), dtype=float32, numpy=0.15668258>, 0], [<tf.Tensor: shape=(), dtype=float32, numpy=0.15668258>, 0], [<tf.Tensor: shape=(), dtype=float32, numpy=0.15668258>, 0]]\n",
            "See who you trust -  [0.47502032, 0.5249797]\n"
          ]
        },
        {
          "output_type": "stream",
          "name": "stderr",
          "text": [
            "\r 11%|█         | 11/100 [00:13<01:52,  1.26s/it]"
          ]
        },
        {
          "output_type": "stream",
          "name": "stdout",
          "text": [
            "[[<tf.Tensor: shape=(), dtype=float32, numpy=0.17707476>, 0], [<tf.Tensor: shape=(), dtype=float32, numpy=0.17707476>, 0], [<tf.Tensor: shape=(), dtype=float32, numpy=0.17707476>, 0], [<tf.Tensor: shape=(), dtype=float32, numpy=0.17707476>, 0], [<tf.Tensor: shape=(), dtype=float32, numpy=0.17707476>, 0], [<tf.Tensor: shape=(), dtype=float32, numpy=0.17707476>, 0], [<tf.Tensor: shape=(), dtype=float32, numpy=0.17707476>, 0], [<tf.Tensor: shape=(), dtype=float32, numpy=0.17707476>, 0], [<tf.Tensor: shape=(), dtype=float32, numpy=0.17707476>, 0]]\n",
            "See who you trust -  [0.474041, 0.52595896]\n"
          ]
        },
        {
          "output_type": "stream",
          "name": "stderr",
          "text": [
            "\r 12%|█▏        | 12/100 [00:15<01:50,  1.26s/it]"
          ]
        },
        {
          "output_type": "stream",
          "name": "stdout",
          "text": [
            "[[<tf.Tensor: shape=(), dtype=float32, numpy=0.15669975>, 0], [<tf.Tensor: shape=(), dtype=float32, numpy=0.15669975>, 0], [<tf.Tensor: shape=(), dtype=float32, numpy=0.15669975>, 0], [<tf.Tensor: shape=(), dtype=float32, numpy=0.15669975>, 0], [<tf.Tensor: shape=(), dtype=float32, numpy=0.15669975>, 0], [<tf.Tensor: shape=(), dtype=float32, numpy=0.15669975>, 0], [<tf.Tensor: shape=(), dtype=float32, numpy=0.15669975>, 0], [<tf.Tensor: shape=(), dtype=float32, numpy=0.15669975>, 0], [<tf.Tensor: shape=(), dtype=float32, numpy=0.15669975>, 0]]\n",
            "See who you trust -  [0.47156873, 0.5284313]\n"
          ]
        },
        {
          "output_type": "stream",
          "name": "stderr",
          "text": [
            "\r 13%|█▎        | 13/100 [00:16<01:49,  1.26s/it]"
          ]
        },
        {
          "output_type": "stream",
          "name": "stdout",
          "text": [
            "[[<tf.Tensor: shape=(), dtype=float32, numpy=0.15588252>, 0], [<tf.Tensor: shape=(), dtype=float32, numpy=0.15588252>, 0], [<tf.Tensor: shape=(), dtype=float32, numpy=0.15588252>, 0], [<tf.Tensor: shape=(), dtype=float32, numpy=0.15588252>, 0], [<tf.Tensor: shape=(), dtype=float32, numpy=0.15588252>, 0], [<tf.Tensor: shape=(), dtype=float32, numpy=0.15588252>, 0], [<tf.Tensor: shape=(), dtype=float32, numpy=0.15588252>, 0], [<tf.Tensor: shape=(), dtype=float32, numpy=0.15588252>, 0], [<tf.Tensor: shape=(), dtype=float32, numpy=0.15588252>, 0]]\n",
            "See who you trust -  [0.47142705, 0.5285729]\n"
          ]
        },
        {
          "output_type": "stream",
          "name": "stderr",
          "text": [
            "\r 14%|█▍        | 14/100 [00:17<01:47,  1.25s/it]"
          ]
        },
        {
          "output_type": "stream",
          "name": "stdout",
          "text": [
            "[[<tf.Tensor: shape=(), dtype=float32, numpy=0.114838794>, 0], [<tf.Tensor: shape=(), dtype=float32, numpy=0.114838794>, 0], [<tf.Tensor: shape=(), dtype=float32, numpy=0.114838794>, 0], [<tf.Tensor: shape=(), dtype=float32, numpy=0.114838794>, 0], [<tf.Tensor: shape=(), dtype=float32, numpy=0.114838794>, 0], [<tf.Tensor: shape=(), dtype=float32, numpy=0.114838794>, 0], [<tf.Tensor: shape=(), dtype=float32, numpy=0.114838794>, 0], [<tf.Tensor: shape=(), dtype=float32, numpy=0.114838794>, 0], [<tf.Tensor: shape=(), dtype=float32, numpy=0.114838794>, 0]]\n",
            "See who you trust -  [0.48087707, 0.5191229]\n"
          ]
        },
        {
          "output_type": "stream",
          "name": "stderr",
          "text": [
            "\r 15%|█▌        | 15/100 [00:18<01:46,  1.26s/it]"
          ]
        },
        {
          "output_type": "stream",
          "name": "stdout",
          "text": [
            "[[<tf.Tensor: shape=(), dtype=float32, numpy=0.179258>, 0], [<tf.Tensor: shape=(), dtype=float32, numpy=0.179258>, 0], [<tf.Tensor: shape=(), dtype=float32, numpy=0.179258>, 0], [<tf.Tensor: shape=(), dtype=float32, numpy=0.179258>, 0], [<tf.Tensor: shape=(), dtype=float32, numpy=0.179258>, 0], [<tf.Tensor: shape=(), dtype=float32, numpy=0.179258>, 0], [<tf.Tensor: shape=(), dtype=float32, numpy=0.179258>, 0], [<tf.Tensor: shape=(), dtype=float32, numpy=0.179258>, 0], [<tf.Tensor: shape=(), dtype=float32, numpy=0.179258>, 0]]\n",
            "See who you trust -  [0.47241983, 0.52758014]\n"
          ]
        },
        {
          "output_type": "stream",
          "name": "stderr",
          "text": [
            "\r 16%|█▌        | 16/100 [00:20<01:45,  1.25s/it]"
          ]
        },
        {
          "output_type": "stream",
          "name": "stdout",
          "text": [
            "[[<tf.Tensor: shape=(), dtype=float32, numpy=0.15616386>, 0], [<tf.Tensor: shape=(), dtype=float32, numpy=0.15616386>, 0], [<tf.Tensor: shape=(), dtype=float32, numpy=0.15616386>, 0], [<tf.Tensor: shape=(), dtype=float32, numpy=0.15616386>, 0], [<tf.Tensor: shape=(), dtype=float32, numpy=0.15616386>, 0], [<tf.Tensor: shape=(), dtype=float32, numpy=0.15616386>, 0], [<tf.Tensor: shape=(), dtype=float32, numpy=0.15616386>, 0], [<tf.Tensor: shape=(), dtype=float32, numpy=0.15616386>, 0], [<tf.Tensor: shape=(), dtype=float32, numpy=0.15616386>, 0]]\n",
            "See who you trust -  [0.47147584, 0.52852416]\n"
          ]
        },
        {
          "output_type": "stream",
          "name": "stderr",
          "text": [
            "\r 17%|█▋        | 17/100 [00:21<01:44,  1.26s/it]"
          ]
        },
        {
          "output_type": "stream",
          "name": "stdout",
          "text": [
            "[[<tf.Tensor: shape=(), dtype=float32, numpy=0.15585181>, 0], [<tf.Tensor: shape=(), dtype=float32, numpy=0.15585181>, 0], [<tf.Tensor: shape=(), dtype=float32, numpy=0.15585181>, 0], [<tf.Tensor: shape=(), dtype=float32, numpy=0.15585181>, 0], [<tf.Tensor: shape=(), dtype=float32, numpy=0.15585181>, 0], [<tf.Tensor: shape=(), dtype=float32, numpy=0.15585181>, 0], [<tf.Tensor: shape=(), dtype=float32, numpy=0.15585181>, 0], [<tf.Tensor: shape=(), dtype=float32, numpy=0.15585181>, 0], [<tf.Tensor: shape=(), dtype=float32, numpy=0.15585181>, 0]]\n",
            "See who you trust -  [0.47142172, 0.5285783]\n"
          ]
        },
        {
          "output_type": "stream",
          "name": "stderr",
          "text": [
            "\r 18%|█▊        | 18/100 [00:22<01:42,  1.25s/it]"
          ]
        },
        {
          "output_type": "stream",
          "name": "stdout",
          "text": [
            "[[<tf.Tensor: shape=(), dtype=float32, numpy=0.11483749>, 0], [<tf.Tensor: shape=(), dtype=float32, numpy=0.11483749>, 0], [<tf.Tensor: shape=(), dtype=float32, numpy=0.11483749>, 0], [<tf.Tensor: shape=(), dtype=float32, numpy=0.11483749>, 0], [<tf.Tensor: shape=(), dtype=float32, numpy=0.11483749>, 0], [<tf.Tensor: shape=(), dtype=float32, numpy=0.11483749>, 0], [<tf.Tensor: shape=(), dtype=float32, numpy=0.11483749>, 0], [<tf.Tensor: shape=(), dtype=float32, numpy=0.11483749>, 0], [<tf.Tensor: shape=(), dtype=float32, numpy=0.11483749>, 0]]\n",
            "See who you trust -  [0.4821509, 0.51784915]\n"
          ]
        },
        {
          "output_type": "stream",
          "name": "stderr",
          "text": [
            "\r 19%|█▉        | 19/100 [00:23<01:42,  1.27s/it]"
          ]
        },
        {
          "output_type": "stream",
          "name": "stdout",
          "text": [
            "[[<tf.Tensor: shape=(), dtype=float32, numpy=0.16754079>, 0], [<tf.Tensor: shape=(), dtype=float32, numpy=0.16754079>, 0], [<tf.Tensor: shape=(), dtype=float32, numpy=0.16754079>, 0], [<tf.Tensor: shape=(), dtype=float32, numpy=0.16754079>, 0], [<tf.Tensor: shape=(), dtype=float32, numpy=0.16754079>, 0], [<tf.Tensor: shape=(), dtype=float32, numpy=0.16754079>, 0], [<tf.Tensor: shape=(), dtype=float32, numpy=0.16754079>, 0], [<tf.Tensor: shape=(), dtype=float32, numpy=0.16754079>, 0], [<tf.Tensor: shape=(), dtype=float32, numpy=0.16754079>, 0]]\n",
            "See who you trust -  [0.4761847, 0.5238153]\n"
          ]
        },
        {
          "output_type": "stream",
          "name": "stderr",
          "text": [
            "\r 20%|██        | 20/100 [00:25<01:42,  1.28s/it]"
          ]
        },
        {
          "output_type": "stream",
          "name": "stdout",
          "text": [
            "[[<tf.Tensor: shape=(), dtype=float32, numpy=0.15740837>, 0], [<tf.Tensor: shape=(), dtype=float32, numpy=0.15740837>, 0], [<tf.Tensor: shape=(), dtype=float32, numpy=0.15740837>, 0], [<tf.Tensor: shape=(), dtype=float32, numpy=0.15740837>, 0], [<tf.Tensor: shape=(), dtype=float32, numpy=0.15740837>, 0], [<tf.Tensor: shape=(), dtype=float32, numpy=0.15740837>, 0], [<tf.Tensor: shape=(), dtype=float32, numpy=0.15740837>, 0], [<tf.Tensor: shape=(), dtype=float32, numpy=0.15740837>, 0], [<tf.Tensor: shape=(), dtype=float32, numpy=0.15740837>, 0]]\n",
            "See who you trust -  [0.47690704, 0.523093]\n"
          ]
        },
        {
          "output_type": "stream",
          "name": "stderr",
          "text": [
            "\r 21%|██        | 21/100 [00:26<01:40,  1.27s/it]"
          ]
        },
        {
          "output_type": "stream",
          "name": "stdout",
          "text": [
            "[[<tf.Tensor: shape=(), dtype=float32, numpy=0.11617371>, 0], [<tf.Tensor: shape=(), dtype=float32, numpy=0.11617371>, 0], [<tf.Tensor: shape=(), dtype=float32, numpy=0.11617371>, 0], [<tf.Tensor: shape=(), dtype=float32, numpy=0.11617371>, 0], [<tf.Tensor: shape=(), dtype=float32, numpy=0.11617371>, 0], [<tf.Tensor: shape=(), dtype=float32, numpy=0.11617371>, 0], [<tf.Tensor: shape=(), dtype=float32, numpy=0.11617371>, 0], [<tf.Tensor: shape=(), dtype=float32, numpy=0.11617371>, 0], [<tf.Tensor: shape=(), dtype=float32, numpy=0.11617371>, 0]]\n",
            "See who you trust -  [0.4800255, 0.51997447]\n"
          ]
        },
        {
          "output_type": "stream",
          "name": "stderr",
          "text": [
            "\r 22%|██▏       | 22/100 [00:27<01:38,  1.27s/it]"
          ]
        },
        {
          "output_type": "stream",
          "name": "stdout",
          "text": [
            "[[<tf.Tensor: shape=(), dtype=float32, numpy=0.11693336>, 0], [<tf.Tensor: shape=(), dtype=float32, numpy=0.11693336>, 0], [<tf.Tensor: shape=(), dtype=float32, numpy=0.11693336>, 0], [<tf.Tensor: shape=(), dtype=float32, numpy=0.11693336>, 0], [<tf.Tensor: shape=(), dtype=float32, numpy=0.11693336>, 0], [<tf.Tensor: shape=(), dtype=float32, numpy=0.11693336>, 0], [<tf.Tensor: shape=(), dtype=float32, numpy=0.11693336>, 0], [<tf.Tensor: shape=(), dtype=float32, numpy=0.11693336>, 0], [<tf.Tensor: shape=(), dtype=float32, numpy=0.11693336>, 0]]\n",
            "See who you trust -  [0.4815428, 0.5184572]\n"
          ]
        },
        {
          "output_type": "stream",
          "name": "stderr",
          "text": [
            "\r 23%|██▎       | 23/100 [00:28<01:36,  1.25s/it]"
          ]
        },
        {
          "output_type": "stream",
          "name": "stdout",
          "text": [
            "[[<tf.Tensor: shape=(), dtype=float32, numpy=0.15917957>, 0], [<tf.Tensor: shape=(), dtype=float32, numpy=0.15917957>, 0], [<tf.Tensor: shape=(), dtype=float32, numpy=0.15917957>, 0], [<tf.Tensor: shape=(), dtype=float32, numpy=0.15917957>, 0], [<tf.Tensor: shape=(), dtype=float32, numpy=0.15917957>, 0], [<tf.Tensor: shape=(), dtype=float32, numpy=0.15917957>, 0], [<tf.Tensor: shape=(), dtype=float32, numpy=0.15917957>, 0], [<tf.Tensor: shape=(), dtype=float32, numpy=0.15917957>, 0], [<tf.Tensor: shape=(), dtype=float32, numpy=0.15917957>, 0]]\n",
            "See who you trust -  [0.4719978, 0.5280022]\n"
          ]
        },
        {
          "output_type": "stream",
          "name": "stderr",
          "text": [
            "\r 24%|██▍       | 24/100 [00:30<01:36,  1.27s/it]"
          ]
        },
        {
          "output_type": "stream",
          "name": "stdout",
          "text": [
            "[[<tf.Tensor: shape=(), dtype=float32, numpy=0.17594804>, 0], [<tf.Tensor: shape=(), dtype=float32, numpy=0.17594804>, 0], [<tf.Tensor: shape=(), dtype=float32, numpy=0.17594804>, 0], [<tf.Tensor: shape=(), dtype=float32, numpy=0.17594804>, 0], [<tf.Tensor: shape=(), dtype=float32, numpy=0.17594804>, 0], [<tf.Tensor: shape=(), dtype=float32, numpy=0.17594804>, 0], [<tf.Tensor: shape=(), dtype=float32, numpy=0.17594804>, 0], [<tf.Tensor: shape=(), dtype=float32, numpy=0.17594804>, 0], [<tf.Tensor: shape=(), dtype=float32, numpy=0.17594804>, 0]]\n",
            "See who you trust -  [0.47190315, 0.52809685]\n"
          ]
        },
        {
          "output_type": "stream",
          "name": "stderr",
          "text": [
            "\r 25%|██▌       | 25/100 [00:31<01:34,  1.26s/it]"
          ]
        },
        {
          "output_type": "stream",
          "name": "stdout",
          "text": [
            "[[<tf.Tensor: shape=(), dtype=float32, numpy=0.15599306>, 0], [<tf.Tensor: shape=(), dtype=float32, numpy=0.15599306>, 0], [<tf.Tensor: shape=(), dtype=float32, numpy=0.15599306>, 0], [<tf.Tensor: shape=(), dtype=float32, numpy=0.15599306>, 0], [<tf.Tensor: shape=(), dtype=float32, numpy=0.15599306>, 0], [<tf.Tensor: shape=(), dtype=float32, numpy=0.15599306>, 0], [<tf.Tensor: shape=(), dtype=float32, numpy=0.15599306>, 0], [<tf.Tensor: shape=(), dtype=float32, numpy=0.15599306>, 0], [<tf.Tensor: shape=(), dtype=float32, numpy=0.15599306>, 0]]\n",
            "See who you trust -  [0.47317415, 0.52682585]\n"
          ]
        },
        {
          "output_type": "stream",
          "name": "stderr",
          "text": [
            "\r 26%|██▌       | 26/100 [00:32<01:33,  1.26s/it]"
          ]
        },
        {
          "output_type": "stream",
          "name": "stdout",
          "text": [
            "[[<tf.Tensor: shape=(), dtype=float32, numpy=0.15641321>, 0], [<tf.Tensor: shape=(), dtype=float32, numpy=0.15641321>, 0], [<tf.Tensor: shape=(), dtype=float32, numpy=0.15641321>, 0], [<tf.Tensor: shape=(), dtype=float32, numpy=0.15641321>, 0], [<tf.Tensor: shape=(), dtype=float32, numpy=0.15641321>, 0], [<tf.Tensor: shape=(), dtype=float32, numpy=0.15641321>, 0], [<tf.Tensor: shape=(), dtype=float32, numpy=0.15641321>, 0], [<tf.Tensor: shape=(), dtype=float32, numpy=0.15641321>, 0], [<tf.Tensor: shape=(), dtype=float32, numpy=0.15641321>, 0]]\n",
            "See who you trust -  [0.4749676, 0.52503234]\n"
          ]
        },
        {
          "output_type": "stream",
          "name": "stderr",
          "text": [
            "\r 27%|██▋       | 27/100 [00:33<01:32,  1.27s/it]"
          ]
        },
        {
          "output_type": "stream",
          "name": "stdout",
          "text": [
            "[[<tf.Tensor: shape=(), dtype=float32, numpy=0.15700606>, 0], [<tf.Tensor: shape=(), dtype=float32, numpy=0.15700606>, 0], [<tf.Tensor: shape=(), dtype=float32, numpy=0.15700606>, 0], [<tf.Tensor: shape=(), dtype=float32, numpy=0.15700606>, 0], [<tf.Tensor: shape=(), dtype=float32, numpy=0.15700606>, 0], [<tf.Tensor: shape=(), dtype=float32, numpy=0.15700606>, 0], [<tf.Tensor: shape=(), dtype=float32, numpy=0.15700606>, 0], [<tf.Tensor: shape=(), dtype=float32, numpy=0.15700606>, 0], [<tf.Tensor: shape=(), dtype=float32, numpy=0.15700606>, 0]]\n",
            "See who you trust -  [0.476824, 0.5231761]\n"
          ]
        },
        {
          "output_type": "stream",
          "name": "stderr",
          "text": [
            "\r 28%|██▊       | 28/100 [00:35<01:30,  1.26s/it]"
          ]
        },
        {
          "output_type": "stream",
          "name": "stdout",
          "text": [
            "[[<tf.Tensor: shape=(), dtype=float32, numpy=0.17774712>, 0], [<tf.Tensor: shape=(), dtype=float32, numpy=0.17774712>, 0], [<tf.Tensor: shape=(), dtype=float32, numpy=0.17774712>, 0], [<tf.Tensor: shape=(), dtype=float32, numpy=0.17774712>, 0], [<tf.Tensor: shape=(), dtype=float32, numpy=0.17774712>, 0], [<tf.Tensor: shape=(), dtype=float32, numpy=0.17774712>, 0], [<tf.Tensor: shape=(), dtype=float32, numpy=0.17774712>, 0], [<tf.Tensor: shape=(), dtype=float32, numpy=0.17774712>, 0], [<tf.Tensor: shape=(), dtype=float32, numpy=0.17774712>, 0]]\n",
            "See who you trust -  [0.47023547, 0.52976453]\n"
          ]
        },
        {
          "output_type": "stream",
          "name": "stderr",
          "text": [
            "\r 29%|██▉       | 29/100 [00:36<01:29,  1.26s/it]"
          ]
        },
        {
          "output_type": "stream",
          "name": "stdout",
          "text": [
            "[[<tf.Tensor: shape=(), dtype=float32, numpy=0.15544179>, 0], [<tf.Tensor: shape=(), dtype=float32, numpy=0.15544179>, 0], [<tf.Tensor: shape=(), dtype=float32, numpy=0.15544179>, 0], [<tf.Tensor: shape=(), dtype=float32, numpy=0.15544179>, 0], [<tf.Tensor: shape=(), dtype=float32, numpy=0.15544179>, 0], [<tf.Tensor: shape=(), dtype=float32, numpy=0.15544179>, 0], [<tf.Tensor: shape=(), dtype=float32, numpy=0.15544179>, 0], [<tf.Tensor: shape=(), dtype=float32, numpy=0.15544179>, 0], [<tf.Tensor: shape=(), dtype=float32, numpy=0.15544179>, 0]]\n",
            "See who you trust -  [0.4747776, 0.5252224]\n"
          ]
        },
        {
          "output_type": "stream",
          "name": "stderr",
          "text": [
            "\r 30%|███       | 30/100 [00:37<01:28,  1.26s/it]"
          ]
        },
        {
          "output_type": "stream",
          "name": "stdout",
          "text": [
            "[[<tf.Tensor: shape=(), dtype=float32, numpy=0.16497867>, 0], [<tf.Tensor: shape=(), dtype=float32, numpy=0.16497867>, 0], [<tf.Tensor: shape=(), dtype=float32, numpy=0.16497867>, 0], [<tf.Tensor: shape=(), dtype=float32, numpy=0.16497867>, 0], [<tf.Tensor: shape=(), dtype=float32, numpy=0.16497867>, 0], [<tf.Tensor: shape=(), dtype=float32, numpy=0.16497867>, 0], [<tf.Tensor: shape=(), dtype=float32, numpy=0.16497867>, 0], [<tf.Tensor: shape=(), dtype=float32, numpy=0.16497867>, 0], [<tf.Tensor: shape=(), dtype=float32, numpy=0.16497867>, 0]]\n",
            "See who you trust -  [0.4756992, 0.5243009]\n"
          ]
        },
        {
          "output_type": "stream",
          "name": "stderr",
          "text": [
            "\r 31%|███       | 31/100 [00:38<01:26,  1.25s/it]"
          ]
        },
        {
          "output_type": "stream",
          "name": "stdout",
          "text": [
            "[[<tf.Tensor: shape=(), dtype=float32, numpy=0.15724789>, 0], [<tf.Tensor: shape=(), dtype=float32, numpy=0.15724789>, 0], [<tf.Tensor: shape=(), dtype=float32, numpy=0.15724789>, 0], [<tf.Tensor: shape=(), dtype=float32, numpy=0.15724789>, 0], [<tf.Tensor: shape=(), dtype=float32, numpy=0.15724789>, 0], [<tf.Tensor: shape=(), dtype=float32, numpy=0.15724789>, 0], [<tf.Tensor: shape=(), dtype=float32, numpy=0.15724789>, 0], [<tf.Tensor: shape=(), dtype=float32, numpy=0.15724789>, 0], [<tf.Tensor: shape=(), dtype=float32, numpy=0.15724789>, 0]]\n",
            "See who you trust -  [0.4734056, 0.5265944]\n"
          ]
        },
        {
          "output_type": "stream",
          "name": "stderr",
          "text": [
            "\r 32%|███▏      | 32/100 [00:40<01:25,  1.25s/it]"
          ]
        },
        {
          "output_type": "stream",
          "name": "stdout",
          "text": [
            "[[<tf.Tensor: shape=(), dtype=float32, numpy=0.115320764>, 0], [<tf.Tensor: shape=(), dtype=float32, numpy=0.115320764>, 0], [<tf.Tensor: shape=(), dtype=float32, numpy=0.115320764>, 0], [<tf.Tensor: shape=(), dtype=float32, numpy=0.115320764>, 0], [<tf.Tensor: shape=(), dtype=float32, numpy=0.115320764>, 0], [<tf.Tensor: shape=(), dtype=float32, numpy=0.115320764>, 0], [<tf.Tensor: shape=(), dtype=float32, numpy=0.115320764>, 0], [<tf.Tensor: shape=(), dtype=float32, numpy=0.115320764>, 0], [<tf.Tensor: shape=(), dtype=float32, numpy=0.115320764>, 0]]\n",
            "See who you trust -  [0.47976384, 0.5202362]\n"
          ]
        },
        {
          "output_type": "stream",
          "name": "stderr",
          "text": [
            "\r 33%|███▎      | 33/100 [00:41<01:23,  1.24s/it]"
          ]
        },
        {
          "output_type": "stream",
          "name": "stdout",
          "text": [
            "[[<tf.Tensor: shape=(), dtype=float32, numpy=0.15859151>, 0], [<tf.Tensor: shape=(), dtype=float32, numpy=0.15859151>, 0], [<tf.Tensor: shape=(), dtype=float32, numpy=0.15859151>, 0], [<tf.Tensor: shape=(), dtype=float32, numpy=0.15859151>, 0], [<tf.Tensor: shape=(), dtype=float32, numpy=0.15859151>, 0], [<tf.Tensor: shape=(), dtype=float32, numpy=0.15859151>, 0], [<tf.Tensor: shape=(), dtype=float32, numpy=0.15859151>, 0], [<tf.Tensor: shape=(), dtype=float32, numpy=0.15859151>, 0], [<tf.Tensor: shape=(), dtype=float32, numpy=0.15859151>, 0]]\n",
            "See who you trust -  [0.4771512, 0.5228488]\n"
          ]
        },
        {
          "output_type": "stream",
          "name": "stderr",
          "text": [
            "\r 34%|███▍      | 34/100 [00:42<01:21,  1.24s/it]"
          ]
        },
        {
          "output_type": "stream",
          "name": "stdout",
          "text": [
            "[[<tf.Tensor: shape=(), dtype=float32, numpy=0.15772787>, 0], [<tf.Tensor: shape=(), dtype=float32, numpy=0.15772787>, 0], [<tf.Tensor: shape=(), dtype=float32, numpy=0.15772787>, 0], [<tf.Tensor: shape=(), dtype=float32, numpy=0.15772787>, 0], [<tf.Tensor: shape=(), dtype=float32, numpy=0.15772787>, 0], [<tf.Tensor: shape=(), dtype=float32, numpy=0.15772787>, 0], [<tf.Tensor: shape=(), dtype=float32, numpy=0.15772787>, 0], [<tf.Tensor: shape=(), dtype=float32, numpy=0.15772787>, 0], [<tf.Tensor: shape=(), dtype=float32, numpy=0.15772787>, 0]]\n",
            "See who you trust -  [0.47522447, 0.5247755]\n"
          ]
        },
        {
          "output_type": "stream",
          "name": "stderr",
          "text": [
            "\r 35%|███▌      | 35/100 [00:43<01:21,  1.25s/it]"
          ]
        },
        {
          "output_type": "stream",
          "name": "stdout",
          "text": [
            "[[<tf.Tensor: shape=(), dtype=float32, numpy=0.17715086>, 0], [<tf.Tensor: shape=(), dtype=float32, numpy=0.17715086>, 0], [<tf.Tensor: shape=(), dtype=float32, numpy=0.17715086>, 0], [<tf.Tensor: shape=(), dtype=float32, numpy=0.17715086>, 0], [<tf.Tensor: shape=(), dtype=float32, numpy=0.17715086>, 0], [<tf.Tensor: shape=(), dtype=float32, numpy=0.17715086>, 0], [<tf.Tensor: shape=(), dtype=float32, numpy=0.17715086>, 0], [<tf.Tensor: shape=(), dtype=float32, numpy=0.17715086>, 0], [<tf.Tensor: shape=(), dtype=float32, numpy=0.17715086>, 0]]\n",
            "See who you trust -  [0.47405377, 0.52594626]\n"
          ]
        },
        {
          "output_type": "stream",
          "name": "stderr",
          "text": [
            "\r 36%|███▌      | 36/100 [00:45<01:19,  1.24s/it]"
          ]
        },
        {
          "output_type": "stream",
          "name": "stdout",
          "text": [
            "[[<tf.Tensor: shape=(), dtype=float32, numpy=0.15670398>, 0], [<tf.Tensor: shape=(), dtype=float32, numpy=0.15670398>, 0], [<tf.Tensor: shape=(), dtype=float32, numpy=0.15670398>, 0], [<tf.Tensor: shape=(), dtype=float32, numpy=0.15670398>, 0], [<tf.Tensor: shape=(), dtype=float32, numpy=0.15670398>, 0], [<tf.Tensor: shape=(), dtype=float32, numpy=0.15670398>, 0], [<tf.Tensor: shape=(), dtype=float32, numpy=0.15670398>, 0], [<tf.Tensor: shape=(), dtype=float32, numpy=0.15670398>, 0], [<tf.Tensor: shape=(), dtype=float32, numpy=0.15670398>, 0]]\n",
            "See who you trust -  [0.47676155, 0.5232384]\n"
          ]
        },
        {
          "output_type": "stream",
          "name": "stderr",
          "text": [
            "\r 37%|███▋      | 37/100 [00:46<01:18,  1.25s/it]"
          ]
        },
        {
          "output_type": "stream",
          "name": "stdout",
          "text": [
            "[[<tf.Tensor: shape=(), dtype=float32, numpy=0.116138265>, 0], [<tf.Tensor: shape=(), dtype=float32, numpy=0.116138265>, 0], [<tf.Tensor: shape=(), dtype=float32, numpy=0.116138265>, 0], [<tf.Tensor: shape=(), dtype=float32, numpy=0.116138265>, 0], [<tf.Tensor: shape=(), dtype=float32, numpy=0.116138265>, 0], [<tf.Tensor: shape=(), dtype=float32, numpy=0.116138265>, 0], [<tf.Tensor: shape=(), dtype=float32, numpy=0.116138265>, 0], [<tf.Tensor: shape=(), dtype=float32, numpy=0.116138265>, 0], [<tf.Tensor: shape=(), dtype=float32, numpy=0.116138265>, 0]]\n",
            "See who you trust -  [0.482579, 0.517421]\n"
          ]
        },
        {
          "output_type": "stream",
          "name": "stderr",
          "text": [
            "\r 38%|███▊      | 38/100 [00:47<01:17,  1.24s/it]"
          ]
        },
        {
          "output_type": "stream",
          "name": "stdout",
          "text": [
            "[[<tf.Tensor: shape=(), dtype=float32, numpy=0.15952209>, 0], [<tf.Tensor: shape=(), dtype=float32, numpy=0.15952209>, 0], [<tf.Tensor: shape=(), dtype=float32, numpy=0.15952209>, 0], [<tf.Tensor: shape=(), dtype=float32, numpy=0.15952209>, 0], [<tf.Tensor: shape=(), dtype=float32, numpy=0.15952209>, 0], [<tf.Tensor: shape=(), dtype=float32, numpy=0.15952209>, 0], [<tf.Tensor: shape=(), dtype=float32, numpy=0.15952209>, 0], [<tf.Tensor: shape=(), dtype=float32, numpy=0.15952209>, 0], [<tf.Tensor: shape=(), dtype=float32, numpy=0.15952209>, 0]]\n",
            "See who you trust -  [0.472057, 0.52794296]\n"
          ]
        },
        {
          "output_type": "stream",
          "name": "stderr",
          "text": [
            "\r 39%|███▉      | 39/100 [00:48<01:16,  1.25s/it]"
          ]
        },
        {
          "output_type": "stream",
          "name": "stdout",
          "text": [
            "[[<tf.Tensor: shape=(), dtype=float32, numpy=0.15681031>, 0], [<tf.Tensor: shape=(), dtype=float32, numpy=0.15681031>, 0], [<tf.Tensor: shape=(), dtype=float32, numpy=0.15681031>, 0], [<tf.Tensor: shape=(), dtype=float32, numpy=0.15681031>, 0], [<tf.Tensor: shape=(), dtype=float32, numpy=0.15681031>, 0], [<tf.Tensor: shape=(), dtype=float32, numpy=0.15681031>, 0], [<tf.Tensor: shape=(), dtype=float32, numpy=0.15681031>, 0], [<tf.Tensor: shape=(), dtype=float32, numpy=0.15681031>, 0], [<tf.Tensor: shape=(), dtype=float32, numpy=0.15681031>, 0]]\n",
            "See who you trust -  [0.47651938, 0.5234806]\n"
          ]
        },
        {
          "output_type": "stream",
          "name": "stderr",
          "text": [
            "\r 40%|████      | 40/100 [00:50<01:15,  1.26s/it]"
          ]
        },
        {
          "output_type": "stream",
          "name": "stdout",
          "text": [
            "[[<tf.Tensor: shape=(), dtype=float32, numpy=0.1783584>, 0], [<tf.Tensor: shape=(), dtype=float32, numpy=0.1783584>, 0], [<tf.Tensor: shape=(), dtype=float32, numpy=0.1783584>, 0], [<tf.Tensor: shape=(), dtype=float32, numpy=0.1783584>, 0], [<tf.Tensor: shape=(), dtype=float32, numpy=0.1783584>, 0], [<tf.Tensor: shape=(), dtype=float32, numpy=0.1783584>, 0], [<tf.Tensor: shape=(), dtype=float32, numpy=0.1783584>, 0], [<tf.Tensor: shape=(), dtype=float32, numpy=0.1783584>, 0], [<tf.Tensor: shape=(), dtype=float32, numpy=0.1783584>, 0]]\n",
            "See who you trust -  [0.47403297, 0.525967]\n"
          ]
        },
        {
          "output_type": "stream",
          "name": "stderr",
          "text": [
            "\r 41%|████      | 41/100 [00:51<01:14,  1.26s/it]"
          ]
        },
        {
          "output_type": "stream",
          "name": "stdout",
          "text": [
            "[[<tf.Tensor: shape=(), dtype=float32, numpy=0.1574667>, 0], [<tf.Tensor: shape=(), dtype=float32, numpy=0.1574667>, 0], [<tf.Tensor: shape=(), dtype=float32, numpy=0.1574667>, 0], [<tf.Tensor: shape=(), dtype=float32, numpy=0.1574667>, 0], [<tf.Tensor: shape=(), dtype=float32, numpy=0.1574667>, 0], [<tf.Tensor: shape=(), dtype=float32, numpy=0.1574667>, 0], [<tf.Tensor: shape=(), dtype=float32, numpy=0.1574667>, 0], [<tf.Tensor: shape=(), dtype=float32, numpy=0.1574667>, 0], [<tf.Tensor: shape=(), dtype=float32, numpy=0.1574667>, 0]]\n",
            "See who you trust -  [0.47665393, 0.52334607]\n"
          ]
        },
        {
          "output_type": "stream",
          "name": "stderr",
          "text": [
            "\r 42%|████▏     | 42/100 [00:52<01:12,  1.25s/it]"
          ]
        },
        {
          "output_type": "stream",
          "name": "stdout",
          "text": [
            "[[<tf.Tensor: shape=(), dtype=float32, numpy=0.17840877>, 0], [<tf.Tensor: shape=(), dtype=float32, numpy=0.17840877>, 0], [<tf.Tensor: shape=(), dtype=float32, numpy=0.17840877>, 0], [<tf.Tensor: shape=(), dtype=float32, numpy=0.17840877>, 0], [<tf.Tensor: shape=(), dtype=float32, numpy=0.17840877>, 0], [<tf.Tensor: shape=(), dtype=float32, numpy=0.17840877>, 0], [<tf.Tensor: shape=(), dtype=float32, numpy=0.17840877>, 0], [<tf.Tensor: shape=(), dtype=float32, numpy=0.17840877>, 0], [<tf.Tensor: shape=(), dtype=float32, numpy=0.17840877>, 0]]\n",
            "See who you trust -  [0.47010884, 0.52989113]\n"
          ]
        },
        {
          "output_type": "stream",
          "name": "stderr",
          "text": [
            "\r 43%|████▎     | 43/100 [00:54<01:13,  1.28s/it]"
          ]
        },
        {
          "output_type": "stream",
          "name": "stdout",
          "text": [
            "[[<tf.Tensor: shape=(), dtype=float32, numpy=0.15616316>, 0], [<tf.Tensor: shape=(), dtype=float32, numpy=0.15616316>, 0], [<tf.Tensor: shape=(), dtype=float32, numpy=0.15616316>, 0], [<tf.Tensor: shape=(), dtype=float32, numpy=0.15616316>, 0], [<tf.Tensor: shape=(), dtype=float32, numpy=0.15616316>, 0], [<tf.Tensor: shape=(), dtype=float32, numpy=0.15616316>, 0], [<tf.Tensor: shape=(), dtype=float32, numpy=0.15616316>, 0], [<tf.Tensor: shape=(), dtype=float32, numpy=0.15616316>, 0], [<tf.Tensor: shape=(), dtype=float32, numpy=0.15616316>, 0]]\n",
            "See who you trust -  [0.47121283, 0.52878714]\n"
          ]
        },
        {
          "output_type": "stream",
          "name": "stderr",
          "text": [
            "\r 44%|████▍     | 44/100 [00:55<01:12,  1.29s/it]"
          ]
        },
        {
          "output_type": "stream",
          "name": "stdout",
          "text": [
            "[[<tf.Tensor: shape=(), dtype=float32, numpy=0.15652989>, 0], [<tf.Tensor: shape=(), dtype=float32, numpy=0.15652989>, 0], [<tf.Tensor: shape=(), dtype=float32, numpy=0.15652989>, 0], [<tf.Tensor: shape=(), dtype=float32, numpy=0.15652989>, 0], [<tf.Tensor: shape=(), dtype=float32, numpy=0.15652989>, 0], [<tf.Tensor: shape=(), dtype=float32, numpy=0.15652989>, 0], [<tf.Tensor: shape=(), dtype=float32, numpy=0.15652989>, 0], [<tf.Tensor: shape=(), dtype=float32, numpy=0.15652989>, 0], [<tf.Tensor: shape=(), dtype=float32, numpy=0.15652989>, 0]]\n",
            "See who you trust -  [0.47127587, 0.52872413]\n"
          ]
        },
        {
          "output_type": "stream",
          "name": "stderr",
          "text": [
            "\r 45%|████▌     | 45/100 [00:56<01:10,  1.29s/it]"
          ]
        },
        {
          "output_type": "stream",
          "name": "stdout",
          "text": [
            "[[<tf.Tensor: shape=(), dtype=float32, numpy=0.11566648>, 0], [<tf.Tensor: shape=(), dtype=float32, numpy=0.11566648>, 0], [<tf.Tensor: shape=(), dtype=float32, numpy=0.11566648>, 0], [<tf.Tensor: shape=(), dtype=float32, numpy=0.11566648>, 0], [<tf.Tensor: shape=(), dtype=float32, numpy=0.11566648>, 0], [<tf.Tensor: shape=(), dtype=float32, numpy=0.11566648>, 0], [<tf.Tensor: shape=(), dtype=float32, numpy=0.11566648>, 0], [<tf.Tensor: shape=(), dtype=float32, numpy=0.11566648>, 0], [<tf.Tensor: shape=(), dtype=float32, numpy=0.11566648>, 0]]\n",
            "See who you trust -  [0.4820235, 0.51797646]\n"
          ]
        },
        {
          "output_type": "stream",
          "name": "stderr",
          "text": [
            "\r 46%|████▌     | 46/100 [00:57<01:10,  1.30s/it]"
          ]
        },
        {
          "output_type": "stream",
          "name": "stdout",
          "text": [
            "[[<tf.Tensor: shape=(), dtype=float32, numpy=0.18041857>, 0], [<tf.Tensor: shape=(), dtype=float32, numpy=0.18041857>, 0], [<tf.Tensor: shape=(), dtype=float32, numpy=0.18041857>, 0], [<tf.Tensor: shape=(), dtype=float32, numpy=0.18041857>, 0], [<tf.Tensor: shape=(), dtype=float32, numpy=0.18041857>, 0], [<tf.Tensor: shape=(), dtype=float32, numpy=0.18041857>, 0], [<tf.Tensor: shape=(), dtype=float32, numpy=0.18041857>, 0], [<tf.Tensor: shape=(), dtype=float32, numpy=0.18041857>, 0], [<tf.Tensor: shape=(), dtype=float32, numpy=0.18041857>, 0]]\n",
            "See who you trust -  [0.4703976, 0.5296024]\n"
          ]
        },
        {
          "output_type": "stream",
          "name": "stderr",
          "text": [
            "\r 47%|████▋     | 47/100 [00:59<01:08,  1.29s/it]"
          ]
        },
        {
          "output_type": "stream",
          "name": "stdout",
          "text": [
            "[[<tf.Tensor: shape=(), dtype=float32, numpy=0.16420105>, 0], [<tf.Tensor: shape=(), dtype=float32, numpy=0.16420105>, 0], [<tf.Tensor: shape=(), dtype=float32, numpy=0.16420105>, 0], [<tf.Tensor: shape=(), dtype=float32, numpy=0.16420105>, 0], [<tf.Tensor: shape=(), dtype=float32, numpy=0.16420105>, 0], [<tf.Tensor: shape=(), dtype=float32, numpy=0.16420105>, 0], [<tf.Tensor: shape=(), dtype=float32, numpy=0.16420105>, 0], [<tf.Tensor: shape=(), dtype=float32, numpy=0.16420105>, 0], [<tf.Tensor: shape=(), dtype=float32, numpy=0.16420105>, 0]]\n",
            "See who you trust -  [0.4753069, 0.5246931]\n"
          ]
        },
        {
          "output_type": "stream",
          "name": "stderr",
          "text": [
            "\r 48%|████▊     | 48/100 [01:00<01:07,  1.29s/it]"
          ]
        },
        {
          "output_type": "stream",
          "name": "stdout",
          "text": [
            "[[<tf.Tensor: shape=(), dtype=float32, numpy=0.15788987>, 0], [<tf.Tensor: shape=(), dtype=float32, numpy=0.15788987>, 0], [<tf.Tensor: shape=(), dtype=float32, numpy=0.15788987>, 0], [<tf.Tensor: shape=(), dtype=float32, numpy=0.15788987>, 0], [<tf.Tensor: shape=(), dtype=float32, numpy=0.15788987>, 0], [<tf.Tensor: shape=(), dtype=float32, numpy=0.15788987>, 0], [<tf.Tensor: shape=(), dtype=float32, numpy=0.15788987>, 0], [<tf.Tensor: shape=(), dtype=float32, numpy=0.15788987>, 0], [<tf.Tensor: shape=(), dtype=float32, numpy=0.15788987>, 0]]\n",
            "See who you trust -  [0.47325823, 0.52674174]\n"
          ]
        },
        {
          "output_type": "stream",
          "name": "stderr",
          "text": [
            "\r 49%|████▉     | 49/100 [01:01<01:05,  1.29s/it]"
          ]
        },
        {
          "output_type": "stream",
          "name": "stdout",
          "text": [
            "[[<tf.Tensor: shape=(), dtype=float32, numpy=0.11615301>, 0], [<tf.Tensor: shape=(), dtype=float32, numpy=0.11615301>, 0], [<tf.Tensor: shape=(), dtype=float32, numpy=0.11615301>, 0], [<tf.Tensor: shape=(), dtype=float32, numpy=0.11615301>, 0], [<tf.Tensor: shape=(), dtype=float32, numpy=0.11615301>, 0], [<tf.Tensor: shape=(), dtype=float32, numpy=0.11615301>, 0], [<tf.Tensor: shape=(), dtype=float32, numpy=0.11615301>, 0], [<tf.Tensor: shape=(), dtype=float32, numpy=0.11615301>, 0], [<tf.Tensor: shape=(), dtype=float32, numpy=0.11615301>, 0]]\n",
            "See who you trust -  [0.48089322, 0.51910675]\n"
          ]
        },
        {
          "output_type": "stream",
          "name": "stderr",
          "text": [
            "\r 50%|█████     | 50/100 [01:03<01:04,  1.29s/it]"
          ]
        },
        {
          "output_type": "stream",
          "name": "stdout",
          "text": [
            "[[<tf.Tensor: shape=(), dtype=float32, numpy=0.16786474>, 0], [<tf.Tensor: shape=(), dtype=float32, numpy=0.16786474>, 0], [<tf.Tensor: shape=(), dtype=float32, numpy=0.16786474>, 0], [<tf.Tensor: shape=(), dtype=float32, numpy=0.16786474>, 0], [<tf.Tensor: shape=(), dtype=float32, numpy=0.16786474>, 0], [<tf.Tensor: shape=(), dtype=float32, numpy=0.16786474>, 0], [<tf.Tensor: shape=(), dtype=float32, numpy=0.16786474>, 0], [<tf.Tensor: shape=(), dtype=float32, numpy=0.16786474>, 0], [<tf.Tensor: shape=(), dtype=float32, numpy=0.16786474>, 0]]\n",
            "See who you trust -  [0.47599635, 0.5240037]\n"
          ]
        },
        {
          "output_type": "stream",
          "name": "stderr",
          "text": [
            "\r 51%|█████     | 51/100 [01:04<01:02,  1.28s/it]"
          ]
        },
        {
          "output_type": "stream",
          "name": "stdout",
          "text": [
            "[[<tf.Tensor: shape=(), dtype=float32, numpy=0.1581189>, 0], [<tf.Tensor: shape=(), dtype=float32, numpy=0.1581189>, 0], [<tf.Tensor: shape=(), dtype=float32, numpy=0.1581189>, 0], [<tf.Tensor: shape=(), dtype=float32, numpy=0.1581189>, 0], [<tf.Tensor: shape=(), dtype=float32, numpy=0.1581189>, 0], [<tf.Tensor: shape=(), dtype=float32, numpy=0.1581189>, 0], [<tf.Tensor: shape=(), dtype=float32, numpy=0.1581189>, 0], [<tf.Tensor: shape=(), dtype=float32, numpy=0.1581189>, 0], [<tf.Tensor: shape=(), dtype=float32, numpy=0.1581189>, 0]]\n",
            "See who you trust -  [0.47154856, 0.52845144]\n"
          ]
        },
        {
          "output_type": "stream",
          "name": "stderr",
          "text": [
            "\r 52%|█████▏    | 52/100 [01:05<01:01,  1.27s/it]"
          ]
        },
        {
          "output_type": "stream",
          "name": "stdout",
          "text": [
            "[[<tf.Tensor: shape=(), dtype=float32, numpy=0.15664141>, 0], [<tf.Tensor: shape=(), dtype=float32, numpy=0.15664141>, 0], [<tf.Tensor: shape=(), dtype=float32, numpy=0.15664141>, 0], [<tf.Tensor: shape=(), dtype=float32, numpy=0.15664141>, 0], [<tf.Tensor: shape=(), dtype=float32, numpy=0.15664141>, 0], [<tf.Tensor: shape=(), dtype=float32, numpy=0.15664141>, 0], [<tf.Tensor: shape=(), dtype=float32, numpy=0.15664141>, 0], [<tf.Tensor: shape=(), dtype=float32, numpy=0.15664141>, 0], [<tf.Tensor: shape=(), dtype=float32, numpy=0.15664141>, 0]]\n",
            "See who you trust -  [0.47648478, 0.5235152]\n"
          ]
        },
        {
          "output_type": "stream",
          "name": "stderr",
          "text": [
            "\r 53%|█████▎    | 53/100 [01:07<01:06,  1.42s/it]"
          ]
        },
        {
          "output_type": "stream",
          "name": "stdout",
          "text": [
            "[[<tf.Tensor: shape=(), dtype=float32, numpy=0.15828115>, 0], [<tf.Tensor: shape=(), dtype=float32, numpy=0.15828115>, 0], [<tf.Tensor: shape=(), dtype=float32, numpy=0.15828115>, 0], [<tf.Tensor: shape=(), dtype=float32, numpy=0.15828115>, 0], [<tf.Tensor: shape=(), dtype=float32, numpy=0.15828115>, 0], [<tf.Tensor: shape=(), dtype=float32, numpy=0.15828115>, 0], [<tf.Tensor: shape=(), dtype=float32, numpy=0.15828115>, 0], [<tf.Tensor: shape=(), dtype=float32, numpy=0.15828115>, 0], [<tf.Tensor: shape=(), dtype=float32, numpy=0.15828115>, 0]]\n",
            "See who you trust -  [0.47506616, 0.5249338]\n"
          ]
        },
        {
          "output_type": "stream",
          "name": "stderr",
          "text": [
            "\r 54%|█████▍    | 54/100 [01:09<01:09,  1.51s/it]"
          ]
        },
        {
          "output_type": "stream",
          "name": "stdout",
          "text": [
            "[[<tf.Tensor: shape=(), dtype=float32, numpy=0.17781447>, 0], [<tf.Tensor: shape=(), dtype=float32, numpy=0.17781447>, 0], [<tf.Tensor: shape=(), dtype=float32, numpy=0.17781447>, 0], [<tf.Tensor: shape=(), dtype=float32, numpy=0.17781447>, 0], [<tf.Tensor: shape=(), dtype=float32, numpy=0.17781447>, 0], [<tf.Tensor: shape=(), dtype=float32, numpy=0.17781447>, 0], [<tf.Tensor: shape=(), dtype=float32, numpy=0.17781447>, 0], [<tf.Tensor: shape=(), dtype=float32, numpy=0.17781447>, 0], [<tf.Tensor: shape=(), dtype=float32, numpy=0.17781447>, 0]]\n",
            "See who you trust -  [0.4700234, 0.52997667]\n"
          ]
        },
        {
          "output_type": "stream",
          "name": "stderr",
          "text": [
            "\r 55%|█████▌    | 55/100 [01:10<01:11,  1.58s/it]"
          ]
        },
        {
          "output_type": "stream",
          "name": "stdout",
          "text": [
            "[[<tf.Tensor: shape=(), dtype=float32, numpy=0.115359075>, 0], [<tf.Tensor: shape=(), dtype=float32, numpy=0.115359075>, 0], [<tf.Tensor: shape=(), dtype=float32, numpy=0.115359075>, 0], [<tf.Tensor: shape=(), dtype=float32, numpy=0.115359075>, 0], [<tf.Tensor: shape=(), dtype=float32, numpy=0.115359075>, 0], [<tf.Tensor: shape=(), dtype=float32, numpy=0.115359075>, 0], [<tf.Tensor: shape=(), dtype=float32, numpy=0.115359075>, 0], [<tf.Tensor: shape=(), dtype=float32, numpy=0.115359075>, 0], [<tf.Tensor: shape=(), dtype=float32, numpy=0.115359075>, 0]]\n",
            "See who you trust -  [0.48064336, 0.51935667]\n"
          ]
        },
        {
          "output_type": "stream",
          "name": "stderr",
          "text": [
            "\r 56%|█████▌    | 56/100 [01:12<01:05,  1.48s/it]"
          ]
        },
        {
          "output_type": "stream",
          "name": "stdout",
          "text": [
            "[[<tf.Tensor: shape=(), dtype=float32, numpy=0.16777752>, 0], [<tf.Tensor: shape=(), dtype=float32, numpy=0.16777752>, 0], [<tf.Tensor: shape=(), dtype=float32, numpy=0.16777752>, 0], [<tf.Tensor: shape=(), dtype=float32, numpy=0.16777752>, 0], [<tf.Tensor: shape=(), dtype=float32, numpy=0.16777752>, 0], [<tf.Tensor: shape=(), dtype=float32, numpy=0.16777752>, 0], [<tf.Tensor: shape=(), dtype=float32, numpy=0.16777752>, 0], [<tf.Tensor: shape=(), dtype=float32, numpy=0.16777752>, 0], [<tf.Tensor: shape=(), dtype=float32, numpy=0.16777752>, 0]]\n",
            "See who you trust -  [0.47597992, 0.5240201]\n"
          ]
        },
        {
          "output_type": "stream",
          "name": "stderr",
          "text": [
            "\r 57%|█████▋    | 57/100 [01:13<01:01,  1.43s/it]"
          ]
        },
        {
          "output_type": "stream",
          "name": "stdout",
          "text": [
            "[[<tf.Tensor: shape=(), dtype=float32, numpy=0.1781565>, 0], [<tf.Tensor: shape=(), dtype=float32, numpy=0.1781565>, 0], [<tf.Tensor: shape=(), dtype=float32, numpy=0.1781565>, 0], [<tf.Tensor: shape=(), dtype=float32, numpy=0.1781565>, 0], [<tf.Tensor: shape=(), dtype=float32, numpy=0.1781565>, 0], [<tf.Tensor: shape=(), dtype=float32, numpy=0.1781565>, 0], [<tf.Tensor: shape=(), dtype=float32, numpy=0.1781565>, 0], [<tf.Tensor: shape=(), dtype=float32, numpy=0.1781565>, 0], [<tf.Tensor: shape=(), dtype=float32, numpy=0.1781565>, 0]]\n",
            "See who you trust -  [0.4739995, 0.5260005]\n"
          ]
        },
        {
          "output_type": "stream",
          "name": "stderr",
          "text": [
            "\r 58%|█████▊    | 58/100 [01:14<00:57,  1.38s/it]"
          ]
        },
        {
          "output_type": "stream",
          "name": "stdout",
          "text": [
            "[[<tf.Tensor: shape=(), dtype=float32, numpy=0.116334945>, 0], [<tf.Tensor: shape=(), dtype=float32, numpy=0.116334945>, 0], [<tf.Tensor: shape=(), dtype=float32, numpy=0.116334945>, 0], [<tf.Tensor: shape=(), dtype=float32, numpy=0.116334945>, 0], [<tf.Tensor: shape=(), dtype=float32, numpy=0.116334945>, 0], [<tf.Tensor: shape=(), dtype=float32, numpy=0.116334945>, 0], [<tf.Tensor: shape=(), dtype=float32, numpy=0.116334945>, 0], [<tf.Tensor: shape=(), dtype=float32, numpy=0.116334945>, 0], [<tf.Tensor: shape=(), dtype=float32, numpy=0.116334945>, 0]]\n",
            "See who you trust -  [0.47967276, 0.5203272]\n"
          ]
        },
        {
          "output_type": "stream",
          "name": "stderr",
          "text": [
            "\r 59%|█████▉    | 59/100 [01:15<00:55,  1.35s/it]"
          ]
        },
        {
          "output_type": "stream",
          "name": "stdout",
          "text": [
            "[[<tf.Tensor: shape=(), dtype=float32, numpy=0.11772735>, 0], [<tf.Tensor: shape=(), dtype=float32, numpy=0.11772735>, 0], [<tf.Tensor: shape=(), dtype=float32, numpy=0.11772735>, 0], [<tf.Tensor: shape=(), dtype=float32, numpy=0.11772735>, 0], [<tf.Tensor: shape=(), dtype=float32, numpy=0.11772735>, 0], [<tf.Tensor: shape=(), dtype=float32, numpy=0.11772735>, 0], [<tf.Tensor: shape=(), dtype=float32, numpy=0.11772735>, 0], [<tf.Tensor: shape=(), dtype=float32, numpy=0.11772735>, 0], [<tf.Tensor: shape=(), dtype=float32, numpy=0.11772735>, 0]]\n",
            "See who you trust -  [0.48138803, 0.51861197]\n"
          ]
        },
        {
          "output_type": "stream",
          "name": "stderr",
          "text": [
            "\r 60%|██████    | 60/100 [01:17<00:52,  1.32s/it]"
          ]
        },
        {
          "output_type": "stream",
          "name": "stdout",
          "text": [
            "[[<tf.Tensor: shape=(), dtype=float32, numpy=0.18018071>, 0], [<tf.Tensor: shape=(), dtype=float32, numpy=0.18018071>, 0], [<tf.Tensor: shape=(), dtype=float32, numpy=0.18018071>, 0], [<tf.Tensor: shape=(), dtype=float32, numpy=0.18018071>, 0], [<tf.Tensor: shape=(), dtype=float32, numpy=0.18018071>, 0], [<tf.Tensor: shape=(), dtype=float32, numpy=0.18018071>, 0], [<tf.Tensor: shape=(), dtype=float32, numpy=0.18018071>, 0], [<tf.Tensor: shape=(), dtype=float32, numpy=0.18018071>, 0], [<tf.Tensor: shape=(), dtype=float32, numpy=0.18018071>, 0]]\n",
            "See who you trust -  [0.4723389, 0.5276611]\n"
          ]
        },
        {
          "output_type": "stream",
          "name": "stderr",
          "text": [
            "\r 61%|██████    | 61/100 [01:18<00:51,  1.31s/it]"
          ]
        },
        {
          "output_type": "stream",
          "name": "stdout",
          "text": [
            "[[<tf.Tensor: shape=(), dtype=float32, numpy=0.17679368>, 0], [<tf.Tensor: shape=(), dtype=float32, numpy=0.17679368>, 0], [<tf.Tensor: shape=(), dtype=float32, numpy=0.17679368>, 0], [<tf.Tensor: shape=(), dtype=float32, numpy=0.17679368>, 0], [<tf.Tensor: shape=(), dtype=float32, numpy=0.17679368>, 0], [<tf.Tensor: shape=(), dtype=float32, numpy=0.17679368>, 0], [<tf.Tensor: shape=(), dtype=float32, numpy=0.17679368>, 0], [<tf.Tensor: shape=(), dtype=float32, numpy=0.17679368>, 0], [<tf.Tensor: shape=(), dtype=float32, numpy=0.17679368>, 0]]\n",
            "See who you trust -  [0.46987644, 0.5301236]\n"
          ]
        },
        {
          "output_type": "stream",
          "name": "stderr",
          "text": [
            "\r 62%|██████▏   | 62/100 [01:19<00:49,  1.30s/it]"
          ]
        },
        {
          "output_type": "stream",
          "name": "stdout",
          "text": [
            "[[<tf.Tensor: shape=(), dtype=float32, numpy=0.15608597>, 0], [<tf.Tensor: shape=(), dtype=float32, numpy=0.15608597>, 0], [<tf.Tensor: shape=(), dtype=float32, numpy=0.15608597>, 0], [<tf.Tensor: shape=(), dtype=float32, numpy=0.15608597>, 0], [<tf.Tensor: shape=(), dtype=float32, numpy=0.15608597>, 0], [<tf.Tensor: shape=(), dtype=float32, numpy=0.15608597>, 0], [<tf.Tensor: shape=(), dtype=float32, numpy=0.15608597>, 0], [<tf.Tensor: shape=(), dtype=float32, numpy=0.15608597>, 0], [<tf.Tensor: shape=(), dtype=float32, numpy=0.15608597>, 0]]\n",
            "See who you trust -  [0.4763708, 0.5236292]\n"
          ]
        },
        {
          "output_type": "stream",
          "name": "stderr",
          "text": [
            "\r 63%|██████▎   | 63/100 [01:21<00:47,  1.29s/it]"
          ]
        },
        {
          "output_type": "stream",
          "name": "stdout",
          "text": [
            "[[<tf.Tensor: shape=(), dtype=float32, numpy=0.11691694>, 0], [<tf.Tensor: shape=(), dtype=float32, numpy=0.11691694>, 0], [<tf.Tensor: shape=(), dtype=float32, numpy=0.11691694>, 0], [<tf.Tensor: shape=(), dtype=float32, numpy=0.11691694>, 0], [<tf.Tensor: shape=(), dtype=float32, numpy=0.11691694>, 0], [<tf.Tensor: shape=(), dtype=float32, numpy=0.11691694>, 0], [<tf.Tensor: shape=(), dtype=float32, numpy=0.11691694>, 0], [<tf.Tensor: shape=(), dtype=float32, numpy=0.11691694>, 0], [<tf.Tensor: shape=(), dtype=float32, numpy=0.11691694>, 0]]\n",
            "See who you trust -  [0.4798493, 0.52015066]\n"
          ]
        },
        {
          "output_type": "stream",
          "name": "stderr",
          "text": [
            "\r 64%|██████▍   | 64/100 [01:22<00:46,  1.28s/it]"
          ]
        },
        {
          "output_type": "stream",
          "name": "stdout",
          "text": [
            "[[<tf.Tensor: shape=(), dtype=float32, numpy=0.1593988>, 0], [<tf.Tensor: shape=(), dtype=float32, numpy=0.1593988>, 0], [<tf.Tensor: shape=(), dtype=float32, numpy=0.1593988>, 0], [<tf.Tensor: shape=(), dtype=float32, numpy=0.1593988>, 0], [<tf.Tensor: shape=(), dtype=float32, numpy=0.1593988>, 0], [<tf.Tensor: shape=(), dtype=float32, numpy=0.1593988>, 0], [<tf.Tensor: shape=(), dtype=float32, numpy=0.1593988>, 0], [<tf.Tensor: shape=(), dtype=float32, numpy=0.1593988>, 0], [<tf.Tensor: shape=(), dtype=float32, numpy=0.1593988>, 0]]\n",
            "See who you trust -  [0.4770495, 0.5229505]\n"
          ]
        },
        {
          "output_type": "stream",
          "name": "stderr",
          "text": [
            "\r 65%|██████▌   | 65/100 [01:23<00:44,  1.28s/it]"
          ]
        },
        {
          "output_type": "stream",
          "name": "stdout",
          "text": [
            "[[<tf.Tensor: shape=(), dtype=float32, numpy=0.15846874>, 0], [<tf.Tensor: shape=(), dtype=float32, numpy=0.15846874>, 0], [<tf.Tensor: shape=(), dtype=float32, numpy=0.15846874>, 0], [<tf.Tensor: shape=(), dtype=float32, numpy=0.15846874>, 0], [<tf.Tensor: shape=(), dtype=float32, numpy=0.15846874>, 0], [<tf.Tensor: shape=(), dtype=float32, numpy=0.15846874>, 0], [<tf.Tensor: shape=(), dtype=float32, numpy=0.15846874>, 0], [<tf.Tensor: shape=(), dtype=float32, numpy=0.15846874>, 0], [<tf.Tensor: shape=(), dtype=float32, numpy=0.15846874>, 0]]\n",
            "See who you trust -  [0.47160855, 0.5283915]\n"
          ]
        },
        {
          "output_type": "stream",
          "name": "stderr",
          "text": [
            "\r 66%|██████▌   | 66/100 [01:24<00:43,  1.28s/it]"
          ]
        },
        {
          "output_type": "stream",
          "name": "stdout",
          "text": [
            "[[<tf.Tensor: shape=(), dtype=float32, numpy=0.15666135>, 0], [<tf.Tensor: shape=(), dtype=float32, numpy=0.15666135>, 0], [<tf.Tensor: shape=(), dtype=float32, numpy=0.15666135>, 0], [<tf.Tensor: shape=(), dtype=float32, numpy=0.15666135>, 0], [<tf.Tensor: shape=(), dtype=float32, numpy=0.15666135>, 0], [<tf.Tensor: shape=(), dtype=float32, numpy=0.15666135>, 0], [<tf.Tensor: shape=(), dtype=float32, numpy=0.15666135>, 0], [<tf.Tensor: shape=(), dtype=float32, numpy=0.15666135>, 0], [<tf.Tensor: shape=(), dtype=float32, numpy=0.15666135>, 0]]\n",
            "See who you trust -  [0.47648886, 0.5235112]\n"
          ]
        },
        {
          "output_type": "stream",
          "name": "stderr",
          "text": [
            "\r 67%|██████▋   | 67/100 [01:26<00:42,  1.28s/it]"
          ]
        },
        {
          "output_type": "stream",
          "name": "stdout",
          "text": [
            "[[<tf.Tensor: shape=(), dtype=float32, numpy=0.1582825>, 0], [<tf.Tensor: shape=(), dtype=float32, numpy=0.1582825>, 0], [<tf.Tensor: shape=(), dtype=float32, numpy=0.1582825>, 0], [<tf.Tensor: shape=(), dtype=float32, numpy=0.1582825>, 0], [<tf.Tensor: shape=(), dtype=float32, numpy=0.1582825>, 0], [<tf.Tensor: shape=(), dtype=float32, numpy=0.1582825>, 0], [<tf.Tensor: shape=(), dtype=float32, numpy=0.1582825>, 0], [<tf.Tensor: shape=(), dtype=float32, numpy=0.1582825>, 0], [<tf.Tensor: shape=(), dtype=float32, numpy=0.1582825>, 0]]\n",
            "See who you trust -  [0.47682104, 0.52317894]\n"
          ]
        },
        {
          "output_type": "stream",
          "name": "stderr",
          "text": [
            "\r 68%|██████▊   | 68/100 [01:27<00:40,  1.27s/it]"
          ]
        },
        {
          "output_type": "stream",
          "name": "stdout",
          "text": [
            "[[<tf.Tensor: shape=(), dtype=float32, numpy=0.17847131>, 0], [<tf.Tensor: shape=(), dtype=float32, numpy=0.17847131>, 0], [<tf.Tensor: shape=(), dtype=float32, numpy=0.17847131>, 0], [<tf.Tensor: shape=(), dtype=float32, numpy=0.17847131>, 0], [<tf.Tensor: shape=(), dtype=float32, numpy=0.17847131>, 0], [<tf.Tensor: shape=(), dtype=float32, numpy=0.17847131>, 0], [<tf.Tensor: shape=(), dtype=float32, numpy=0.17847131>, 0], [<tf.Tensor: shape=(), dtype=float32, numpy=0.17847131>, 0], [<tf.Tensor: shape=(), dtype=float32, numpy=0.17847131>, 0]]\n",
            "See who you trust -  [0.47207448, 0.52792555]\n"
          ]
        },
        {
          "output_type": "stream",
          "name": "stderr",
          "text": [
            "\r 69%|██████▉   | 69/100 [01:28<00:39,  1.27s/it]"
          ]
        },
        {
          "output_type": "stream",
          "name": "stdout",
          "text": [
            "[[<tf.Tensor: shape=(), dtype=float32, numpy=0.15681611>, 0], [<tf.Tensor: shape=(), dtype=float32, numpy=0.15681611>, 0], [<tf.Tensor: shape=(), dtype=float32, numpy=0.15681611>, 0], [<tf.Tensor: shape=(), dtype=float32, numpy=0.15681611>, 0], [<tf.Tensor: shape=(), dtype=float32, numpy=0.15681611>, 0], [<tf.Tensor: shape=(), dtype=float32, numpy=0.15681611>, 0], [<tf.Tensor: shape=(), dtype=float32, numpy=0.15681611>, 0], [<tf.Tensor: shape=(), dtype=float32, numpy=0.15681611>, 0], [<tf.Tensor: shape=(), dtype=float32, numpy=0.15681611>, 0]]\n",
            "See who you trust -  [0.47478232, 0.5252177]\n"
          ]
        },
        {
          "output_type": "stream",
          "name": "stderr",
          "text": [
            "\r 70%|███████   | 70/100 [01:29<00:37,  1.26s/it]"
          ]
        },
        {
          "output_type": "stream",
          "name": "stdout",
          "text": [
            "[[<tf.Tensor: shape=(), dtype=float32, numpy=0.15771562>, 0], [<tf.Tensor: shape=(), dtype=float32, numpy=0.15771562>, 0], [<tf.Tensor: shape=(), dtype=float32, numpy=0.15771562>, 0], [<tf.Tensor: shape=(), dtype=float32, numpy=0.15771562>, 0], [<tf.Tensor: shape=(), dtype=float32, numpy=0.15771562>, 0], [<tf.Tensor: shape=(), dtype=float32, numpy=0.15771562>, 0], [<tf.Tensor: shape=(), dtype=float32, numpy=0.15771562>, 0], [<tf.Tensor: shape=(), dtype=float32, numpy=0.15771562>, 0], [<tf.Tensor: shape=(), dtype=float32, numpy=0.15771562>, 0]]\n",
            "See who you trust -  [0.4714794, 0.52852064]\n"
          ]
        },
        {
          "output_type": "stream",
          "name": "stderr",
          "text": [
            "\r 71%|███████   | 71/100 [01:31<00:36,  1.27s/it]"
          ]
        },
        {
          "output_type": "stream",
          "name": "stdout",
          "text": [
            "[[<tf.Tensor: shape=(), dtype=float32, numpy=0.16457868>, 0], [<tf.Tensor: shape=(), dtype=float32, numpy=0.16457868>, 0], [<tf.Tensor: shape=(), dtype=float32, numpy=0.16457868>, 0], [<tf.Tensor: shape=(), dtype=float32, numpy=0.16457868>, 0], [<tf.Tensor: shape=(), dtype=float32, numpy=0.16457868>, 0], [<tf.Tensor: shape=(), dtype=float32, numpy=0.16457868>, 0], [<tf.Tensor: shape=(), dtype=float32, numpy=0.16457868>, 0], [<tf.Tensor: shape=(), dtype=float32, numpy=0.16457868>, 0], [<tf.Tensor: shape=(), dtype=float32, numpy=0.16457868>, 0]]\n",
            "See who you trust -  [0.47537807, 0.5246219]\n"
          ]
        },
        {
          "output_type": "stream",
          "name": "stderr",
          "text": [
            "\r 72%|███████▏  | 72/100 [01:32<00:35,  1.26s/it]"
          ]
        },
        {
          "output_type": "stream",
          "name": "stdout",
          "text": [
            "[[<tf.Tensor: shape=(), dtype=float32, numpy=0.15791352>, 0], [<tf.Tensor: shape=(), dtype=float32, numpy=0.15791352>, 0], [<tf.Tensor: shape=(), dtype=float32, numpy=0.15791352>, 0], [<tf.Tensor: shape=(), dtype=float32, numpy=0.15791352>, 0], [<tf.Tensor: shape=(), dtype=float32, numpy=0.15791352>, 0], [<tf.Tensor: shape=(), dtype=float32, numpy=0.15791352>, 0], [<tf.Tensor: shape=(), dtype=float32, numpy=0.15791352>, 0], [<tf.Tensor: shape=(), dtype=float32, numpy=0.15791352>, 0], [<tf.Tensor: shape=(), dtype=float32, numpy=0.15791352>, 0]]\n",
            "See who you trust -  [0.47326258, 0.52673745]\n"
          ]
        },
        {
          "output_type": "stream",
          "name": "stderr",
          "text": [
            "\r 73%|███████▎  | 73/100 [01:33<00:34,  1.26s/it]"
          ]
        },
        {
          "output_type": "stream",
          "name": "stdout",
          "text": [
            "[[<tf.Tensor: shape=(), dtype=float32, numpy=0.1771394>, 0], [<tf.Tensor: shape=(), dtype=float32, numpy=0.1771394>, 0], [<tf.Tensor: shape=(), dtype=float32, numpy=0.1771394>, 0], [<tf.Tensor: shape=(), dtype=float32, numpy=0.1771394>, 0], [<tf.Tensor: shape=(), dtype=float32, numpy=0.1771394>, 0], [<tf.Tensor: shape=(), dtype=float32, numpy=0.1771394>, 0], [<tf.Tensor: shape=(), dtype=float32, numpy=0.1771394>, 0], [<tf.Tensor: shape=(), dtype=float32, numpy=0.1771394>, 0], [<tf.Tensor: shape=(), dtype=float32, numpy=0.1771394>, 0]]\n",
            "See who you trust -  [0.47383052, 0.5261695]\n"
          ]
        },
        {
          "output_type": "stream",
          "name": "stderr",
          "text": [
            "\r 74%|███████▍  | 74/100 [01:34<00:32,  1.26s/it]"
          ]
        },
        {
          "output_type": "stream",
          "name": "stdout",
          "text": [
            "[[<tf.Tensor: shape=(), dtype=float32, numpy=0.11629347>, 0], [<tf.Tensor: shape=(), dtype=float32, numpy=0.11629347>, 0], [<tf.Tensor: shape=(), dtype=float32, numpy=0.11629347>, 0], [<tf.Tensor: shape=(), dtype=float32, numpy=0.11629347>, 0], [<tf.Tensor: shape=(), dtype=float32, numpy=0.11629347>, 0], [<tf.Tensor: shape=(), dtype=float32, numpy=0.11629347>, 0], [<tf.Tensor: shape=(), dtype=float32, numpy=0.11629347>, 0], [<tf.Tensor: shape=(), dtype=float32, numpy=0.11629347>, 0], [<tf.Tensor: shape=(), dtype=float32, numpy=0.11629347>, 0]]\n",
            "See who you trust -  [0.4822278, 0.51777214]\n"
          ]
        },
        {
          "output_type": "stream",
          "name": "stderr",
          "text": [
            "\r 75%|███████▌  | 75/100 [01:36<00:31,  1.26s/it]"
          ]
        },
        {
          "output_type": "stream",
          "name": "stdout",
          "text": [
            "[[<tf.Tensor: shape=(), dtype=float32, numpy=0.1601889>, 0], [<tf.Tensor: shape=(), dtype=float32, numpy=0.1601889>, 0], [<tf.Tensor: shape=(), dtype=float32, numpy=0.1601889>, 0], [<tf.Tensor: shape=(), dtype=float32, numpy=0.1601889>, 0], [<tf.Tensor: shape=(), dtype=float32, numpy=0.1601889>, 0], [<tf.Tensor: shape=(), dtype=float32, numpy=0.1601889>, 0], [<tf.Tensor: shape=(), dtype=float32, numpy=0.1601889>, 0], [<tf.Tensor: shape=(), dtype=float32, numpy=0.1601889>, 0], [<tf.Tensor: shape=(), dtype=float32, numpy=0.1601889>, 0]]\n",
            "See who you trust -  [0.47190312, 0.5280969]\n"
          ]
        },
        {
          "output_type": "stream",
          "name": "stderr",
          "text": [
            "\r 76%|███████▌  | 76/100 [01:37<00:30,  1.26s/it]"
          ]
        },
        {
          "output_type": "stream",
          "name": "stdout",
          "text": [
            "[[<tf.Tensor: shape=(), dtype=float32, numpy=0.11582042>, 0], [<tf.Tensor: shape=(), dtype=float32, numpy=0.11582042>, 0], [<tf.Tensor: shape=(), dtype=float32, numpy=0.11582042>, 0], [<tf.Tensor: shape=(), dtype=float32, numpy=0.11582042>, 0], [<tf.Tensor: shape=(), dtype=float32, numpy=0.11582042>, 0], [<tf.Tensor: shape=(), dtype=float32, numpy=0.11582042>, 0], [<tf.Tensor: shape=(), dtype=float32, numpy=0.11582042>, 0], [<tf.Tensor: shape=(), dtype=float32, numpy=0.11582042>, 0], [<tf.Tensor: shape=(), dtype=float32, numpy=0.11582042>, 0]]\n",
            "See who you trust -  [0.48078856, 0.5192114]\n"
          ]
        },
        {
          "output_type": "stream",
          "name": "stderr",
          "text": [
            "\r 77%|███████▋  | 77/100 [01:38<00:28,  1.25s/it]"
          ]
        },
        {
          "output_type": "stream",
          "name": "stdout",
          "text": [
            "[[<tf.Tensor: shape=(), dtype=float32, numpy=0.15971081>, 0], [<tf.Tensor: shape=(), dtype=float32, numpy=0.15971081>, 0], [<tf.Tensor: shape=(), dtype=float32, numpy=0.15971081>, 0], [<tf.Tensor: shape=(), dtype=float32, numpy=0.15971081>, 0], [<tf.Tensor: shape=(), dtype=float32, numpy=0.15971081>, 0], [<tf.Tensor: shape=(), dtype=float32, numpy=0.15971081>, 0], [<tf.Tensor: shape=(), dtype=float32, numpy=0.15971081>, 0], [<tf.Tensor: shape=(), dtype=float32, numpy=0.15971081>, 0], [<tf.Tensor: shape=(), dtype=float32, numpy=0.15971081>, 0]]\n",
            "See who you trust -  [0.47182128, 0.52817875]\n"
          ]
        },
        {
          "output_type": "stream",
          "name": "stderr",
          "text": [
            "\r 78%|███████▊  | 78/100 [01:40<00:27,  1.27s/it]"
          ]
        },
        {
          "output_type": "stream",
          "name": "stdout",
          "text": [
            "[[<tf.Tensor: shape=(), dtype=float32, numpy=0.16469802>, 0], [<tf.Tensor: shape=(), dtype=float32, numpy=0.16469802>, 0], [<tf.Tensor: shape=(), dtype=float32, numpy=0.16469802>, 0], [<tf.Tensor: shape=(), dtype=float32, numpy=0.16469802>, 0], [<tf.Tensor: shape=(), dtype=float32, numpy=0.16469802>, 0], [<tf.Tensor: shape=(), dtype=float32, numpy=0.16469802>, 0], [<tf.Tensor: shape=(), dtype=float32, numpy=0.16469802>, 0], [<tf.Tensor: shape=(), dtype=float32, numpy=0.16469802>, 0], [<tf.Tensor: shape=(), dtype=float32, numpy=0.16469802>, 0]]\n",
            "See who you trust -  [0.47540054, 0.5245995]\n"
          ]
        },
        {
          "output_type": "stream",
          "name": "stderr",
          "text": [
            "\r 79%|███████▉  | 79/100 [01:41<00:26,  1.26s/it]"
          ]
        },
        {
          "output_type": "stream",
          "name": "stdout",
          "text": [
            "[[<tf.Tensor: shape=(), dtype=float32, numpy=0.14589545>, 0], [<tf.Tensor: shape=(), dtype=float32, numpy=0.14589545>, 0], [<tf.Tensor: shape=(), dtype=float32, numpy=0.14589545>, 0], [<tf.Tensor: shape=(), dtype=float32, numpy=0.14589545>, 0], [<tf.Tensor: shape=(), dtype=float32, numpy=0.14589545>, 0], [<tf.Tensor: shape=(), dtype=float32, numpy=0.14589545>, 0], [<tf.Tensor: shape=(), dtype=float32, numpy=0.14589545>, 0], [<tf.Tensor: shape=(), dtype=float32, numpy=0.14589545>, 0], [<tf.Tensor: shape=(), dtype=float32, numpy=0.14589545>, 0]]\n",
            "See who you trust -  [0.4783996, 0.52160037]\n"
          ]
        },
        {
          "output_type": "stream",
          "name": "stderr",
          "text": [
            "\r 80%|████████  | 80/100 [01:42<00:25,  1.26s/it]"
          ]
        },
        {
          "output_type": "stream",
          "name": "stdout",
          "text": [
            "[[<tf.Tensor: shape=(), dtype=float32, numpy=0.17906216>, 0], [<tf.Tensor: shape=(), dtype=float32, numpy=0.17906216>, 0], [<tf.Tensor: shape=(), dtype=float32, numpy=0.17906216>, 0], [<tf.Tensor: shape=(), dtype=float32, numpy=0.17906216>, 0], [<tf.Tensor: shape=(), dtype=float32, numpy=0.17906216>, 0], [<tf.Tensor: shape=(), dtype=float32, numpy=0.17906216>, 0], [<tf.Tensor: shape=(), dtype=float32, numpy=0.17906216>, 0], [<tf.Tensor: shape=(), dtype=float32, numpy=0.17906216>, 0], [<tf.Tensor: shape=(), dtype=float32, numpy=0.17906216>, 0]]\n",
            "See who you trust -  [0.4702028, 0.52979726]\n"
          ]
        },
        {
          "output_type": "stream",
          "name": "stderr",
          "text": [
            "\r 81%|████████  | 81/100 [01:43<00:24,  1.27s/it]"
          ]
        },
        {
          "output_type": "stream",
          "name": "stdout",
          "text": [
            "[[<tf.Tensor: shape=(), dtype=float32, numpy=0.11540311>, 0], [<tf.Tensor: shape=(), dtype=float32, numpy=0.11540311>, 0], [<tf.Tensor: shape=(), dtype=float32, numpy=0.11540311>, 0], [<tf.Tensor: shape=(), dtype=float32, numpy=0.11540311>, 0], [<tf.Tensor: shape=(), dtype=float32, numpy=0.11540311>, 0], [<tf.Tensor: shape=(), dtype=float32, numpy=0.11540311>, 0], [<tf.Tensor: shape=(), dtype=float32, numpy=0.11540311>, 0], [<tf.Tensor: shape=(), dtype=float32, numpy=0.11540311>, 0], [<tf.Tensor: shape=(), dtype=float32, numpy=0.11540311>, 0]]\n",
            "See who you trust -  [0.48193765, 0.5180623]\n"
          ]
        },
        {
          "output_type": "stream",
          "name": "stderr",
          "text": [
            "\r 82%|████████▏ | 82/100 [01:45<00:22,  1.27s/it]"
          ]
        },
        {
          "output_type": "stream",
          "name": "stdout",
          "text": [
            "[[<tf.Tensor: shape=(), dtype=float32, numpy=0.11828323>, 0], [<tf.Tensor: shape=(), dtype=float32, numpy=0.11828323>, 0], [<tf.Tensor: shape=(), dtype=float32, numpy=0.11828323>, 0], [<tf.Tensor: shape=(), dtype=float32, numpy=0.11828323>, 0], [<tf.Tensor: shape=(), dtype=float32, numpy=0.11828323>, 0], [<tf.Tensor: shape=(), dtype=float32, numpy=0.11828323>, 0], [<tf.Tensor: shape=(), dtype=float32, numpy=0.11828323>, 0], [<tf.Tensor: shape=(), dtype=float32, numpy=0.11828323>, 0], [<tf.Tensor: shape=(), dtype=float32, numpy=0.11828323>, 0]]\n",
            "See who you trust -  [0.48026338, 0.5197366]\n"
          ]
        },
        {
          "output_type": "stream",
          "name": "stderr",
          "text": [
            "\r 83%|████████▎ | 83/100 [01:46<00:21,  1.26s/it]"
          ]
        },
        {
          "output_type": "stream",
          "name": "stdout",
          "text": [
            "[[<tf.Tensor: shape=(), dtype=float32, numpy=0.15953635>, 0], [<tf.Tensor: shape=(), dtype=float32, numpy=0.15953635>, 0], [<tf.Tensor: shape=(), dtype=float32, numpy=0.15953635>, 0], [<tf.Tensor: shape=(), dtype=float32, numpy=0.15953635>, 0], [<tf.Tensor: shape=(), dtype=float32, numpy=0.15953635>, 0], [<tf.Tensor: shape=(), dtype=float32, numpy=0.15953635>, 0], [<tf.Tensor: shape=(), dtype=float32, numpy=0.15953635>, 0], [<tf.Tensor: shape=(), dtype=float32, numpy=0.15953635>, 0], [<tf.Tensor: shape=(), dtype=float32, numpy=0.15953635>, 0]]\n",
            "See who you trust -  [0.47179142, 0.5282086]\n"
          ]
        },
        {
          "output_type": "stream",
          "name": "stderr",
          "text": [
            "\r 84%|████████▍ | 84/100 [01:47<00:20,  1.26s/it]"
          ]
        },
        {
          "output_type": "stream",
          "name": "stdout",
          "text": [
            "[[<tf.Tensor: shape=(), dtype=float32, numpy=0.15672208>, 0], [<tf.Tensor: shape=(), dtype=float32, numpy=0.15672208>, 0], [<tf.Tensor: shape=(), dtype=float32, numpy=0.15672208>, 0], [<tf.Tensor: shape=(), dtype=float32, numpy=0.15672208>, 0], [<tf.Tensor: shape=(), dtype=float32, numpy=0.15672208>, 0], [<tf.Tensor: shape=(), dtype=float32, numpy=0.15672208>, 0], [<tf.Tensor: shape=(), dtype=float32, numpy=0.15672208>, 0], [<tf.Tensor: shape=(), dtype=float32, numpy=0.15672208>, 0], [<tf.Tensor: shape=(), dtype=float32, numpy=0.15672208>, 0]]\n",
            "See who you trust -  [0.47650135, 0.5234987]\n"
          ]
        },
        {
          "output_type": "stream",
          "name": "stderr",
          "text": [
            "\r 85%|████████▌ | 85/100 [01:48<00:18,  1.26s/it]"
          ]
        },
        {
          "output_type": "stream",
          "name": "stdout",
          "text": [
            "[[<tf.Tensor: shape=(), dtype=float32, numpy=0.11694898>, 0], [<tf.Tensor: shape=(), dtype=float32, numpy=0.11694898>, 0], [<tf.Tensor: shape=(), dtype=float32, numpy=0.11694898>, 0], [<tf.Tensor: shape=(), dtype=float32, numpy=0.11694898>, 0], [<tf.Tensor: shape=(), dtype=float32, numpy=0.11694898>, 0], [<tf.Tensor: shape=(), dtype=float32, numpy=0.11694898>, 0], [<tf.Tensor: shape=(), dtype=float32, numpy=0.11694898>, 0], [<tf.Tensor: shape=(), dtype=float32, numpy=0.11694898>, 0], [<tf.Tensor: shape=(), dtype=float32, numpy=0.11694898>, 0]]\n",
            "See who you trust -  [0.48114347, 0.5188565]\n"
          ]
        },
        {
          "output_type": "stream",
          "name": "stderr",
          "text": [
            "\r 86%|████████▌ | 86/100 [01:50<00:17,  1.27s/it]"
          ]
        },
        {
          "output_type": "stream",
          "name": "stdout",
          "text": [
            "[[<tf.Tensor: shape=(), dtype=float32, numpy=0.18008918>, 0], [<tf.Tensor: shape=(), dtype=float32, numpy=0.18008918>, 0], [<tf.Tensor: shape=(), dtype=float32, numpy=0.18008918>, 0], [<tf.Tensor: shape=(), dtype=float32, numpy=0.18008918>, 0], [<tf.Tensor: shape=(), dtype=float32, numpy=0.18008918>, 0], [<tf.Tensor: shape=(), dtype=float32, numpy=0.18008918>, 0], [<tf.Tensor: shape=(), dtype=float32, numpy=0.18008918>, 0], [<tf.Tensor: shape=(), dtype=float32, numpy=0.18008918>, 0], [<tf.Tensor: shape=(), dtype=float32, numpy=0.18008918>, 0]]\n",
            "See who you trust -  [0.47232476, 0.5276752]\n"
          ]
        },
        {
          "output_type": "stream",
          "name": "stderr",
          "text": [
            "\r 87%|████████▋ | 87/100 [01:51<00:16,  1.26s/it]"
          ]
        },
        {
          "output_type": "stream",
          "name": "stdout",
          "text": [
            "[[<tf.Tensor: shape=(), dtype=float32, numpy=0.17678839>, 0], [<tf.Tensor: shape=(), dtype=float32, numpy=0.17678839>, 0], [<tf.Tensor: shape=(), dtype=float32, numpy=0.17678839>, 0], [<tf.Tensor: shape=(), dtype=float32, numpy=0.17678839>, 0], [<tf.Tensor: shape=(), dtype=float32, numpy=0.17678839>, 0], [<tf.Tensor: shape=(), dtype=float32, numpy=0.17678839>, 0], [<tf.Tensor: shape=(), dtype=float32, numpy=0.17678839>, 0], [<tf.Tensor: shape=(), dtype=float32, numpy=0.17678839>, 0], [<tf.Tensor: shape=(), dtype=float32, numpy=0.17678839>, 0]]\n",
            "See who you trust -  [0.46987563, 0.53012437]\n"
          ]
        },
        {
          "output_type": "stream",
          "name": "stderr",
          "text": [
            "\r 88%|████████▊ | 88/100 [01:52<00:15,  1.26s/it]"
          ]
        },
        {
          "output_type": "stream",
          "name": "stdout",
          "text": [
            "[[<tf.Tensor: shape=(), dtype=float32, numpy=0.17587169>, 0], [<tf.Tensor: shape=(), dtype=float32, numpy=0.17587169>, 0], [<tf.Tensor: shape=(), dtype=float32, numpy=0.17587169>, 0], [<tf.Tensor: shape=(), dtype=float32, numpy=0.17587169>, 0], [<tf.Tensor: shape=(), dtype=float32, numpy=0.17587169>, 0], [<tf.Tensor: shape=(), dtype=float32, numpy=0.17587169>, 0], [<tf.Tensor: shape=(), dtype=float32, numpy=0.17587169>, 0], [<tf.Tensor: shape=(), dtype=float32, numpy=0.17587169>, 0], [<tf.Tensor: shape=(), dtype=float32, numpy=0.17587169>, 0]]\n",
            "See who you trust -  [0.46974352, 0.53025645]\n"
          ]
        },
        {
          "output_type": "stream",
          "name": "stderr",
          "text": [
            "\r 89%|████████▉ | 89/100 [01:53<00:13,  1.26s/it]"
          ]
        },
        {
          "output_type": "stream",
          "name": "stdout",
          "text": [
            "[[<tf.Tensor: shape=(), dtype=float32, numpy=0.1560418>, 0], [<tf.Tensor: shape=(), dtype=float32, numpy=0.1560418>, 0], [<tf.Tensor: shape=(), dtype=float32, numpy=0.1560418>, 0], [<tf.Tensor: shape=(), dtype=float32, numpy=0.1560418>, 0], [<tf.Tensor: shape=(), dtype=float32, numpy=0.1560418>, 0], [<tf.Tensor: shape=(), dtype=float32, numpy=0.1560418>, 0], [<tf.Tensor: shape=(), dtype=float32, numpy=0.1560418>, 0], [<tf.Tensor: shape=(), dtype=float32, numpy=0.1560418>, 0], [<tf.Tensor: shape=(), dtype=float32, numpy=0.1560418>, 0]]\n",
            "See who you trust -  [0.4746321, 0.5253679]\n"
          ]
        },
        {
          "output_type": "stream",
          "name": "stderr",
          "text": [
            "\r 90%|█████████ | 90/100 [01:55<00:12,  1.27s/it]"
          ]
        },
        {
          "output_type": "stream",
          "name": "stdout",
          "text": [
            "[[<tf.Tensor: shape=(), dtype=float32, numpy=0.15766573>, 0], [<tf.Tensor: shape=(), dtype=float32, numpy=0.15766573>, 0], [<tf.Tensor: shape=(), dtype=float32, numpy=0.15766573>, 0], [<tf.Tensor: shape=(), dtype=float32, numpy=0.15766573>, 0], [<tf.Tensor: shape=(), dtype=float32, numpy=0.15766573>, 0], [<tf.Tensor: shape=(), dtype=float32, numpy=0.15766573>, 0], [<tf.Tensor: shape=(), dtype=float32, numpy=0.15766573>, 0], [<tf.Tensor: shape=(), dtype=float32, numpy=0.15766573>, 0], [<tf.Tensor: shape=(), dtype=float32, numpy=0.15766573>, 0]]\n",
            "See who you trust -  [0.47494698, 0.525053]\n"
          ]
        },
        {
          "output_type": "stream",
          "name": "stderr",
          "text": [
            "\r 91%|█████████ | 91/100 [01:56<00:11,  1.28s/it]"
          ]
        },
        {
          "output_type": "stream",
          "name": "stdout",
          "text": [
            "[[<tf.Tensor: shape=(), dtype=float32, numpy=0.15777032>, 0], [<tf.Tensor: shape=(), dtype=float32, numpy=0.15777032>, 0], [<tf.Tensor: shape=(), dtype=float32, numpy=0.15777032>, 0], [<tf.Tensor: shape=(), dtype=float32, numpy=0.15777032>, 0], [<tf.Tensor: shape=(), dtype=float32, numpy=0.15777032>, 0], [<tf.Tensor: shape=(), dtype=float32, numpy=0.15777032>, 0], [<tf.Tensor: shape=(), dtype=float32, numpy=0.15777032>, 0], [<tf.Tensor: shape=(), dtype=float32, numpy=0.15777032>, 0], [<tf.Tensor: shape=(), dtype=float32, numpy=0.15777032>, 0]]\n",
            "See who you trust -  [0.47496724, 0.52503276]\n"
          ]
        },
        {
          "output_type": "stream",
          "name": "stderr",
          "text": [
            "\r 92%|█████████▏| 92/100 [01:57<00:10,  1.26s/it]"
          ]
        },
        {
          "output_type": "stream",
          "name": "stdout",
          "text": [
            "[[<tf.Tensor: shape=(), dtype=float32, numpy=0.15777706>, 0], [<tf.Tensor: shape=(), dtype=float32, numpy=0.15777706>, 0], [<tf.Tensor: shape=(), dtype=float32, numpy=0.15777706>, 0], [<tf.Tensor: shape=(), dtype=float32, numpy=0.15777706>, 0], [<tf.Tensor: shape=(), dtype=float32, numpy=0.15777706>, 0], [<tf.Tensor: shape=(), dtype=float32, numpy=0.15777706>, 0], [<tf.Tensor: shape=(), dtype=float32, numpy=0.15777706>, 0], [<tf.Tensor: shape=(), dtype=float32, numpy=0.15777706>, 0], [<tf.Tensor: shape=(), dtype=float32, numpy=0.15777706>, 0]]\n",
            "See who you trust -  [0.4714899, 0.5285101]\n"
          ]
        },
        {
          "output_type": "stream",
          "name": "stderr",
          "text": [
            "\r 93%|█████████▎| 93/100 [01:58<00:08,  1.26s/it]"
          ]
        },
        {
          "output_type": "stream",
          "name": "stdout",
          "text": [
            "[[<tf.Tensor: shape=(), dtype=float32, numpy=0.15662193>, 0], [<tf.Tensor: shape=(), dtype=float32, numpy=0.15662193>, 0], [<tf.Tensor: shape=(), dtype=float32, numpy=0.15662193>, 0], [<tf.Tensor: shape=(), dtype=float32, numpy=0.15662193>, 0], [<tf.Tensor: shape=(), dtype=float32, numpy=0.15662193>, 0], [<tf.Tensor: shape=(), dtype=float32, numpy=0.15662193>, 0], [<tf.Tensor: shape=(), dtype=float32, numpy=0.15662193>, 0], [<tf.Tensor: shape=(), dtype=float32, numpy=0.15662193>, 0], [<tf.Tensor: shape=(), dtype=float32, numpy=0.15662193>, 0]]\n",
            "See who you trust -  [0.47129166, 0.52870834]\n"
          ]
        },
        {
          "output_type": "stream",
          "name": "stderr",
          "text": [
            "\r 94%|█████████▍| 94/100 [02:00<00:07,  1.26s/it]"
          ]
        },
        {
          "output_type": "stream",
          "name": "stdout",
          "text": [
            "[[<tf.Tensor: shape=(), dtype=float32, numpy=0.15655607>, 0], [<tf.Tensor: shape=(), dtype=float32, numpy=0.15655607>, 0], [<tf.Tensor: shape=(), dtype=float32, numpy=0.15655607>, 0], [<tf.Tensor: shape=(), dtype=float32, numpy=0.15655607>, 0], [<tf.Tensor: shape=(), dtype=float32, numpy=0.15655607>, 0], [<tf.Tensor: shape=(), dtype=float32, numpy=0.15655607>, 0], [<tf.Tensor: shape=(), dtype=float32, numpy=0.15655607>, 0], [<tf.Tensor: shape=(), dtype=float32, numpy=0.15655607>, 0], [<tf.Tensor: shape=(), dtype=float32, numpy=0.15655607>, 0]]\n",
            "See who you trust -  [0.47646725, 0.52353275]\n"
          ]
        },
        {
          "output_type": "stream",
          "name": "stderr",
          "text": [
            "\r 95%|█████████▌| 95/100 [02:01<00:06,  1.26s/it]"
          ]
        },
        {
          "output_type": "stream",
          "name": "stdout",
          "text": [
            "[[<tf.Tensor: shape=(), dtype=float32, numpy=0.15827534>, 0], [<tf.Tensor: shape=(), dtype=float32, numpy=0.15827534>, 0], [<tf.Tensor: shape=(), dtype=float32, numpy=0.15827534>, 0], [<tf.Tensor: shape=(), dtype=float32, numpy=0.15827534>, 0], [<tf.Tensor: shape=(), dtype=float32, numpy=0.15827534>, 0], [<tf.Tensor: shape=(), dtype=float32, numpy=0.15827534>, 0], [<tf.Tensor: shape=(), dtype=float32, numpy=0.15827534>, 0], [<tf.Tensor: shape=(), dtype=float32, numpy=0.15827534>, 0], [<tf.Tensor: shape=(), dtype=float32, numpy=0.15827534>, 0]]\n",
            "See who you trust -  [0.47332865, 0.52667135]\n"
          ]
        },
        {
          "output_type": "stream",
          "name": "stderr",
          "text": [
            "\r 96%|█████████▌| 96/100 [02:02<00:05,  1.25s/it]"
          ]
        },
        {
          "output_type": "stream",
          "name": "stdout",
          "text": [
            "[[<tf.Tensor: shape=(), dtype=float32, numpy=0.17716414>, 0], [<tf.Tensor: shape=(), dtype=float32, numpy=0.17716414>, 0], [<tf.Tensor: shape=(), dtype=float32, numpy=0.17716414>, 0], [<tf.Tensor: shape=(), dtype=float32, numpy=0.17716414>, 0], [<tf.Tensor: shape=(), dtype=float32, numpy=0.17716414>, 0], [<tf.Tensor: shape=(), dtype=float32, numpy=0.17716414>, 0], [<tf.Tensor: shape=(), dtype=float32, numpy=0.17716414>, 0], [<tf.Tensor: shape=(), dtype=float32, numpy=0.17716414>, 0], [<tf.Tensor: shape=(), dtype=float32, numpy=0.17716414>, 0]]\n",
            "See who you trust -  [0.47187194, 0.528128]\n"
          ]
        },
        {
          "output_type": "stream",
          "name": "stderr",
          "text": [
            "\r 97%|█████████▋| 97/100 [02:03<00:03,  1.25s/it]"
          ]
        },
        {
          "output_type": "stream",
          "name": "stdout",
          "text": [
            "[[<tf.Tensor: shape=(), dtype=float32, numpy=0.1766189>, 0], [<tf.Tensor: shape=(), dtype=float32, numpy=0.1766189>, 0], [<tf.Tensor: shape=(), dtype=float32, numpy=0.1766189>, 0], [<tf.Tensor: shape=(), dtype=float32, numpy=0.1766189>, 0], [<tf.Tensor: shape=(), dtype=float32, numpy=0.1766189>, 0], [<tf.Tensor: shape=(), dtype=float32, numpy=0.1766189>, 0], [<tf.Tensor: shape=(), dtype=float32, numpy=0.1766189>, 0], [<tf.Tensor: shape=(), dtype=float32, numpy=0.1766189>, 0], [<tf.Tensor: shape=(), dtype=float32, numpy=0.1766189>, 0]]\n",
            "See who you trust -  [0.47178742, 0.52821255]\n"
          ]
        },
        {
          "output_type": "stream",
          "name": "stderr",
          "text": [
            "\r 98%|█████████▊| 98/100 [02:05<00:02,  1.25s/it]"
          ]
        },
        {
          "output_type": "stream",
          "name": "stdout",
          "text": [
            "[[<tf.Tensor: shape=(), dtype=float32, numpy=0.15672076>, 0], [<tf.Tensor: shape=(), dtype=float32, numpy=0.15672076>, 0], [<tf.Tensor: shape=(), dtype=float32, numpy=0.15672076>, 0], [<tf.Tensor: shape=(), dtype=float32, numpy=0.15672076>, 0], [<tf.Tensor: shape=(), dtype=float32, numpy=0.15672076>, 0], [<tf.Tensor: shape=(), dtype=float32, numpy=0.15672076>, 0], [<tf.Tensor: shape=(), dtype=float32, numpy=0.15672076>, 0], [<tf.Tensor: shape=(), dtype=float32, numpy=0.15672076>, 0], [<tf.Tensor: shape=(), dtype=float32, numpy=0.15672076>, 0]]\n",
            "See who you trust -  [0.47650102, 0.52349895]\n"
          ]
        },
        {
          "output_type": "stream",
          "name": "stderr",
          "text": [
            "\r 99%|█████████▉| 99/100 [02:06<00:01,  1.26s/it]"
          ]
        },
        {
          "output_type": "stream",
          "name": "stdout",
          "text": [
            "[[<tf.Tensor: shape=(), dtype=float32, numpy=0.17835154>, 0], [<tf.Tensor: shape=(), dtype=float32, numpy=0.17835154>, 0], [<tf.Tensor: shape=(), dtype=float32, numpy=0.17835154>, 0], [<tf.Tensor: shape=(), dtype=float32, numpy=0.17835154>, 0], [<tf.Tensor: shape=(), dtype=float32, numpy=0.17835154>, 0], [<tf.Tensor: shape=(), dtype=float32, numpy=0.17835154>, 0], [<tf.Tensor: shape=(), dtype=float32, numpy=0.17835154>, 0], [<tf.Tensor: shape=(), dtype=float32, numpy=0.17835154>, 0], [<tf.Tensor: shape=(), dtype=float32, numpy=0.17835154>, 0]]\n",
            "See who you trust -  [0.47403184, 0.52596813]\n"
          ]
        },
        {
          "output_type": "stream",
          "name": "stderr",
          "text": [
            "100%|██████████| 100/100 [02:07<00:00,  1.28s/it]"
          ]
        },
        {
          "output_type": "stream",
          "name": "stdout",
          "text": [
            "[[<tf.Tensor: shape=(), dtype=float32, numpy=0.17742734>, 0], [<tf.Tensor: shape=(), dtype=float32, numpy=0.17742734>, 0], [<tf.Tensor: shape=(), dtype=float32, numpy=0.17742734>, 0], [<tf.Tensor: shape=(), dtype=float32, numpy=0.17742734>, 0], [<tf.Tensor: shape=(), dtype=float32, numpy=0.17742734>, 0], [<tf.Tensor: shape=(), dtype=float32, numpy=0.17742734>, 0], [<tf.Tensor: shape=(), dtype=float32, numpy=0.17742734>, 0], [<tf.Tensor: shape=(), dtype=float32, numpy=0.17742734>, 0], [<tf.Tensor: shape=(), dtype=float32, numpy=0.17742734>, 0]]\n",
            "See who you trust -  [0.47387838, 0.5261216]\n"
          ]
        },
        {
          "output_type": "stream",
          "name": "stderr",
          "text": [
            "\n"
          ]
        },
        {
          "output_type": "display_data",
          "data": {
            "text/plain": [
              "<Figure size 432x288 with 1 Axes>"
            ],
            "image/png": "[encoded data removed]"
          },
          "metadata": {
            "needs_background": "light"
          }
        },
        {
          "output_type": "stream",
          "name": "stderr",
          "text": [
            "WARNING:tensorflow:Compiled the loaded model, but the compiled metrics have yet to be built. `model.compile_metrics` will be empty until you train or evaluate the model.\n",
            "WARNING:absl:Found untraced functions such as lstm_cell_20_layer_call_fn, lstm_cell_20_layer_call_and_return_conditional_losses while saving (showing 2 of 2). These functions will not be directly callable after loading.\n"
          ]
        }
      ]
    },
    {
      "cell_type": "code",
      "source": [
        "from google.colab import drive,files\n",
        "drive.mount(\"/content/drive\")"
      ],
      "metadata": {
        "colab": {
          "base_uri": "https://localhost:8080/"
        },
        "id": "9kLlYMdI8_Uo",
        "outputId": "21742aac-3bbd-496b-fb50-73d96c465167"
      },
      "execution_count": null,
      "outputs": [
        {
          "output_type": "stream",
          "name": "stdout",
          "text": [
            "Mounted at /content/drive\n"
          ]
        }
      ]
    },
    {
      "cell_type": "code",
      "source": [
        "!cp -rf Expert.ml /content/drive/MyDrive/SavedRLModels/"
      ],
      "metadata": {
        "id": "FeJIV4jy8W-x"
      },
      "execution_count": null,
      "outputs": []
    },
    {
      "cell_type": "code",
      "source": [
        "!ls -lrt /content/drive/MyDrive/SavedRLModels/"
      ],
      "metadata": {
        "colab": {
          "base_uri": "https://localhost:8080/"
        },
        "id": "IHTy9BtD05a2",
        "outputId": "f106f3f7-9de2-43d1-a0ba-b39500c50d72"
      },
      "execution_count": null,
      "outputs": [
        {
          "output_type": "stream",
          "name": "stdout",
          "text": [
            "total 725\n",
            "drwx------ 2 root root   4096 Dec  3 21:50 variables\n",
            "-rw------- 1 root root 720473 Dec  3 21:50 saved_model.pb\n",
            "-rw------- 1 root root   8614 Dec  3 21:50 keras_metadata.pb\n",
            "drwx------ 2 root root   4096 Dec  3 21:50 assets\n",
            "drwx------ 4 root root   4096 Dec  3 21:51 Expert1.ml\n"
          ]
        }
      ]
    }
  ]
}