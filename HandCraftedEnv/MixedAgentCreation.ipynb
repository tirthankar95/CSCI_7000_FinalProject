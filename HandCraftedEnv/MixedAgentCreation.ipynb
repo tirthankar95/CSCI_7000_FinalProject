{
  "nbformat": 4,
  "nbformat_minor": 0,
  "metadata": {
    "colab": {
      "provenance": []
    },
    "kernelspec": {
      "name": "python3",
      "display_name": "Python 3"
    },
    "language_info": {
      "name": "python"
    },
    "accelerator": "GPU",
    "gpuClass": "standard"
  },
  "cells": [
    {
      "cell_type": "code",
      "execution_count": 1,
      "metadata": {
        "colab": {
          "base_uri": "https://localhost:8080/"
        },
        "id": "uFMRt2EWxyzq",
        "outputId": "08dffc7b-9b9e-4e38-e0e9-4bf7db49f14a"
      },
      "outputs": [
        {
          "output_type": "stream",
          "name": "stdout",
          "text": [
            "Cloning into 'CSCI_7000_FinalProject'...\n",
            "remote: Enumerating objects: 651, done.\u001b[K\n",
            "remote: Counting objects: 100% (174/174), done.\u001b[K\n",
            "remote: Compressing objects: 100% (113/113), done.\u001b[K\n",
            "remote: Total 651 (delta 72), reused 141 (delta 48), pack-reused 477\u001b[K\n",
            "Receiving objects: 100% (651/651), 25.51 MiB | 17.31 MiB/s, done.\n",
            "Resolving deltas: 100% (277/277), done.\n",
            "Reading package lists... Done\n",
            "Building dependency tree       \n",
            "Reading state information... Done\n",
            "The following package was automatically installed and is no longer required:\n",
            "  libnvidia-common-460\n",
            "Use 'sudo apt autoremove' to remove it.\n",
            "The following NEW packages will be installed:\n",
            "  rar\n",
            "0 upgraded, 1 newly installed, 0 to remove and 20 not upgraded.\n",
            "Need to get 295 kB of archives.\n",
            "After this operation, 799 kB of additional disk space will be used.\n",
            "Get:1 http://archive.ubuntu.com/ubuntu bionic/multiverse amd64 rar amd64 2:5.5.0-1 [295 kB]\n",
            "Fetched 295 kB in 0s (1,400 kB/s)\n",
            "debconf: unable to initialize frontend: Dialog\n",
            "debconf: (No usable dialog-like program is installed, so the dialog based frontend cannot be used. at /usr/share/perl5/Debconf/FrontEnd/Dialog.pm line 76, <> line 1.)\n",
            "debconf: falling back to frontend: Readline\n",
            "debconf: unable to initialize frontend: Readline\n",
            "debconf: (This frontend requires a controlling tty.)\n",
            "debconf: falling back to frontend: Teletype\n",
            "dpkg-preconfigure: unable to re-open stdin: \n",
            "Selecting previously unselected package rar.\n",
            "(Reading database ... 124013 files and directories currently installed.)\n",
            "Preparing to unpack .../rar_2%3a5.5.0-1_amd64.deb ...\n",
            "Unpacking rar (2:5.5.0-1) ...\n",
            "Setting up rar (2:5.5.0-1) ...\n",
            "Processing triggers for man-db (2.8.3-2ubuntu0.1) ...\n"
          ]
        }
      ],
      "source": [
        "!git clone -b mittra https://github.com/tirthankar95/CSCI_7000_FinalProject.git\n",
        "!sudo apt install rar"
      ]
    },
    {
      "cell_type": "code",
      "source": [
        "import numpy as np\n",
        "import random\n",
        "import matplotlib.pyplot as plt\n",
        "import tensorflow as tf\n",
        "import keras\n",
        "from keras.models import Sequential,Model\n",
        "from keras.layers import LSTM,Bidirectional,Dense,Input,Embedding,TimeDistributed,SimpleRNN,Flatten\n",
        "from keras.callbacks import EarlyStopping, ModelCheckpoint\n",
        "from tqdm import tqdm\n",
        "import re"
      ],
      "metadata": {
        "id": "h5aSfF-ZD6ai"
      },
      "execution_count": 8,
      "outputs": []
    },
    {
      "cell_type": "code",
      "source": [
        "%cd /content/CSCI_7000_FinalProject/"
      ],
      "metadata": {
        "colab": {
          "base_uri": "https://localhost:8080/"
        },
        "id": "W2vOupSmDZOw",
        "outputId": "f656ba3c-4460-4730-8a7f-f0a9bf5e84bf"
      },
      "execution_count": 4,
      "outputs": [
        {
          "output_type": "stream",
          "name": "stdout",
          "text": [
            "/content/CSCI_7000_FinalProject\n"
          ]
        }
      ]
    },
    {
      "cell_type": "code",
      "source": [
        "from HandCraftedEnv.mylava_env import *\n",
        "from HandCraftedEnv.mydoorkey_env import *"
      ],
      "metadata": {
        "id": "k6zyLYUn8dsl"
      },
      "execution_count": 5,
      "outputs": []
    },
    {
      "cell_type": "code",
      "source": [
        "def plotProgress(reward_plot,xlabel,ylabel,title):\n",
        "    plt.plot(reward_plot)\n",
        "    plt.xlabel(xlabel)\n",
        "    plt.ylabel(ylabel)\n",
        "    plt.title(title)\n",
        "    plt.savefig(f'{ylabel}.png')\n",
        "    plt.show()\n",
        "\n",
        "def create():\n",
        "    global num_actions,frameForPrediction\n",
        "    input=Input(shape=(frameForPrediction,25)) # (4,1,5,5) ~ my grid returns (1,2*visibility+1,2*visibility+1)\n",
        "    temp=LSTM(units=100,return_sequences=False)(input)\n",
        "    temp=Dense(units=100, activation='relu')(temp)\n",
        "    temp=Dense(units=50, activation='relu')(temp)\n",
        "    temp=Dense(units=10, activation='relu')(temp)\n",
        "    output=Dense(units=num_actions,activation='linear')(temp)\n",
        "    model=Model(input,output)\n",
        "    return model"
      ],
      "metadata": {
        "id": "P6P3VirQ7e4Q"
      },
      "execution_count": 14,
      "outputs": []
    },
    {
      "cell_type": "code",
      "source": [
        "def trainAgentInEnv(env):\n",
        "  global model,model_target,loss_function,optimizer,reward_plot,action_history,state_history,state_next_history,rewards_history,noOfUpdates\n",
        "  # Configuration paramaters for the whole setup\n",
        "  seed = 42\n",
        "  gamma = 0.99  # Discount factor for past rewards\n",
        "  epsilon = 1.0  # Epsilon greedy parameter\n",
        "  epsilon_min = 0.1  # Minimum epsilon greedy parameter\n",
        "  epsilon_max = 1.0  # Maximum epsilon greedy parameter\n",
        "  epsilon_interval = (\n",
        "      epsilon_max - epsilon_min\n",
        "  )  # Rate at which to reduce chance of random action being taken\n",
        "  batch_size = 128  # Size of batch taken from replay buffer\n",
        "  max_steps_per_episode = 1000\n",
        "  episode_reward_history=[]\n",
        "\n",
        "  running_reward = 0\n",
        "  frame_count = 0\n",
        "  # Number of frames to take random action and observe output\n",
        "  epsilon_random_frames = 10000\n",
        "  # Number of frames for exploration\n",
        "  epsilon_greedy_frames = 10000.0\n",
        "  # Maximum replay length\n",
        "  # Note: The Deepmind paper suggests 1000000 however this causes memory issues\n",
        "  max_memory_length = 100000\n",
        "  # Train the model after 4 actions\n",
        "  update_after_actions = 10\n",
        "  # How often to update the target network\n",
        "  update_target_network = 1000\n",
        "  # Using huber loss for stability\n",
        "  # We are taking 4 frames in our LSTM\n",
        "  frame_offset=frameForPrediction-1\n",
        "  noOfEpisodes=1000 #beast 100000\n",
        "\n",
        "  dummy_state=[[[-1 for i in range(5)] for j in range(5)]] #2*visibility+1=5\n",
        "  dummy_action=-1\n",
        "  dummy_reward=-1\n",
        "  dummy=-1\n",
        "  # Run this multiple times. (1000)\n",
        "  state, reward, done, _ = env.reset_m()\n",
        "  for _ in tqdm(range(noOfEpisodes)):  # Run until solved\n",
        "      state, reward, done, _ = env.reset_prev()\n",
        "      episode_reward = 0\n",
        "      for i in range(frame_offset):\n",
        "        state_history.append(dummy_state)\n",
        "        state_next_history.append(dummy_state)\n",
        "        rewards_history.append(dummy_reward)\n",
        "        action_history.append(dummy_action)\n",
        "        done_history.append(dummy)\n",
        "      for timestep in range(1, max_steps_per_episode):\n",
        "          # env.render(); Adding this line would show the attempts\n",
        "          # of the agent in a pop up window.\n",
        "          frame_count += 1\n",
        "          # Use epsilon-greedy for exploration\n",
        "          if frame_count < epsilon_random_frames or epsilon > np.random.rand(1)[0]:\n",
        "              # Take random action\n",
        "              action = np.random.choice(num_actions)\n",
        "          else:\n",
        "              # Predict action Q-values\n",
        "              # From environment state\n",
        "              state_numpy = np.array(state_history[-frameForPrediction:]).reshape(frameForPrediction,25)\n",
        "              state_numpy = np.array([state_numpy])\n",
        "              action_probs = model(state_numpy, training=False)\n",
        "              # Take best action\n",
        "              action = np.argmax(action_probs[0])\n",
        "\n",
        "          # Decay probability of taking random action\n",
        "          epsilon -= epsilon_interval / epsilon_greedy_frames\n",
        "          epsilon = max(epsilon, epsilon_min)\n",
        "\n",
        "          # Apply the sampled action in our environment\n",
        "          state_next, reward, done, _ = env.step_m(action)\n",
        "          episode_reward += reward\n",
        "\n",
        "          # Save actions and states in replay buffer\n",
        "          state_history.append(state)\n",
        "          state_next_history.append(state_next)\n",
        "          action_history.append(action)\n",
        "          done_history.append(done)\n",
        "          rewards_history.append(reward)\n",
        "          state = state_next\n",
        "\n",
        "          # Update every fourth frame and once batch size is over 32\n",
        "          if frame_count % update_after_actions == 0 and len(done_history) > batch_size:\n",
        "              # Get indices of samples for replay buffers\n",
        "              noOfUpdates-=1\n",
        "              if noOfUpdates==0:\n",
        "                indices = np.random.choice(range(len(done_history)-frame_offset), size=len(done_history))+frame_offset\n",
        "                noOfUpdates=10000\n",
        "              else:\n",
        "                indices = np.random.choice(range(len(done_history)-frame_offset), size=batch_size)+frame_offset\n",
        "              # Using list comprehension to sample from replay buffer\n",
        "              state_sample = np.array([ np.array(state_history[i-frame_offset:i+1]).reshape(frameForPrediction,25) for i in indices])\n",
        "              state_next_sample = np.array([ np.array(state_next_history[i-frame_offset:i+1]).reshape(frameForPrediction,25) for i in indices])\n",
        "              rewards_sample = [rewards_history[i] for i in indices]\n",
        "              action_sample = [action_history[i] for i in indices]\n",
        "              # Build the updated Q-values for the sampled future states\n",
        "              # Use the target model for stability\n",
        "              future_rewards = model_target.predict(state_next_sample,verbose=False)\n",
        "              # Q value = reward + discount factor * expected future reward\n",
        "              updated_q_values = rewards_sample + gamma * np.max(future_rewards, axis=1)\n",
        "              updated_q_values = updated_q_values.astype('float32')\n",
        "              # Create a mask so we only calculate loss on the updated Q-values\n",
        "              masks = tf.one_hot(action_sample, num_actions)\n",
        "              with tf.GradientTape() as tape:    \n",
        "                  q_values = model(state_sample)\n",
        "                  # Apply the masks to the Q-values to get the Q-value for action taken\n",
        "                  q_action = tf.reduce_sum(tf.multiply(q_values, masks), axis=1)\n",
        "                  loss = loss_function(updated_q_values,q_action)\n",
        "              # Backpropagation\n",
        "              grads = tape.gradient(loss, model.trainable_variables)\n",
        "              optimizer.apply_gradients(zip(grads, model.trainable_variables))\n",
        "              \n",
        "\n",
        "          if frame_count % update_target_network == 0:\n",
        "              # update the the target network with new weights\n",
        "              model_target.set_weights(model.get_weights())\n",
        "              # Log details\n",
        "              template = \"running reward: {:.2f} at episode {}, frame count {}\"\n",
        "              print(template.format(running_reward, _, frame_count))\n",
        "\n",
        "          # Limit the state and reward history\n",
        "          if len(rewards_history) > max_memory_length:\n",
        "              del rewards_history[:1]\n",
        "              del state_history[:1]\n",
        "              del state_next_history[:1]\n",
        "              del action_history[:1]\n",
        "              del done_history[:1]\n",
        "          if done:\n",
        "              break\n",
        "      # Update running reward to check condition for solving\n",
        "      episode_reward_history.append(episode_reward)\n",
        "      running_reward = np.mean(episode_reward_history)\n",
        "      reward_plot.append(episode_reward)\n",
        "      episode_steps_plot.append(timestep)"
      ],
      "metadata": {
        "id": "QSVKLwBi6pAV"
      },
      "execution_count": 16,
      "outputs": []
    },
    {
      "cell_type": "code",
      "source": [
        "!unrar -r x HandCraftedEnv/LAVA_RESULTS/Expert_l.ml.rar"
      ],
      "metadata": {
        "colab": {
          "base_uri": "https://localhost:8080/"
        },
        "id": "0fokvgpgE3Y7",
        "outputId": "e6dc258a-210b-4d38-9181-d86ce2b2e456"
      },
      "execution_count": 27,
      "outputs": [
        {
          "output_type": "stream",
          "name": "stdout",
          "text": [
            "\n",
            "UNRAR 5.50 freeware      Copyright (c) 1993-2017 Alexander Roshal\n",
            "\n",
            "\n",
            "Extracting from HandCraftedEnv/LAVA_RESULTS/Expert_l.ml.rar\n",
            "\n",
            "Creating    Expert_l.ml                                               OK\n",
            "Extracting  Expert_l.ml/saved_model.pb                                   \b\b\b\b  6%\b\b\b\b\b  OK \n",
            "Creating    Expert_l.ml/variables                                     OK\n",
            "Extracting  Expert_l.ml/variables/variables.data-00000-of-00001          \b\b\b\b 99%\b\b\b\b\b  OK \n",
            "Extracting  Expert_l.ml/variables/variables.index                        \b\b\b\b 99%\b\b\b\b\b  OK \n",
            "Extracting  Expert_l.ml/keras_metadata.pb                                \b\b\b\b 99%\b\b\b\b\b  OK \n",
            "Creating    Expert_l.ml/assets                                        OK\n",
            "All OK\n"
          ]
        }
      ]
    },
    {
      "cell_type": "code",
      "source": [
        "!unrar -r x HandCraftedEnv/DOOR_KEY_RESULTS/Expert_dk.ml.rar"
      ],
      "metadata": {
        "colab": {
          "base_uri": "https://localhost:8080/"
        },
        "id": "mBqgzoO3GCv8",
        "outputId": "9db65075-3236-4f07-a2b6-c49ed88ebbac"
      },
      "execution_count": 28,
      "outputs": [
        {
          "output_type": "stream",
          "name": "stdout",
          "text": [
            "\n",
            "UNRAR 5.50 freeware      Copyright (c) 1993-2017 Alexander Roshal\n",
            "\n",
            "\n",
            "Extracting from HandCraftedEnv/DOOR_KEY_RESULTS/Expert_dk.ml.rar\n",
            "\n",
            "Creating    Expert_dk.ml                                              OK\n",
            "Extracting  Expert_dk.ml/saved_model.pb                                  \b\b\b\b  6%\b\b\b\b\b  OK \n",
            "Extracting  Expert_dk.ml/keras_metadata.pb                               \b\b\b\b  7%\b\b\b\b\b  OK \n",
            "Creating    Expert_dk.ml/variables                                    OK\n",
            "Extracting  Expert_dk.ml/variables/variables.index                       \b\b\b\b  7%\b\b\b\b\b  OK \n",
            "Extracting  Expert_dk.ml/variables/variables.data-00000-of-00001         \b\b\b\b 99%\b\b\b\b\b  OK \n",
            "Creating    Expert_dk.ml/assets                                       OK\n",
            "All OK\n"
          ]
        }
      ]
    },
    {
      "cell_type": "code",
      "source": [
        "num_actions=5\n",
        "noOfUpdates=10000 #after 10000 frames do a full\n",
        "frameForPrediction=4\n",
        "\n",
        "action_history = []\n",
        "state_history = []\n",
        "state_next_history = []\n",
        "rewards_history = []\n",
        "reward_plot = []\n",
        "episode_steps_plot = []\n",
        "done_history = []\n",
        "\n",
        "env1 = lava()\n",
        "model=create()\n",
        "model_target=create()\n",
        "\n",
        "loss_function = keras.losses.MeanSquaredError()\n",
        "optimizer=tf.keras.optimizers.RMSprop()\n",
        "\n",
        "def loadCheckPoints():\n",
        "  global model,model_target,reward_plot,episode_steps_plot \n",
        "  model.load_weights('Expert_l.ml')\n",
        "\n",
        "def saveCheckPoints():\n",
        "  # Save checkpoints. \n",
        "  file=open('RewardsL.txt','w')\n",
        "  file.write(str(reward_plot))\n",
        "  file.close()\n",
        "  file=open('EpisodesL.txt','w')\n",
        "  file.write(str(episode_steps_plot))\n",
        "  file.close()\n",
        "  model.save('Expert_l.ml')\n",
        "  plotProgress(reward_plot,'Episodes','Total Reward(L)','Total Reward V/S Episodes.')\n",
        "  print()\n",
        "  plotProgress(episode_steps_plot,'Episodes','Steps(L)','Steps Reward V/S Episodes.')\n",
        "\n",
        "loadCheckPoints()\n",
        "trainAgentInEnv(env1)\n",
        "# for gce.\n",
        "saveCheckPoints()\n",
        "!rar -r a Expert_l.ml.rar Expert_l.ml/"
      ],
      "metadata": {
        "colab": {
          "base_uri": "https://localhost:8080/",
          "height": 1000
        },
        "id": "gAkVnJlm63l6",
        "outputId": "7f27653d-6f6a-452e-f00b-bfa3d4fc7054"
      },
      "execution_count": 30,
      "outputs": [
        {
          "output_type": "stream",
          "name": "stderr",
          "text": [
            " 13%|█▎        | 128/1000 [00:11<00:58, 14.91it/s]"
          ]
        },
        {
          "output_type": "stream",
          "name": "stdout",
          "text": [
            "running reward: -14.72 at episode (3, 5), frame count 1000\n"
          ]
        },
        {
          "output_type": "stream",
          "name": "stderr",
          "text": [
            " 26%|██▌       | 262/1000 [00:23<01:04, 11.50it/s]"
          ]
        },
        {
          "output_type": "stream",
          "name": "stdout",
          "text": [
            "running reward: -13.18 at episode (5, 3), frame count 2000\n"
          ]
        },
        {
          "output_type": "stream",
          "name": "stderr",
          "text": [
            " 40%|███▉      | 397/1000 [00:36<00:54, 11.03it/s]"
          ]
        },
        {
          "output_type": "stream",
          "name": "stdout",
          "text": [
            "running reward: -13.14 at episode (5, 4), frame count 3000\n"
          ]
        },
        {
          "output_type": "stream",
          "name": "stderr",
          "text": [
            " 50%|█████     | 501/1000 [00:47<00:41, 11.95it/s]"
          ]
        },
        {
          "output_type": "stream",
          "name": "stdout",
          "text": [
            "running reward: -13.52 at episode (4, 5), frame count 4000\n"
          ]
        },
        {
          "output_type": "stream",
          "name": "stderr",
          "text": [
            " 65%|██████▍   | 649/1000 [01:06<00:27, 12.80it/s]"
          ]
        },
        {
          "output_type": "stream",
          "name": "stdout",
          "text": [
            "running reward: -13.19 at episode (4, 4), frame count 5000\n"
          ]
        },
        {
          "output_type": "stream",
          "name": "stderr",
          "text": [
            " 76%|███████▌  | 759/1000 [01:30<00:33,  7.28it/s]"
          ]
        },
        {
          "output_type": "stream",
          "name": "stdout",
          "text": [
            "running reward: -13.11 at episode (3, 5), frame count 6000\n"
          ]
        },
        {
          "output_type": "stream",
          "name": "stderr",
          "text": [
            " 87%|████████▋ | 870/1000 [01:45<00:19,  6.62it/s]"
          ]
        },
        {
          "output_type": "stream",
          "name": "stdout",
          "text": [
            "running reward: -13.18 at episode (2, 4), frame count 7000\n"
          ]
        },
        {
          "output_type": "stream",
          "name": "stderr",
          "text": [
            "100%|██████████| 1000/1000 [01:55<00:00,  8.67it/s]\n",
            "WARNING:tensorflow:Compiled the loaded model, but the compiled metrics have yet to be built. `model.compile_metrics` will be empty until you train or evaluate the model.\n",
            "WARNING:absl:Found untraced functions such as lstm_cell_6_layer_call_fn, lstm_cell_6_layer_call_and_return_conditional_losses while saving (showing 2 of 2). These functions will not be directly callable after loading.\n"
          ]
        },
        {
          "output_type": "display_data",
          "data": {
            "text/plain": [
              "<Figure size 432x288 with 1 Axes>"
            ],
            "image/png": "[encoded data removed]"
          },
          "metadata": {
            "needs_background": "light"
          }
        },
        {
          "output_type": "stream",
          "name": "stdout",
          "text": [
            "\n"
          ]
        },
        {
          "output_type": "display_data",
          "data": {
            "text/plain": [
              "<Figure size 432x288 with 1 Axes>"
            ],
            "image/png": "[encoded data removed]"
          },
          "metadata": {
            "needs_background": "light"
          }
        },
        {
          "output_type": "stream",
          "name": "stdout",
          "text": [
            "\n",
            "RAR 5.50   Copyright (c) 1993-2017 Alexander Roshal   11 Aug 2017\n",
            "Trial version             Type 'rar -?' for help\n",
            "\n",
            "Evaluation copy. Please register.\n",
            "\n",
            "Creating archive Expert_l.ml.rar\n",
            "\n",
            "Adding    Expert_l.ml/keras_metadata.pb                                  \b\b\b\b  1%\b\b\b\b\b  OK \n",
            "Adding    Expert_l.ml/saved_model.pb                                     \b\b\b\b 73%\b\b\b\b\b  OK \n",
            "Adding    Expert_l.ml/variables/variables.index                          \b\b\b\b 73%\b\b\b\b\b  OK \n",
            "Adding    Expert_l.ml/variables/variables.data-00000-of-00001            \b\b\b\b 99%\b\b\b\b\b  OK \n",
            "Adding    Expert_l.ml/assets                                             \b\b\b\b\b  OK \n",
            "Adding    Expert_l.ml/variables                                          \b\b\b\b\b  OK \n",
            "Done\n"
          ]
        }
      ]
    },
    {
      "cell_type": "code",
      "source": [
        "state, reward, done, _ = env1.reset_prev()\n",
        "frame_offset=frameForPrediction-1\n",
        "\n",
        "state_historyP=[ state for i in range(frameForPrediction)]\n",
        "\n",
        "while not done:\n",
        "  state_numpyP = np.array(state_historyP[-frameForPrediction:]).reshape(frameForPrediction,25)\n",
        "  state_numpyP = np.array([state_numpyP])\n",
        "  action_probs = model(state_numpyP, training=False)\n",
        "  action = np.argmax(action_probs[0])\n",
        "  env1.printEnv()\n",
        "  print(action)\n",
        "  state, reward, done, _ = env1.step_m(action)\n",
        "  del state_historyP[:1]\n",
        "  state_historyP.append(state)"
      ],
      "metadata": {
        "colab": {
          "base_uri": "https://localhost:8080/"
        },
        "id": "V0BafmlWGVTX",
        "outputId": "9dc131ae-0d63-4135-f1fc-7699bbc07b3a"
      },
      "execution_count": 31,
      "outputs": [
        {
          "output_type": "stream",
          "name": "stdout",
          "text": [
            "\n",
            "\n",
            "8 0 8 4 \n",
            "0 0 0 0 \n",
            "0 0 0 0 \n",
            "0 0 0 32 \n",
            "\n",
            "\n",
            "\n",
            "3\n",
            "\n",
            "\n",
            "8 0 8 0 \n",
            "0 0 0 4 \n",
            "0 0 0 0 \n",
            "0 0 0 32 \n",
            "\n",
            "\n",
            "\n",
            "3\n",
            "\n",
            "\n",
            "8 0 8 0 \n",
            "0 0 0 0 \n",
            "0 0 0 4 \n",
            "0 0 0 32 \n",
            "\n",
            "\n",
            "\n",
            "3\n"
          ]
        }
      ]
    },
    {
      "cell_type": "code",
      "source": [
        "num_actions=5\n",
        "noOfUpdates=10000 #after 10000 frames do a full\n",
        "frame_count = 0\n",
        "epsilon = 1.0  # Epsilon greedy parameter\n",
        "\n",
        "action_history = []\n",
        "state_history = []\n",
        "state_next_history = []\n",
        "rewards_history = []\n",
        "reward_plot = []\n",
        "episode_steps_plot = []\n",
        "done_history = []\n",
        "\n",
        "env2 = doorkey()\n",
        "model=create()\n",
        "model_target=create()\n",
        "\n",
        "loss_function = keras.losses.MeanSquaredError()\n",
        "optimizer=tf.keras.optimizers.RMSprop()\n",
        "\n",
        "def loadCheckPoints():\n",
        "  global model,model_target,reward_plot,episode_steps_plot \n",
        "  model.load_weights('Expert_dk.ml')\n",
        "\n",
        "def saveCheckPoints():\n",
        "  # Save checkpoints. \n",
        "  file=open('Rewardsdk.txt','w')\n",
        "  file.write(str(reward_plot))\n",
        "  file.close()\n",
        "  file=open('Episodesdk.txt','w')\n",
        "  file.write(str(episode_steps_plot))\n",
        "  file.close()\n",
        "  model.save('Expert_dk.ml')\n",
        "  plotProgress(reward_plot,'Episodes','Total Reward(dk)','Total Reward V/S Episodes.')\n",
        "  print()\n",
        "  plotProgress(episode_steps_plot,'Episodes','Steps(dk)','Steps Reward V/S Episodes.')\n",
        "\n",
        "\n",
        "loadCheckPoints()\n",
        "trainAgentInEnv(env2)\n",
        "# for gce.\n",
        "saveCheckPoints()\n",
        "!rar -r a Expert_l.ml.rar Expert_l.ml/"
      ],
      "metadata": {
        "colab": {
          "base_uri": "https://localhost:8080/",
          "height": 1000
        },
        "id": "Ot3HZ7J19WPA",
        "outputId": "cac0e544-ac3a-4dd3-bb97-54a3b4be6fca"
      },
      "execution_count": 32,
      "outputs": [
        {
          "output_type": "stream",
          "name": "stderr",
          "text": [
            "  1%|          | 8/1000 [00:10<24:50,  1.50s/it]"
          ]
        },
        {
          "output_type": "stream",
          "name": "stdout",
          "text": [
            "running reward: -110.88 at episode (2, 5), frame count 1000\n"
          ]
        },
        {
          "output_type": "stream",
          "name": "stderr",
          "text": [
            "  1%|          | 11/1000 [00:15<27:43,  1.68s/it]"
          ]
        },
        {
          "output_type": "stream",
          "name": "stdout",
          "text": [
            "running reward: -109.64 at episode (4, 2), frame count 2000\n"
          ]
        },
        {
          "output_type": "stream",
          "name": "stderr",
          "text": [
            "  2%|▏         | 21/1000 [00:34<18:58,  1.16s/it]"
          ]
        },
        {
          "output_type": "stream",
          "name": "stdout",
          "text": [
            "running reward: -133.15 at episode (3, 2), frame count 3000\n"
          ]
        },
        {
          "output_type": "stream",
          "name": "stderr",
          "text": [
            "  2%|▎         | 25/1000 [00:41<24:42,  1.52s/it]"
          ]
        },
        {
          "output_type": "stream",
          "name": "stdout",
          "text": [
            "running reward: -131.48 at episode (2, 5), frame count 4000\n"
          ]
        },
        {
          "output_type": "stream",
          "name": "stderr",
          "text": [
            "  3%|▎         | 32/1000 [00:57<27:44,  1.72s/it]"
          ]
        },
        {
          "output_type": "stream",
          "name": "stdout",
          "text": [
            "running reward: -144.50 at episode (4, 3), frame count 5000\n"
          ]
        },
        {
          "output_type": "stream",
          "name": "stderr",
          "text": [
            "  4%|▍         | 41/1000 [01:09<18:29,  1.16s/it]"
          ]
        },
        {
          "output_type": "stream",
          "name": "stdout",
          "text": [
            "running reward: -138.38 at episode (5, 3), frame count 6000\n"
          ]
        },
        {
          "output_type": "stream",
          "name": "stderr",
          "text": [
            "  5%|▌         | 51/1000 [01:19<22:26,  1.42s/it]"
          ]
        },
        {
          "output_type": "stream",
          "name": "stdout",
          "text": [
            "running reward: -124.47 at episode (5, 4), frame count 7000\n"
          ]
        },
        {
          "output_type": "stream",
          "name": "stderr",
          "text": [
            "  6%|▌         | 59/1000 [01:31<28:14,  1.80s/it]"
          ]
        },
        {
          "output_type": "stream",
          "name": "stdout",
          "text": [
            "running reward: -124.24 at episode (5, 5), frame count 8000\n"
          ]
        },
        {
          "output_type": "stream",
          "name": "stderr",
          "text": [
            "  7%|▋         | 66/1000 [01:43<22:04,  1.42s/it]"
          ]
        },
        {
          "output_type": "stream",
          "name": "stdout",
          "text": [
            "running reward: -126.11 at episode (4, 3), frame count 9000\n"
          ]
        },
        {
          "output_type": "stream",
          "name": "stderr",
          "text": [
            "  7%|▋         | 71/1000 [01:53<29:16,  1.89s/it]"
          ]
        },
        {
          "output_type": "stream",
          "name": "stdout",
          "text": [
            "running reward: -129.07 at episode (4, 3), frame count 10000\n"
          ]
        },
        {
          "output_type": "stream",
          "name": "stderr",
          "text": [
            "  8%|▊         | 80/1000 [02:14<32:13,  2.10s/it]"
          ]
        },
        {
          "output_type": "stream",
          "name": "stdout",
          "text": [
            "running reward: -126.40 at episode (4, 2), frame count 11000\n"
          ]
        },
        {
          "output_type": "stream",
          "name": "stderr",
          "text": [
            " 10%|█         | 104/1000 [02:33<14:10,  1.05it/s]"
          ]
        },
        {
          "output_type": "stream",
          "name": "stdout",
          "text": [
            "running reward: -103.62 at episode (3, 2), frame count 12000\n"
          ]
        },
        {
          "output_type": "stream",
          "name": "stderr",
          "text": [
            " 11%|█▏        | 114/1000 [02:54<31:07,  2.11s/it]"
          ]
        },
        {
          "output_type": "stream",
          "name": "stdout",
          "text": [
            "running reward: -102.57 at episode (4, 2), frame count 13000\n"
          ]
        },
        {
          "output_type": "stream",
          "name": "stderr",
          "text": [
            " 14%|█▎        | 136/1000 [03:15<06:54,  2.09it/s]"
          ]
        },
        {
          "output_type": "stream",
          "name": "stdout",
          "text": [
            "running reward: -92.74 at episode (3, 2), frame count 14000\n"
          ]
        },
        {
          "output_type": "stream",
          "name": "stderr",
          "text": [
            " 16%|█▌        | 158/1000 [03:37<19:58,  1.42s/it]"
          ]
        },
        {
          "output_type": "stream",
          "name": "stdout",
          "text": [
            "running reward: -83.91 at episode (4, 2), frame count 15000\n"
          ]
        },
        {
          "output_type": "stream",
          "name": "stderr",
          "text": [
            " 17%|█▋        | 167/1000 [03:56<27:48,  2.00s/it]"
          ]
        },
        {
          "output_type": "stream",
          "name": "stdout",
          "text": [
            "running reward: -84.54 at episode (4, 2), frame count 16000\n"
          ]
        },
        {
          "output_type": "stream",
          "name": "stderr",
          "text": [
            " 18%|█▊        | 181/1000 [04:17<18:17,  1.34s/it]"
          ]
        },
        {
          "output_type": "stream",
          "name": "stdout",
          "text": [
            "running reward: -82.96 at episode (3, 4), frame count 17000\n"
          ]
        },
        {
          "output_type": "stream",
          "name": "stderr",
          "text": [
            " 20%|█▉        | 197/1000 [04:36<14:54,  1.11s/it]"
          ]
        },
        {
          "output_type": "stream",
          "name": "stdout",
          "text": [
            "running reward: -80.25 at episode (3, 2), frame count 18000\n"
          ]
        },
        {
          "output_type": "stream",
          "name": "stderr",
          "text": [
            " 22%|██▏       | 221/1000 [04:57<16:48,  1.29s/it]"
          ]
        },
        {
          "output_type": "stream",
          "name": "stdout",
          "text": [
            "running reward: -74.93 at episode (4, 2), frame count 19000\n"
          ]
        },
        {
          "output_type": "stream",
          "name": "stderr",
          "text": [
            " 24%|██▍       | 243/1000 [05:17<10:43,  1.18it/s]"
          ]
        },
        {
          "output_type": "stream",
          "name": "stdout",
          "text": [
            "running reward: -71.34 at episode (2, 4), frame count 20000\n"
          ]
        },
        {
          "output_type": "stream",
          "name": "stderr",
          "text": [
            " 26%|██▌       | 256/1000 [05:35<12:16,  1.01it/s]"
          ]
        },
        {
          "output_type": "stream",
          "name": "stdout",
          "text": [
            "running reward: -70.74 at episode (3, 2), frame count 21000\n"
          ]
        },
        {
          "output_type": "stream",
          "name": "stderr",
          "text": [
            " 27%|██▋       | 273/1000 [05:56<16:30,  1.36s/it]"
          ]
        },
        {
          "output_type": "stream",
          "name": "stdout",
          "text": [
            "running reward: -69.23 at episode (2, 2), frame count 22000\n"
          ]
        },
        {
          "output_type": "stream",
          "name": "stderr",
          "text": [
            " 29%|██▉       | 291/1000 [06:19<12:36,  1.07s/it]"
          ]
        },
        {
          "output_type": "stream",
          "name": "stdout",
          "text": [
            "running reward: -68.16 at episode (5, 3), frame count 23000\n"
          ]
        },
        {
          "output_type": "stream",
          "name": "stderr",
          "text": [
            " 30%|██▉       | 298/1000 [06:39<41:00,  3.51s/it]"
          ]
        },
        {
          "output_type": "stream",
          "name": "stdout",
          "text": [
            "running reward: -69.56 at episode (2, 5), frame count 24000\n"
          ]
        },
        {
          "output_type": "stream",
          "name": "stderr",
          "text": [
            " 32%|███▏      | 315/1000 [07:00<12:14,  1.07s/it]"
          ]
        },
        {
          "output_type": "stream",
          "name": "stdout",
          "text": [
            "running reward: -68.61 at episode (4, 4), frame count 25000\n"
          ]
        },
        {
          "output_type": "stream",
          "name": "stderr",
          "text": [
            " 34%|███▍      | 341/1000 [07:19<06:14,  1.76it/s]"
          ]
        },
        {
          "output_type": "stream",
          "name": "stdout",
          "text": [
            "running reward: -65.19 at episode (3, 2), frame count 26000\n"
          ]
        },
        {
          "output_type": "stream",
          "name": "stderr",
          "text": [
            " 35%|███▌      | 353/1000 [07:38<14:43,  1.37s/it]"
          ]
        },
        {
          "output_type": "stream",
          "name": "stdout",
          "text": [
            "running reward: -65.29 at episode (2, 2), frame count 27000\n"
          ]
        },
        {
          "output_type": "stream",
          "name": "stderr",
          "text": [
            " 36%|███▋      | 365/1000 [08:00<24:32,  2.32s/it]"
          ]
        },
        {
          "output_type": "stream",
          "name": "stdout",
          "text": [
            "running reward: -65.71 at episode (3, 3), frame count 28000\n"
          ]
        },
        {
          "output_type": "stream",
          "name": "stderr",
          "text": [
            " 40%|███▉      | 395/1000 [08:23<06:02,  1.67it/s]"
          ]
        },
        {
          "output_type": "stream",
          "name": "stdout",
          "text": [
            "running reward: -62.61 at episode (3, 2), frame count 29000\n"
          ]
        },
        {
          "output_type": "stream",
          "name": "stderr",
          "text": [
            " 42%|████▏     | 415/1000 [08:43<06:11,  1.57it/s]"
          ]
        },
        {
          "output_type": "stream",
          "name": "stdout",
          "text": [
            "running reward: -61.20 at episode (3, 2), frame count 30000\n"
          ]
        },
        {
          "output_type": "stream",
          "name": "stderr",
          "text": [
            " 44%|████▍     | 443/1000 [09:04<07:06,  1.31it/s]"
          ]
        },
        {
          "output_type": "stream",
          "name": "stdout",
          "text": [
            "running reward: -59.00 at episode (2, 5), frame count 31000\n"
          ]
        },
        {
          "output_type": "stream",
          "name": "stderr",
          "text": [
            " 46%|████▌     | 458/1000 [09:24<08:46,  1.03it/s]"
          ]
        },
        {
          "output_type": "stream",
          "name": "stdout",
          "text": [
            "running reward: -58.68 at episode (3, 2), frame count 32000\n"
          ]
        },
        {
          "output_type": "stream",
          "name": "stderr",
          "text": [
            " 48%|████▊     | 481/1000 [09:45<04:20,  1.99it/s]"
          ]
        },
        {
          "output_type": "stream",
          "name": "stdout",
          "text": [
            "running reward: -57.57 at episode (2, 2), frame count 33000\n"
          ]
        },
        {
          "output_type": "stream",
          "name": "stderr",
          "text": [
            " 51%|█████     | 507/1000 [10:06<04:08,  1.98it/s]"
          ]
        },
        {
          "output_type": "stream",
          "name": "stdout",
          "text": [
            "running reward: -56.03 at episode (3, 2), frame count 34000\n"
          ]
        },
        {
          "output_type": "stream",
          "name": "stderr",
          "text": [
            " 52%|█████▏    | 517/1000 [10:27<25:21,  3.15s/it]"
          ]
        },
        {
          "output_type": "stream",
          "name": "stdout",
          "text": [
            "running reward: -56.72 at episode (2, 5), frame count 35000\n"
          ]
        },
        {
          "output_type": "stream",
          "name": "stderr",
          "text": [
            " 53%|█████▎    | 533/1000 [10:45<05:19,  1.46it/s]"
          ]
        },
        {
          "output_type": "stream",
          "name": "stdout",
          "text": [
            "running reward: -56.36 at episode (4, 2), frame count 36000\n"
          ]
        },
        {
          "output_type": "stream",
          "name": "stderr",
          "text": [
            " 54%|█████▍    | 541/1000 [11:02<20:04,  2.62s/it]"
          ]
        },
        {
          "output_type": "stream",
          "name": "stdout",
          "text": [
            "running reward: -56.94 at episode (3, 2), frame count 37000\n"
          ]
        },
        {
          "output_type": "stream",
          "name": "stderr",
          "text": [
            " 56%|█████▌    | 561/1000 [11:27<03:52,  1.89it/s]"
          ]
        },
        {
          "output_type": "stream",
          "name": "stdout",
          "text": [
            "running reward: -56.66 at episode (2, 2), frame count 38000\n"
          ]
        },
        {
          "output_type": "stream",
          "name": "stderr",
          "text": [
            " 59%|█████▊    | 586/1000 [11:48<05:40,  1.21it/s]"
          ]
        },
        {
          "output_type": "stream",
          "name": "stdout",
          "text": [
            "running reward: -55.56 at episode (2, 2), frame count 39000\n"
          ]
        },
        {
          "output_type": "stream",
          "name": "stderr",
          "text": [
            " 61%|██████    | 606/1000 [12:09<05:24,  1.21it/s]"
          ]
        },
        {
          "output_type": "stream",
          "name": "stdout",
          "text": [
            "running reward: -55.00 at episode (4, 2), frame count 40000\n"
          ]
        },
        {
          "output_type": "stream",
          "name": "stderr",
          "text": [
            " 61%|██████▏   | 613/1000 [12:28<13:26,  2.08s/it]"
          ]
        },
        {
          "output_type": "stream",
          "name": "stdout",
          "text": [
            "running reward: -55.77 at episode (2, 2), frame count 41000\n"
          ]
        },
        {
          "output_type": "stream",
          "name": "stderr",
          "text": [
            " 64%|██████▎   | 635/1000 [12:50<04:51,  1.25it/s]"
          ]
        },
        {
          "output_type": "stream",
          "name": "stdout",
          "text": [
            "running reward: -55.09 at episode (2, 2), frame count 42000\n"
          ]
        },
        {
          "output_type": "stream",
          "name": "stderr",
          "text": [
            " 65%|██████▌   | 650/1000 [13:11<10:34,  1.81s/it]"
          ]
        },
        {
          "output_type": "stream",
          "name": "stdout",
          "text": [
            "running reward: -55.10 at episode (3, 2), frame count 43000\n"
          ]
        },
        {
          "output_type": "stream",
          "name": "stderr",
          "text": [
            " 65%|██████▌   | 654/1000 [13:31<27:14,  4.72s/it]"
          ]
        },
        {
          "output_type": "stream",
          "name": "stdout",
          "text": [
            "running reward: -56.24 at episode (2, 5), frame count 44000\n"
          ]
        },
        {
          "output_type": "stream",
          "name": "stderr",
          "text": [
            "\r 66%|██████▌   | 655/1000 [13:53<56:13,  9.78s/it]"
          ]
        },
        {
          "output_type": "stream",
          "name": "stdout",
          "text": [
            "running reward: -57.53 at episode (2, 5), frame count 45000\n"
          ]
        },
        {
          "output_type": "stream",
          "name": "stderr",
          "text": [
            " 66%|██████▌   | 659/1000 [14:12<34:37,  6.09s/it]"
          ]
        },
        {
          "output_type": "stream",
          "name": "stdout",
          "text": [
            "running reward: -58.55 at episode (3, 5), frame count 46000\n"
          ]
        },
        {
          "output_type": "stream",
          "name": "stderr",
          "text": [
            " 66%|██████▋   | 665/1000 [14:35<21:33,  3.86s/it]"
          ]
        },
        {
          "output_type": "stream",
          "name": "stdout",
          "text": [
            "running reward: -59.61 at episode (3, 2), frame count 47000\n"
          ]
        },
        {
          "output_type": "stream",
          "name": "stderr",
          "text": [
            " 68%|██████▊   | 675/1000 [14:57<09:44,  1.80s/it]"
          ]
        },
        {
          "output_type": "stream",
          "name": "stdout",
          "text": [
            "running reward: -60.12 at episode (3, 2), frame count 48000\n"
          ]
        },
        {
          "output_type": "stream",
          "name": "stderr",
          "text": [
            " 69%|██████▉   | 689/1000 [15:16<06:26,  1.24s/it]"
          ]
        },
        {
          "output_type": "stream",
          "name": "stdout",
          "text": [
            "running reward: -60.09 at episode (4, 2), frame count 49000\n"
          ]
        },
        {
          "output_type": "stream",
          "name": "stderr",
          "text": [
            " 71%|███████▏  | 714/1000 [15:36<03:38,  1.31it/s]"
          ]
        },
        {
          "output_type": "stream",
          "name": "stdout",
          "text": [
            "running reward: -58.95 at episode (4, 2), frame count 50000\n"
          ]
        },
        {
          "output_type": "stream",
          "name": "stderr",
          "text": [
            " 73%|███████▎  | 730/1000 [15:59<05:26,  1.21s/it]"
          ]
        },
        {
          "output_type": "stream",
          "name": "stdout",
          "text": [
            "running reward: -58.86 at episode (2, 2), frame count 51000\n"
          ]
        },
        {
          "output_type": "stream",
          "name": "stderr",
          "text": [
            " 75%|███████▍  | 746/1000 [16:19<06:00,  1.42s/it]"
          ]
        },
        {
          "output_type": "stream",
          "name": "stdout",
          "text": [
            "running reward: -58.67 at episode (2, 2), frame count 52000\n"
          ]
        },
        {
          "output_type": "stream",
          "name": "stderr",
          "text": [
            " 77%|███████▋  | 769/1000 [16:40<03:15,  1.18it/s]"
          ]
        },
        {
          "output_type": "stream",
          "name": "stdout",
          "text": [
            "running reward: -57.86 at episode (2, 2), frame count 53000\n"
          ]
        },
        {
          "output_type": "stream",
          "name": "stderr",
          "text": [
            " 78%|███████▊  | 783/1000 [17:02<04:13,  1.17s/it]"
          ]
        },
        {
          "output_type": "stream",
          "name": "stdout",
          "text": [
            "running reward: -58.03 at episode (3, 2), frame count 54000\n"
          ]
        },
        {
          "output_type": "stream",
          "name": "stderr",
          "text": [
            " 80%|████████  | 803/1000 [17:22<03:25,  1.04s/it]"
          ]
        },
        {
          "output_type": "stream",
          "name": "stdout",
          "text": [
            "running reward: -57.48 at episode (4, 2), frame count 55000\n"
          ]
        },
        {
          "output_type": "stream",
          "name": "stderr",
          "text": [
            " 82%|████████▏ | 824/1000 [17:42<01:37,  1.81it/s]"
          ]
        },
        {
          "output_type": "stream",
          "name": "stdout",
          "text": [
            "running reward: -56.91 at episode (2, 2), frame count 56000\n"
          ]
        },
        {
          "output_type": "stream",
          "name": "stderr",
          "text": [
            " 84%|████████▍ | 842/1000 [18:04<03:03,  1.16s/it]"
          ]
        },
        {
          "output_type": "stream",
          "name": "stdout",
          "text": [
            "running reward: -56.66 at episode (3, 2), frame count 57000\n"
          ]
        },
        {
          "output_type": "stream",
          "name": "stderr",
          "text": [
            " 86%|████████▌ | 862/1000 [18:25<02:22,  1.03s/it]"
          ]
        },
        {
          "output_type": "stream",
          "name": "stdout",
          "text": [
            "running reward: -56.28 at episode (3, 2), frame count 58000\n"
          ]
        },
        {
          "output_type": "stream",
          "name": "stderr",
          "text": [
            " 88%|████████▊ | 879/1000 [18:46<02:12,  1.10s/it]"
          ]
        },
        {
          "output_type": "stream",
          "name": "stdout",
          "text": [
            "running reward: -56.13 at episode (2, 2), frame count 59000\n"
          ]
        },
        {
          "output_type": "stream",
          "name": "stderr",
          "text": [
            " 91%|█████████ | 906/1000 [19:09<01:34,  1.00s/it]"
          ]
        },
        {
          "output_type": "stream",
          "name": "stdout",
          "text": [
            "running reward: -55.22 at episode (3, 4), frame count 60000\n"
          ]
        },
        {
          "output_type": "stream",
          "name": "stderr",
          "text": [
            " 92%|█████████▏| 924/1000 [19:30<01:27,  1.15s/it]"
          ]
        },
        {
          "output_type": "stream",
          "name": "stdout",
          "text": [
            "running reward: -55.02 at episode (3, 2), frame count 61000\n"
          ]
        },
        {
          "output_type": "stream",
          "name": "stderr",
          "text": [
            " 93%|█████████▎| 932/1000 [19:51<02:08,  1.90s/it]"
          ]
        },
        {
          "output_type": "stream",
          "name": "stdout",
          "text": [
            "running reward: -55.49 at episode (3, 2), frame count 62000\n"
          ]
        },
        {
          "output_type": "stream",
          "name": "stderr",
          "text": [
            " 95%|█████████▍| 946/1000 [20:13<01:31,  1.69s/it]"
          ]
        },
        {
          "output_type": "stream",
          "name": "stdout",
          "text": [
            "running reward: -55.56 at episode (4, 2), frame count 63000\n"
          ]
        },
        {
          "output_type": "stream",
          "name": "stderr",
          "text": [
            " 96%|█████████▌| 962/1000 [20:34<00:47,  1.24s/it]"
          ]
        },
        {
          "output_type": "stream",
          "name": "stdout",
          "text": [
            "running reward: -55.53 at episode (2, 2), frame count 64000\n"
          ]
        },
        {
          "output_type": "stream",
          "name": "stderr",
          "text": [
            " 99%|█████████▊| 987/1000 [20:54<00:10,  1.28it/s]"
          ]
        },
        {
          "output_type": "stream",
          "name": "stdout",
          "text": [
            "running reward: -54.81 at episode (3, 2), frame count 65000\n"
          ]
        },
        {
          "output_type": "stream",
          "name": "stderr",
          "text": [
            "100%|██████████| 1000/1000 [21:13<00:00,  1.27s/it]\n",
            "WARNING:tensorflow:Compiled the loaded model, but the compiled metrics have yet to be built. `model.compile_metrics` will be empty until you train or evaluate the model.\n",
            "WARNING:absl:Found untraced functions such as lstm_cell_8_layer_call_fn, lstm_cell_8_layer_call_and_return_conditional_losses while saving (showing 2 of 2). These functions will not be directly callable after loading.\n"
          ]
        },
        {
          "output_type": "display_data",
          "data": {
            "text/plain": [
              "<Figure size 432x288 with 1 Axes>"
            ],
            "image/png": "[encoded data removed]"
          },
          "metadata": {
            "needs_background": "light"
          }
        },
        {
          "output_type": "stream",
          "name": "stdout",
          "text": [
            "\n"
          ]
        },
        {
          "output_type": "display_data",
          "data": {
            "text/plain": [
              "<Figure size 432x288 with 1 Axes>"
            ],
            "image/png": "[encoded data removed]"
          },
          "metadata": {
            "needs_background": "light"
          }
        },
        {
          "output_type": "stream",
          "name": "stdout",
          "text": [
            "\n",
            "RAR 5.50   Copyright (c) 1993-2017 Alexander Roshal   11 Aug 2017\n",
            "Trial version             Type 'rar -?' for help\n",
            "\n",
            "Evaluation copy. Please register.\n",
            "\n",
            "Updating archive Expert_l.ml.rar\n",
            "\n",
            "Updating  Expert_l.ml/keras_metadata.pb                                  \b\b\b\b  1%\b\b\b\b\b  OK \n",
            "Updating  Expert_l.ml/saved_model.pb                                     \b\b\b\b 73%\b\b\b\b\b  OK \n",
            "Updating  Expert_l.ml/variables/variables.index                          \b\b\b\b 73%\b\b\b\b\b  OK \n",
            "Updating  Expert_l.ml/variables/variables.data-00000-of-00001            \b\b\b\b 99%\b\b\b\b\b  OK \n",
            "Updating  Expert_l.ml/assets                                             \b\b\b\b\b  OK \n",
            "Updating  Expert_l.ml/variables                                          \b\b\b\b\b  OK \n",
            "Done\n"
          ]
        }
      ]
    },
    {
      "cell_type": "code",
      "source": [
        "state, reward, done, _ = env2.reset_prev()\n",
        "frame_offset=frameForPrediction-1\n",
        "\n",
        "state_historyP=[ state for i in range(frameForPrediction)]\n",
        "\n",
        "while not done:\n",
        "  state_numpyP = np.array(state_historyP[-frameForPrediction:]).reshape(frameForPrediction,25)\n",
        "  state_numpyP = np.array([state_numpyP])\n",
        "  action_probs = model(state_numpyP, training=False)\n",
        "  action = np.argmax(action_probs[0])\n",
        "  env2.printEnv()\n",
        "  print(action)\n",
        "  state, reward, done, _ = env2.step_m(action)\n",
        "  del state_historyP[:1]\n",
        "  state_historyP.append(state)"
      ],
      "metadata": {
        "colab": {
          "base_uri": "https://localhost:8080/"
        },
        "id": "7PAwNYjmGfI3",
        "outputId": "583c853d-109a-4609-e22f-ce0beb10d455"
      },
      "execution_count": 33,
      "outputs": [
        {
          "output_type": "stream",
          "name": "stdout",
          "text": [
            "\n",
            "\n",
            "0 0 4 0 \n",
            "1 0 0 0 \n",
            "0 0 2 0 \n",
            "0 0 0 0 \n",
            "\n",
            "\n",
            "\n",
            "0\n",
            "\n",
            "\n",
            "0 4 0 0 \n",
            "1 0 0 0 \n",
            "0 0 2 0 \n",
            "0 0 0 0 \n",
            "\n",
            "\n",
            "\n",
            "0\n",
            "\n",
            "\n",
            "4 0 0 0 \n",
            "1 0 0 0 \n",
            "0 0 2 0 \n",
            "0 0 0 0 \n",
            "\n",
            "\n",
            "\n",
            "3\n",
            "\n",
            "\n",
            "0 0 0 0 \n",
            "5 0 0 0 \n",
            "0 0 2 0 \n",
            "0 0 0 0 \n",
            "\n",
            "\n",
            "\n",
            "0\n",
            "\n",
            "\n",
            "0 0 0 0 \n",
            "5 0 0 0 \n",
            "0 0 2 0 \n",
            "0 0 0 0 \n",
            "\n",
            "\n",
            "\n",
            "4\n",
            "\n",
            "\n",
            "0 0 0 0 \n",
            "5 0 0 0 \n",
            "0 0 2 0 \n",
            "0 0 0 0 \n",
            "\n",
            "\n",
            "\n",
            "1\n",
            "\n",
            "\n",
            "0 0 0 0 \n",
            "0 5 0 0 \n",
            "0 0 2 0 \n",
            "0 0 0 0 \n",
            "\n",
            "\n",
            "\n",
            "1\n",
            "\n",
            "\n",
            "0 0 0 0 \n",
            "0 0 5 0 \n",
            "0 0 2 0 \n",
            "0 0 0 0 \n",
            "\n",
            "\n",
            "\n",
            "3\n"
          ]
        }
      ]
    },
    {
      "cell_type": "code",
      "source": [
        "from HandCraftedEnv.mymixed_env import *"
      ],
      "metadata": {
        "id": "z4CnxzopO8Sn"
      },
      "execution_count": 65,
      "outputs": []
    },
    {
      "cell_type": "code",
      "source": [
        "#Create a mixed env.\n",
        "mixedGrid=[[0,0,4,0],[1,0,0,0],[0,0,2,0],[0,0,0,0]] \n",
        "env3=mixedEnv()\n",
        "env3.reset(mixedGrid)\n",
        "env3.printEnv()"
      ],
      "metadata": {
        "colab": {
          "base_uri": "https://localhost:8080/"
        },
        "id": "wVf06dA2G2HU",
        "outputId": "05d183d0-3ee9-48ec-fe5f-cf0bc2a4935c"
      },
      "execution_count": 127,
      "outputs": [
        {
          "output_type": "stream",
          "name": "stdout",
          "text": [
            "\n",
            "\n",
            "0 0 4 0 \n",
            "1 0 0 0 \n",
            "0 0 2 0 \n",
            "0 0 0 0 \n",
            "\n",
            "\n",
            "\n"
          ]
        }
      ]
    },
    {
      "cell_type": "code",
      "source": [
        "episodes_N=10\n",
        "noOfSteps_N=100\n",
        "frameCnt=0\n",
        "randAct=50\n",
        "N_EXPERTS=2 \n",
        "\n",
        "rewardArr=[0 for i in range(N_EXPERTS)]\n",
        "exp=[]\n",
        "agentName=['Expert_l.ml','Expert_dk.ml']\n",
        "for _ in range(N_EXPERTS):\n",
        "  temp_model=keras.models.load_model(f'{agentName[_]}')\n",
        "  exp.append(temp_model)\n",
        "\n",
        "for no,e in enumerate(exp):\n",
        "  rewardTotal=0\n",
        "  for i in range(episodes_N):\n",
        "    state, reward, done, _ =env3.reset(mixedGrid)\n",
        "    state_historyP=[ state for i in range(frameForPrediction)]\n",
        "    episodeReward=0\n",
        "    for j in range(noOfSteps_N):        \n",
        "      state_numpyP = np.array(state_historyP[-frameForPrediction:]).reshape(frameForPrediction,25)\n",
        "      state_numpyP = np.array([state_numpyP])\n",
        "      action_probs = e(state_numpyP, training=False)\n",
        "      action = np.argmax(action_probs[0])\n",
        "      state, reward, done, _ = env3.step(action)\n",
        "      del state_historyP[:1]\n",
        "      state_historyP.append(state)\n",
        "      episodeReward+=reward\n",
        "      if done:\n",
        "        break\n",
        "    rewardTotal+=episodeReward/j\n",
        "  rewardArr[no]=rewardTotal/i"
      ],
      "metadata": {
        "colab": {
          "base_uri": "https://localhost:8080/"
        },
        "id": "IgbJj0BVVK_R",
        "outputId": "94149ce0-9ce8-477e-d5d7-f70ca529542c"
      },
      "execution_count": 132,
      "outputs": [
        {
          "output_type": "stream",
          "name": "stderr",
          "text": [
            "WARNING:tensorflow:No training configuration found in save file, so the model was *not* compiled. Compile it manually.\n",
            "WARNING:tensorflow:No training configuration found in save file, so the model was *not* compiled. Compile it manually.\n"
          ]
        }
      ]
    },
    {
      "cell_type": "code",
      "source": [
        "def softmax(arr):\n",
        "  for i in range(len(arr)):\n",
        "    print(np.exp(arr[i])/np.sum(np.exp(arr)))\n",
        "softmax(rewardArr)"
      ],
      "metadata": {
        "colab": {
          "base_uri": "https://localhost:8080/"
        },
        "id": "sFKEio29dbxP",
        "outputId": "dfbabe5d-01a9-411e-e00b-611411ae266d"
      },
      "execution_count": 133,
      "outputs": [
        {
          "output_type": "stream",
          "name": "stdout",
          "text": [
            "0.16818787696233334\n",
            "0.8318121230376667\n"
          ]
        }
      ]
    },
    {
      "cell_type": "code",
      "source": [
        "def updateNovice(novice,exp,rewardArr):\n",
        "  global N_EXPERTS\n",
        "  m=novice.get_weights()\n",
        "  wt=[]\n",
        "  for xx in range(len(m)):\n",
        "    temp=0\n",
        "    for _ in range(N_EXPERTS):\n",
        "      temp+=np.array(exp[_].get_weights()[xx])*rewardArr[_]\n",
        "    wt.append(temp)\n",
        "  novice.set_weights(wt)\n",
        "\n",
        "novice=create()\n",
        "updateNovice(novice,exp,rewardArr)"
      ],
      "metadata": {
        "id": "vDhTRIk1gY3F"
      },
      "execution_count": 140,
      "outputs": []
    },
    {
      "cell_type": "code",
      "source": [
        "!mkdir novice"
      ],
      "metadata": {
        "id": "VHNSd8mHrylh"
      },
      "execution_count": 143,
      "outputs": []
    },
    {
      "cell_type": "code",
      "source": [
        "%cd novice"
      ],
      "metadata": {
        "id": "QK3MEccXs0sx"
      },
      "execution_count": null,
      "outputs": []
    },
    {
      "cell_type": "code",
      "source": [
        "nov_arr=[]\n",
        "nov_arr.append(novice)\n",
        "nov_arr.append(create())\n",
        "nov_arr.append(exp[0])\n",
        "nov_arr.append(exp[1])\n",
        " \n",
        "for no,_ in enumerate(nov_arr):\n",
        "  _.save(f'Novice{no}.ml')"
      ],
      "metadata": {
        "id": "A2-cRH5Uqx1l"
      },
      "execution_count": null,
      "outputs": []
    },
    {
      "cell_type": "code",
      "source": [
        "%cd .."
      ],
      "metadata": {
        "colab": {
          "base_uri": "https://localhost:8080/"
        },
        "id": "dLbKPgYfs3It",
        "outputId": "047733d3-3a5b-418c-e780-a43a4d364b4c"
      },
      "execution_count": 149,
      "outputs": [
        {
          "output_type": "stream",
          "name": "stdout",
          "text": [
            "/content/CSCI_7000_FinalProject\n"
          ]
        }
      ]
    },
    {
      "cell_type": "code",
      "source": [
        "!rar -r a novice.rar novice/"
      ],
      "metadata": {
        "colab": {
          "base_uri": "https://localhost:8080/"
        },
        "id": "rCLj_UR5uAdw",
        "outputId": "ec5927aa-b341-41b9-df4a-4949a0bc6de3"
      },
      "execution_count": 150,
      "outputs": [
        {
          "output_type": "stream",
          "name": "stdout",
          "text": [
            "\n",
            "RAR 5.50   Copyright (c) 1993-2017 Alexander Roshal   11 Aug 2017\n",
            "Trial version             Type 'rar -?' for help\n",
            "\n",
            "Evaluation copy. Please register.\n",
            "\n",
            "Creating archive novice.rar\n",
            "\n",
            "Adding    novice/Novice1.ml/keras_metadata.pb                            \b\b\b\b  0%\b\b\b\b\b  OK \n",
            "Adding    novice/Novice1.ml/saved_model.pb                               \b\b\b\b 18%\b\b\b\b\b  OK \n",
            "Adding    novice/Novice1.ml/variables/variables.index                    \b\b\b\b 18%\b\b\b\b\b  OK \n",
            "Adding    novice/Novice1.ml/variables/variables.data-00000-of-00001      \b\b\b\b 24%\b\b\b\b\b  OK \n",
            "Adding    novice/Novice0.ml/keras_metadata.pb                            \b\b\b\b 25%\b\b\b\b\b  OK \n",
            "Adding    novice/Novice0.ml/saved_model.pb                               \b\b\b\b 43%\b\b\b\b\b  OK \n",
            "Adding    novice/Novice0.ml/variables/variables.index                    \b\b\b\b 43%\b\b\b\b\b  OK \n",
            "Adding    novice/Novice0.ml/variables/variables.data-00000-of-00001      \b\b\b\b 49%\b\b\b\b\b  OK \n",
            "Adding    novice/Novice3.ml/keras_metadata.pb                            \b\b\b\b 49%\b\b\b\b\b  OK \n",
            "Adding    novice/Novice3.ml/saved_model.pb                               \b\b\b\b 67%\b\b\b\b\b  OK \n",
            "Adding    novice/Novice3.ml/variables/variables.index                    \b\b\b\b 67%\b\b\b\b\b  OK \n",
            "Adding    novice/Novice3.ml/variables/variables.data-00000-of-00001      \b\b\b\b 74%\b\b\b\b\b  OK \n",
            "Adding    novice/Novice2.ml/keras_metadata.pb                            \b\b\b\b 74%\b\b\b\b\b  OK \n",
            "Adding    novice/Novice2.ml/saved_model.pb                               \b\b\b\b 92%\b\b\b\b\b  OK \n",
            "Adding    novice/Novice2.ml/variables/variables.index                    \b\b\b\b 92%\b\b\b\b\b  OK \n",
            "Adding    novice/Novice2.ml/variables/variables.data-00000-of-00001      \b\b\b\b 98%\b\b\b\b\b  OK \n",
            "Adding    novice/Novice1.ml/assets                                       \b\b\b\b\b  OK \n",
            "Adding    novice/Novice1.ml/variables                                    \b\b\b\b\b  OK \n",
            "Adding    novice/Novice0.ml/assets                                       \b\b\b\b\b  OK \n",
            "Adding    novice/Novice0.ml/variables                                    \b\b\b\b\b  OK \n",
            "Adding    novice/Novice3.ml/assets                                       \b\b\b\b\b  OK \n",
            "Adding    novice/Novice3.ml/variables                                    \b\b\b\b\b  OK \n",
            "Adding    novice/Novice2.ml/assets                                       \b\b\b\b\b  OK \n",
            "Adding    novice/Novice2.ml/variables                                    \b\b\b\b\b  OK \n",
            "Adding    novice/Novice1.ml                                              \b\b\b\b\b  OK \n",
            "Adding    novice/Novice0.ml                                              \b\b\b\b\b  OK \n",
            "Adding    novice/Novice3.ml                                              \b\b\b\b\b  OK \n",
            "Adding    novice/Novice2.ml                                              \b\b\b\b\b  OK \n",
            "Done\n"
          ]
        }
      ]
    }
  ]
}