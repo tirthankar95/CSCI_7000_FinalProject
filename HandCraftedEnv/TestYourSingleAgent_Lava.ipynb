{
  "nbformat": 4,
  "nbformat_minor": 0,
  "metadata": {
    "colab": {
      "provenance": []
    },
    "kernelspec": {
      "name": "python3",
      "display_name": "Python 3"
    },
    "language_info": {
      "name": "python"
    },
    "accelerator": "GPU",
    "gpuClass": "standard"
  },
  "cells": [
    {
      "cell_type": "code",
      "execution_count": 8,
      "metadata": {
        "colab": {
          "base_uri": "https://localhost:8080/"
        },
        "id": "QIwucFGl910q",
        "outputId": "665c6307-126b-4188-d6ca-4ea4e66e2885"
      },
      "outputs": [
        {
          "output_type": "stream",
          "name": "stdout",
          "text": [
            "Cloning into 'CSCI_7000_FinalProject'...\n",
            "remote: Enumerating objects: 619, done.\u001b[K\n",
            "remote: Counting objects: 100% (142/142), done.\u001b[K\n",
            "remote: Compressing objects: 100% (85/85), done.\u001b[K\n",
            "remote: Total 619 (delta 59), reused 117 (delta 44), pack-reused 477\u001b[K\n",
            "Receiving objects: 100% (619/619), 24.86 MiB | 11.89 MiB/s, done.\n",
            "Resolving deltas: 100% (264/264), done.\n",
            "Reading package lists... Done\n",
            "Building dependency tree       \n",
            "Reading state information... Done\n",
            "rar is already the newest version (2:5.5.0-1).\n",
            "The following package was automatically installed and is no longer required:\n",
            "  libnvidia-common-460\n",
            "Use 'sudo apt autoremove' to remove it.\n",
            "0 upgraded, 0 newly installed, 0 to remove and 11 not upgraded.\n"
          ]
        }
      ],
      "source": [
        "!git clone -b mittra https://github.com/tirthankar95/CSCI_7000_FinalProject.git\n",
        "!sudo apt install rar"
      ]
    },
    {
      "cell_type": "code",
      "source": [
        "import tensorflow as tf \n",
        "tf.config.list_physical_devices()"
      ],
      "metadata": {
        "colab": {
          "base_uri": "https://localhost:8080/"
        },
        "id": "BinWIWcV98eS",
        "outputId": "b3c38481-7730-4fee-fe73-d04b68e68551"
      },
      "execution_count": 9,
      "outputs": [
        {
          "output_type": "execute_result",
          "data": {
            "text/plain": [
              "[PhysicalDevice(name='/physical_device:CPU:0', device_type='CPU'),\n",
              " PhysicalDevice(name='/physical_device:GPU:0', device_type='GPU')]"
            ]
          },
          "metadata": {},
          "execution_count": 9
        }
      ]
    },
    {
      "cell_type": "code",
      "source": [
        "%cd /content/CSCI_7000_FinalProject/gym-minigrid/"
      ],
      "metadata": {
        "colab": {
          "base_uri": "https://localhost:8080/"
        },
        "id": "jezGD3H7-AqK",
        "outputId": "a18c4d22-f38b-4d72-9f2c-6f8df2f1b94c"
      },
      "execution_count": 10,
      "outputs": [
        {
          "output_type": "stream",
          "name": "stdout",
          "text": [
            "/content/CSCI_7000_FinalProject/gym-minigrid\n"
          ]
        }
      ]
    },
    {
      "cell_type": "code",
      "source": [
        "from HandCraftedEnv.mylava_env import *"
      ],
      "metadata": {
        "id": "KvSyc-dV-u7X"
      },
      "execution_count": 11,
      "outputs": []
    },
    {
      "cell_type": "code",
      "source": [
        "import numpy as np\n",
        "import random\n",
        "import matplotlib.pyplot as plt\n",
        "import tensorflow as tf\n",
        "import keras\n",
        "from keras.models import Sequential,Model\n",
        "from keras.layers import LSTM,Bidirectional,Dense,Input,Embedding,TimeDistributed,SimpleRNN,Flatten\n",
        "from keras.callbacks import EarlyStopping, ModelCheckpoint\n",
        "from tqdm import tqdm\n",
        "import re"
      ],
      "metadata": {
        "id": "1HpBeeM4-zvk"
      },
      "execution_count": 12,
      "outputs": []
    },
    {
      "cell_type": "code",
      "source": [
        "def plotProgress(reward_plot,xlabel,ylabel,title):\n",
        "    plt.plot(reward_plot)\n",
        "    plt.xlabel(xlabel)\n",
        "    plt.ylabel(ylabel)\n",
        "    plt.title(title)\n",
        "    plt.savefig(f'{ylabel}_lava.png')\n",
        "    plt.show()\n",
        "\n",
        "def create():\n",
        "    global num_actions,frameForPrediction\n",
        "    input=Input(shape=(frameForPrediction,25)) # (4,1,5,5) ~ my grid returns (1,2*visibility+1,2*visibility+1)\n",
        "    temp=LSTM(units=100,return_sequences=False)(input)\n",
        "    temp=Dense(units=100, activation='relu')(temp)\n",
        "    temp=Dense(units=50, activation='relu')(temp)\n",
        "    temp=Dense(units=10, activation='relu')(temp)\n",
        "    output=Dense(units=num_actions,activation='linear')(temp)\n",
        "    model=Model(input,output)\n",
        "    return model"
      ],
      "metadata": {
        "id": "SpR-BaAxAQOI"
      },
      "execution_count": 13,
      "outputs": []
    },
    {
      "cell_type": "code",
      "source": [
        "def trainAgentInEnv():\n",
        "  global model,model_target,loss_function,optimizer,reward_plot,action_history,state_history,state_next_history,rewards_history,noOfUpdates\n",
        "  # Configuration paramaters for the whole setup\n",
        "  seed = 42\n",
        "  gamma = 0.99  # Discount factor for past rewards\n",
        "  epsilon = 1.0  # Epsilon greedy parameter\n",
        "  epsilon_min = 0.1  # Minimum epsilon greedy parameter\n",
        "  epsilon_max = 1.0  # Maximum epsilon greedy parameter\n",
        "  epsilon_interval = (\n",
        "      epsilon_max - epsilon_min\n",
        "  )  # Rate at which to reduce chance of random action being taken\n",
        "  batch_size = 128  # Size of batch taken from replay buffer\n",
        "  max_steps_per_episode = 1000\n",
        "  episode_reward_history=[]\n",
        "\n",
        "  running_reward = 0\n",
        "  frame_count = 0\n",
        "  # Number of frames to take random action and observe output\n",
        "  epsilon_random_frames = 10000\n",
        "  # Number of frames for exploration\n",
        "  epsilon_greedy_frames = 1000000.0\n",
        "  # Maximum replay length\n",
        "  # Note: The Deepmind paper suggests 1000000 however this causes memory issues\n",
        "  max_memory_length = 100000\n",
        "  # Train the model after 4 actions\n",
        "  update_after_actions = 10\n",
        "  # How often to update the target network\n",
        "  update_target_network = 10000\n",
        "  # Using huber loss for stability\n",
        "  # We are taking 4 frames in our LSTM\n",
        "  frame_offset=frameForPrediction-1\n",
        "  noOfEpisodes=1000 #beast 100000\n",
        "\n",
        "  dummy_state=[[[-1 for i in range(5)] for j in range(5)]] #2*visibility+1=5\n",
        "  dummy_action=-1\n",
        "  dummy_reward=-1\n",
        "  dummy=-1\n",
        "  # Run this multiple times. (1000)\n",
        "  state, reward, done, _ = env.reset_m()\n",
        "  for _ in tqdm(range(noOfEpisodes)):  # Run until solved\n",
        "      state, reward, done, _ = env.reset_prev()\n",
        "      episode_reward = 0\n",
        "      for i in range(frame_offset):\n",
        "        state_history.append(dummy_state)\n",
        "        state_next_history.append(dummy_state)\n",
        "        rewards_history.append(dummy_reward)\n",
        "        action_history.append(dummy_action)\n",
        "        done_history.append(dummy)\n",
        "      for timestep in range(1, max_steps_per_episode):\n",
        "          # env.render(); Adding this line would show the attempts\n",
        "          # of the agent in a pop up window.\n",
        "          frame_count += 1\n",
        "          # Use epsilon-greedy for exploration\n",
        "          if frame_count < epsilon_random_frames or epsilon > np.random.rand(1)[0]:\n",
        "              # Take random action\n",
        "              action = np.random.choice(num_actions)\n",
        "          else:\n",
        "              # Predict action Q-values\n",
        "              # From environment state\n",
        "              state_numpy = np.array(state_history[-frameForPrediction:]).reshape(frameForPrediction,25)\n",
        "              state_numpy = np.array([state_numpy])\n",
        "              action_probs = model(state_numpy, training=False)\n",
        "              # Take best action\n",
        "              action = np.argmax(action_probs[0])\n",
        "\n",
        "          # Decay probability of taking random action\n",
        "          epsilon -= epsilon_interval / epsilon_greedy_frames\n",
        "          epsilon = max(epsilon, epsilon_min)\n",
        "\n",
        "          # Apply the sampled action in our environment\n",
        "          state_next, reward, done, _ = env.step_m(action)\n",
        "          episode_reward += reward\n",
        "\n",
        "          # Save actions and states in replay buffer\n",
        "          state_history.append(state)\n",
        "          state_next_history.append(state_next)\n",
        "          action_history.append(action)\n",
        "          done_history.append(done)\n",
        "          rewards_history.append(reward)\n",
        "          state = state_next\n",
        "\n",
        "          # Update every fourth frame and once batch size is over 32\n",
        "          if frame_count % update_after_actions == 0 and len(done_history) > batch_size:\n",
        "              # Get indices of samples for replay buffers\n",
        "              noOfUpdates-=1\n",
        "              if noOfUpdates==0:\n",
        "                indices = np.random.choice(range(len(done_history)-frame_offset), size=len(done_history))+frame_offset\n",
        "                noOfUpdates=20000\n",
        "              else:\n",
        "                indices = np.random.choice(range(len(done_history)-frame_offset), size=batch_size)+frame_offset\n",
        "              # Using list comprehension to sample from replay buffer\n",
        "              state_sample = np.array([ np.array(state_history[i-frame_offset:i+1]).reshape(frameForPrediction,25) for i in indices])\n",
        "              state_next_sample = np.array([ np.array(state_next_history[i-frame_offset:i+1]).reshape(frameForPrediction,25) for i in indices])\n",
        "              rewards_sample = [rewards_history[i] for i in indices]\n",
        "              action_sample = [action_history[i] for i in indices]\n",
        "              # Build the updated Q-values for the sampled future states\n",
        "              # Use the target model for stability\n",
        "              future_rewards = model_target.predict(state_next_sample,verbose=False)\n",
        "              # Q value = reward + discount factor * expected future reward\n",
        "              updated_q_values = rewards_sample + gamma * np.max(future_rewards, axis=1)\n",
        "              updated_q_values = updated_q_values.astype('float32')\n",
        "              # Create a mask so we only calculate loss on the updated Q-values\n",
        "              masks = tf.one_hot(action_sample, num_actions)\n",
        "              with tf.GradientTape() as tape:    \n",
        "                  q_values = model(state_sample)\n",
        "                  # Apply the masks to the Q-values to get the Q-value for action taken\n",
        "                  q_action = tf.reduce_sum(tf.multiply(q_values, masks), axis=1)\n",
        "                  loss = loss_function(updated_q_values,q_action)\n",
        "              # Backpropagation\n",
        "              grads = tape.gradient(loss, model.trainable_variables)\n",
        "              optimizer.apply_gradients(zip(grads, model.trainable_variables))\n",
        "              \n",
        "\n",
        "          if frame_count % update_target_network == 0:\n",
        "              # update the the target network with new weights\n",
        "              model_target.set_weights(model.get_weights())\n",
        "              # Log details\n",
        "              template = \"running reward: {:.2f} at episode {}, frame count {}\"\n",
        "              print(template.format(running_reward, _, frame_count))\n",
        "\n",
        "          # Limit the state and reward history\n",
        "          if len(rewards_history) > max_memory_length:\n",
        "              del rewards_history[:1]\n",
        "              del state_history[:1]\n",
        "              del state_next_history[:1]\n",
        "              del action_history[:1]\n",
        "              del done_history[:1]\n",
        "          if done:\n",
        "              break\n",
        "      # Update running reward to check condition for solving\n",
        "      episode_reward_history.append(episode_reward)\n",
        "      running_reward = np.mean(episode_reward_history)\n",
        "      reward_plot.append(episode_reward)\n",
        "      episode_steps_plot.append(timestep)"
      ],
      "metadata": {
        "id": "XcwQ_3RpANDl"
      },
      "execution_count": 14,
      "outputs": []
    },
    {
      "cell_type": "code",
      "source": [
        "num_actions=5\n",
        "frameForPrediction=4\n",
        "noOfUpdates=20000 #after 20000 frames do a full\n",
        "\n",
        "action_history = []\n",
        "state_history = []\n",
        "state_next_history = []\n",
        "rewards_history = []\n",
        "reward_plot = []\n",
        "episode_steps_plot = []\n",
        "done_history = []\n",
        "\n",
        "env = lava(difficulty=20)\n",
        "model=create()\n",
        "model_target=create()\n",
        "\n",
        "loss_function = keras.losses.MeanSquaredError()\n",
        "optimizer=tf.keras.optimizers.RMSprop()"
      ],
      "metadata": {
        "id": "buExv0qtp7Yh"
      },
      "execution_count": 15,
      "outputs": []
    },
    {
      "cell_type": "code",
      "source": [
        "def loadCheckPoints():\n",
        "  global model,model_target,reward_plot,episode_steps_plot \n",
        "  model.load_weights('Expert_l.ml')\n",
        "  file=open('RewardsL.txt','r')\n",
        "  reward_plot=[ int(i) for i in re.split(',|\\[|\\]',file.read()) if i!='' ]\n",
        "  file.close()\n",
        "  file=open('EpisodesL.txt','r')\n",
        "  episode_steps_plot=[ int(i) for i in re.split(',|\\[|\\]',file.read()) if i!='' ]\n",
        "  file.close()\n",
        "\n",
        "def saveCheckPoints():\n",
        "  # Save checkpoints. \n",
        "  file=open('RewardsL.txt','w')\n",
        "  file.write(str(reward_plot))\n",
        "  file.close()\n",
        "  file=open('EpisodesL.txt','w')\n",
        "  file.write(str(episode_steps_plot))\n",
        "  file.close()\n",
        "  model.save('Expert_l.ml')\n",
        "  plotProgress(reward_plot,'Episodes','Total Reward','Total Reward V/S Episodes.')\n",
        "  print()\n",
        "  plotProgress(episode_steps_plot,'Episodes','Steps','Steps Reward V/S Episodes.')\n",
        "\n",
        "\n",
        "#Use for loop later on but for now call manually\n",
        "trainAgentInEnv()\n",
        "# for gce.\n",
        "saveCheckPoints()\n",
        "!rar -r a Expert_l.ml.rar Expert_l.ml/\n",
        "loadCheckPoints()"
      ],
      "metadata": {
        "colab": {
          "base_uri": "https://localhost:8080/",
          "height": 923
        },
        "id": "X3IWMid_W6GF",
        "outputId": "556bf77b-120a-414d-8be6-3f30bdb9b307"
      },
      "execution_count": 52,
      "outputs": [
        {
          "output_type": "stream",
          "name": "stderr",
          "text": [
            "100%|██████████| 1000/1000 [01:11<00:00, 13.91it/s]\n",
            "WARNING:tensorflow:Compiled the loaded model, but the compiled metrics have yet to be built. `model.compile_metrics` will be empty until you train or evaluate the model.\n",
            "WARNING:absl:Found untraced functions such as lstm_cell_layer_call_fn, lstm_cell_layer_call_and_return_conditional_losses while saving (showing 2 of 2). These functions will not be directly callable after loading.\n"
          ]
        },
        {
          "output_type": "display_data",
          "data": {
            "text/plain": [
              "<Figure size 432x288 with 1 Axes>"
            ],
            "image/png": "[encoded data removed]"
          },
          "metadata": {
            "needs_background": "light"
          }
        },
        {
          "output_type": "stream",
          "name": "stdout",
          "text": [
            "\n"
          ]
        },
        {
          "output_type": "display_data",
          "data": {
            "text/plain": [
              "<Figure size 432x288 with 1 Axes>"
            ],
            "image/png": "[encoded data removed]"
          },
          "metadata": {
            "needs_background": "light"
          }
        },
        {
          "output_type": "stream",
          "name": "stdout",
          "text": [
            "\n",
            "RAR 5.50   Copyright (c) 1993-2017 Alexander Roshal   11 Aug 2017\n",
            "Trial version             Type 'rar -?' for help\n",
            "\n",
            "Evaluation copy. Please register.\n",
            "\n",
            "Updating archive Expert_l.ml.rar\n",
            "\n",
            "Updating  Expert_l.ml/saved_model.pb                                     \b\b\b\b 72%\b\b\b\b\b  OK \n",
            "Updating  Expert_l.ml/variables/variables.data-00000-of-00001            \b\b\b\b 97%\b\b\b\b\b  OK \n",
            "Updating  Expert_l.ml/variables/variables.index                          \b\b\b\b 97%\b\b\b\b\b  OK \n",
            "Updating  Expert_l.ml/keras_metadata.pb                                  \b\b\b\b 99%\b\b\b\b\b  OK \n",
            "Updating  Expert_l.ml/variables                                          \b\b\b\b\b  OK \n",
            "Updating  Expert_l.ml/assets                                             \b\b\b\b\b  OK \n",
            "Done\n"
          ]
        }
      ]
    },
    {
      "cell_type": "code",
      "source": [
        "# For normal collab.\n",
        "from google.colab import drive,files\n",
        "drive.mount(\"/content/drive\")\n",
        "!cp -rf Expert_dk.ml /content/drive/MyDrive/SavedRLModels/"
      ],
      "metadata": {
        "id": "E7i6j2CX4q3a"
      },
      "execution_count": null,
      "outputs": []
    },
    {
      "cell_type": "code",
      "source": [
        "state, reward, done, _ = env.reset_prev()\n",
        "frame_offset=frameForPrediction-1\n",
        "\n",
        "state_historyP=[ state for i in range(frameForPrediction)]\n",
        "\n",
        "while not done:\n",
        "  state_numpyP = np.array(state_historyP[-frameForPrediction:]).reshape(frameForPrediction,25)\n",
        "  state_numpyP = np.array([state_numpyP])\n",
        "  action_probs = model(state_numpyP, training=False)\n",
        "  action = np.argmax(action_probs[0])\n",
        "  env.printEnv()\n",
        "  print(action)\n",
        "  state, reward, done, _ = env.step_m(action)\n",
        "  del state_historyP[:1]\n",
        "  state_historyP.append(state)"
      ],
      "metadata": {
        "colab": {
          "base_uri": "https://localhost:8080/"
        },
        "id": "q-oRf8FEf4Tx",
        "outputId": "7bab7384-5908-408a-896b-871b5f90c9c7"
      },
      "execution_count": 53,
      "outputs": [
        {
          "output_type": "stream",
          "name": "stdout",
          "text": [
            "\n",
            "\n",
            "0 4 0 0 \n",
            "0 8 0 32 \n",
            "0 0 0 8 \n",
            "0 0 8 8 \n",
            "\n",
            "\n",
            "\n",
            "1\n",
            "\n",
            "\n",
            "0 0 4 0 \n",
            "0 8 0 32 \n",
            "0 0 0 8 \n",
            "0 0 8 8 \n",
            "\n",
            "\n",
            "\n",
            "1\n",
            "\n",
            "\n",
            "0 0 0 4 \n",
            "0 8 0 32 \n",
            "0 0 0 8 \n",
            "0 0 8 8 \n",
            "\n",
            "\n",
            "\n",
            "3\n"
          ]
        }
      ]
    }
  ]
}