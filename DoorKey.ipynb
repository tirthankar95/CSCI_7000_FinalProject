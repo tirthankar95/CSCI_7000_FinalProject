{
 "cells": [
  {
   "cell_type": "code",
   "execution_count": null,
   "metadata": {
    "execution": {
     "iopub.execute_input": "2022-12-12T00:43:28.709768Z",
     "iopub.status.busy": "2022-12-12T00:43:28.709367Z",
     "iopub.status.idle": "2022-12-12T00:43:34.997492Z",
     "shell.execute_reply": "2022-12-12T00:43:34.996431Z",
     "shell.execute_reply.started": "2022-12-12T00:43:28.709700Z"
    },
    "tags": []
   },
   "outputs": [],
   "source": [
    "import tensorflow as tf\n",
    "tf.config.list_physical_devices()"
   ]
  },
  {
   "cell_type": "code",
   "execution_count": null,
   "metadata": {
    "execution": {
     "iopub.execute_input": "2022-12-12T00:44:07.005517Z",
     "iopub.status.busy": "2022-12-12T00:44:07.005072Z",
     "iopub.status.idle": "2022-12-12T00:44:09.054114Z",
     "shell.execute_reply": "2022-12-12T00:44:09.053039Z",
     "shell.execute_reply.started": "2022-12-12T00:44:07.005486Z"
    },
    "tags": []
   },
   "outputs": [],
   "source": [
    "!git clone https://github.com/tirthankar95/CSCI_7000_FinalProject.git"
   ]
  },
  {
   "cell_type": "code",
   "execution_count": null,
   "metadata": {
    "execution": {
     "iopub.execute_input": "2022-12-12T00:43:59.503786Z",
     "iopub.status.busy": "2022-12-12T00:43:59.503374Z",
     "iopub.status.idle": "2022-12-12T00:44:00.313224Z",
     "shell.execute_reply": "2022-12-12T00:44:00.312281Z",
     "shell.execute_reply.started": "2022-12-12T00:43:59.503757Z"
    }
   },
   "outputs": [],
   "source": []
  },
  {
   "cell_type": "code",
   "execution_count": null,
   "metadata": {
    "execution": {
     "iopub.execute_input": "2022-12-12T00:44:15.608270Z",
     "iopub.status.busy": "2022-12-12T00:44:15.607844Z",
     "iopub.status.idle": "2022-12-12T00:44:15.614492Z",
     "shell.execute_reply": "2022-12-12T00:44:15.613536Z",
     "shell.execute_reply.started": "2022-12-12T00:44:15.608240Z"
    },
    "tags": []
   },
   "outputs": [],
   "source": [
    "%cd CSCI_7000_FinalProject/gym-minigrid/"
   ]
  },
  {
   "cell_type": "code",
   "execution_count": null,
   "metadata": {
    "execution": {
     "iopub.execute_input": "2022-12-12T00:44:26.020037Z",
     "iopub.status.busy": "2022-12-12T00:44:26.019658Z",
     "iopub.status.idle": "2022-12-12T00:44:26.023649Z",
     "shell.execute_reply": "2022-12-12T00:44:26.022861Z",
     "shell.execute_reply.started": "2022-12-12T00:44:26.020009Z"
    },
    "tags": []
   },
   "outputs": [],
   "source": [
    "import keras"
   ]
  },
  {
   "cell_type": "code",
   "execution_count": null,
   "metadata": {
    "execution": {
     "iopub.execute_input": "2022-12-10T19:11:25.179249Z",
     "iopub.status.busy": "2022-12-10T19:11:25.178863Z",
     "iopub.status.idle": "2022-12-10T19:11:25.993851Z",
     "shell.execute_reply": "2022-12-10T19:11:25.992811Z",
     "shell.execute_reply.started": "2022-12-10T19:11:25.179225Z"
    },
    "tags": []
   },
   "outputs": [],
   "source": [
    "import matplotlib\n",
    "import tqdm"
   ]
  },
  {
   "cell_type": "code",
   "execution_count": null,
   "metadata": {
    "execution": {
     "iopub.execute_input": "2022-12-12T00:44:32.312962Z",
     "iopub.status.busy": "2022-12-12T00:44:32.312578Z",
     "iopub.status.idle": "2022-12-12T00:44:35.457553Z",
     "shell.execute_reply": "2022-12-12T00:44:35.456782Z",
     "shell.execute_reply.started": "2022-12-12T00:44:32.312937Z"
    },
    "tags": []
   },
   "outputs": [],
   "source": [
    "!pip install tqdm"
   ]
  },
  {
   "cell_type": "code",
   "execution_count": null,
   "metadata": {
    "execution": {
     "iopub.execute_input": "2022-12-12T00:44:42.461790Z",
     "iopub.status.busy": "2022-12-12T00:44:42.461270Z",
     "iopub.status.idle": "2022-12-12T00:44:45.997890Z",
     "shell.execute_reply": "2022-12-12T00:44:45.997122Z",
     "shell.execute_reply.started": "2022-12-12T00:44:42.461747Z"
    },
    "tags": []
   },
   "outputs": [],
   "source": [
    "!pip install -e ."
   ]
  },
  {
   "cell_type": "code",
   "execution_count": null,
   "metadata": {
    "execution": {
     "iopub.execute_input": "2022-12-12T00:44:50.372049Z",
     "iopub.status.busy": "2022-12-12T00:44:50.371626Z",
     "iopub.status.idle": "2022-12-12T00:44:50.466515Z",
     "shell.execute_reply": "2022-12-12T00:44:50.465750Z",
     "shell.execute_reply.started": "2022-12-12T00:44:50.372020Z"
    },
    "tags": []
   },
   "outputs": [],
   "source": [
    "from gym_minigrid.envs.doorkey import *\n",
    "from gym_minigrid.envs.crossing import *\n",
    "from gym_minigrid.envs.mixed import *\n",
    "#env = CrossingEnv(size=6)\n",
    "env = MixedEnv(size=8)\n",
    "env.step_m(1)"
   ]
  },
  {
   "cell_type": "code",
   "execution_count": null,
   "metadata": {
    "execution": {
     "iopub.execute_input": "2022-12-12T00:44:57.838979Z",
     "iopub.status.busy": "2022-12-12T00:44:57.838592Z",
     "iopub.status.idle": "2022-12-12T00:44:58.909986Z",
     "shell.execute_reply": "2022-12-12T00:44:58.909379Z",
     "shell.execute_reply.started": "2022-12-12T00:44:57.838954Z"
    },
    "tags": []
   },
   "outputs": [],
   "source": [
    "import gym\n",
    "import numpy as np\n",
    "import random\n",
    "import gym_minigrid\n",
    "import matplotlib.pyplot as plt\n",
    "import tensorflow as tf\n",
    "import keras\n",
    "from keras.models import Sequential,Model\n",
    "from keras.layers import LSTM,Bidirectional,Dense,Input,Embedding,TimeDistributed\n",
    "from keras.callbacks import EarlyStopping, ModelCheckpoint\n"
   ]
  },
  {
   "cell_type": "code",
   "execution_count": null,
   "metadata": {
    "execution": {
     "iopub.execute_input": "2022-12-12T00:44:58.912260Z",
     "iopub.status.busy": "2022-12-12T00:44:58.911342Z",
     "iopub.status.idle": "2022-12-12T00:44:58.915783Z",
     "shell.execute_reply": "2022-12-12T00:44:58.914988Z",
     "shell.execute_reply.started": "2022-12-12T00:44:58.912224Z"
    },
    "tags": []
   },
   "outputs": [],
   "source": [
    "num_actions=5"
   ]
  },
  {
   "cell_type": "code",
   "execution_count": null,
   "metadata": {
    "execution": {
     "iopub.execute_input": "2022-12-12T00:45:00.948553Z",
     "iopub.status.busy": "2022-12-12T00:45:00.948155Z",
     "iopub.status.idle": "2022-12-12T00:45:00.952492Z",
     "shell.execute_reply": "2022-12-12T00:45:00.951743Z",
     "shell.execute_reply.started": "2022-12-12T00:45:00.948528Z"
    },
    "tags": []
   },
   "outputs": [],
   "source": [
    "\n",
    "def plotProgress(reward_plot):\n",
    "    plt.plot(reward_plot)\n",
    "    plt.xlabel('Episodes')\n",
    "    plt.ylabel('Avg. reward')\n",
    "    plt.title('Avg Reward Per Step V/S Episodes.')\n",
    "    plt.show()\n"
   ]
  },
  {
   "cell_type": "code",
   "execution_count": null,
   "metadata": {
    "execution": {
     "iopub.execute_input": "2022-12-12T00:45:05.450799Z",
     "iopub.status.busy": "2022-12-12T00:45:05.450402Z",
     "iopub.status.idle": "2022-12-12T00:45:05.454130Z",
     "shell.execute_reply": "2022-12-12T00:45:05.453479Z",
     "shell.execute_reply.started": "2022-12-12T00:45:05.450770Z"
    },
    "tags": []
   },
   "outputs": [],
   "source": [
    "frame_offset = 3"
   ]
  },
  {
   "cell_type": "code",
   "execution_count": null,
   "metadata": {
    "execution": {
     "iopub.execute_input": "2022-12-12T00:45:27.174676Z",
     "iopub.status.busy": "2022-12-12T00:45:27.174280Z",
     "iopub.status.idle": "2022-12-12T00:45:27.179842Z",
     "shell.execute_reply": "2022-12-12T00:45:27.179152Z",
     "shell.execute_reply.started": "2022-12-12T00:45:27.174651Z"
    },
    "tags": []
   },
   "outputs": [],
   "source": [
    "def create():\n",
    "    global num_actions\n",
    "    input=Input(shape=((frame_offset+1),147)) # (3,3,7,7) ~ the mini-grid by default returns (3,7,7) image.\n",
    "    model=LSTM(units=256,return_sequences=False)(input)\n",
    "    x1 = Dense(units=256, activation='relu')(model)\n",
    "    x1 = Dense(units=128, activation='relu')(x1)\n",
    "    x1 = Dense(units=64, activation='relu')(x1)\n",
    "    x1 = Dense(units=32, activation='relu')(x1)\n",
    "    x1 = Dense(units=16, activation='relu')(x1)\n",
    "    output=Dense(units=num_actions,activation='linear')(x1)\n",
    "    model=Model(input,output)\n",
    "    return model\n"
   ]
  },
  {
   "cell_type": "code",
   "execution_count": null,
   "metadata": {
    "execution": {
     "iopub.execute_input": "2022-12-12T00:45:28.935891Z",
     "iopub.status.busy": "2022-12-12T00:45:28.935509Z",
     "iopub.status.idle": "2022-12-12T00:45:30.140921Z",
     "shell.execute_reply": "2022-12-12T00:45:30.140151Z",
     "shell.execute_reply.started": "2022-12-12T00:45:28.935865Z"
    },
    "tags": []
   },
   "outputs": [],
   "source": [
    "create()"
   ]
  },
  {
   "cell_type": "code",
   "execution_count": null,
   "metadata": {
    "execution": {
     "iopub.execute_input": "2022-12-12T02:04:45.369005Z",
     "iopub.status.busy": "2022-12-12T02:04:45.368619Z",
     "iopub.status.idle": "2022-12-12T02:04:46.541892Z",
     "shell.execute_reply": "2022-12-12T02:04:46.541222Z",
     "shell.execute_reply.started": "2022-12-12T02:04:45.368981Z"
    },
    "tags": []
   },
   "outputs": [],
   "source": [
    "from tqdm import tqdm\n",
    "global num_actions\n",
    "# Configuration paramaters for the whole setup\n",
    "seed = 42\n",
    "gamma = 0.99  # Discount factor for past rewards\n",
    "epsilon = 0.8  # Epsilon greedy parameter\n",
    "epsilon_min = 0.2  # Minimum epsilon greedy parameter\n",
    "epsilon_max = 0.8  # Maximum epsilon greedy parameter\n",
    "epsilon_interval = (\n",
    "    epsilon_max - epsilon_min\n",
    ")  # Rate at which to reduce chance of random action being taken\n",
    "batch_size = 4096  # Size of batch taken from replay buffer\n",
    "max_steps_per_episode = 5000 #beast 1000\n",
    "from gym_minigrid.envs.doorkey import *\n",
    "from gym_minigrid.envs.crossing import *\n",
    "from gym_minigrid.envs.mixed import *\n",
    "env = DoorKeyEnv(size=8)\n",
    "#env = CrossingEnv(size=6)\n",
    "#env = gym.make('MiniGrid-DoorKey-6x6-v0')\n",
    "#env.seed(seed)\n",
    "\n",
    "doorkey_model=create()\n",
    "doorkey_model_target=create()\n",
    "loss_function = keras.losses.MeanSquaredError()\n",
    "optimizer=keras.optimizers.RMSprop()\n",
    "\n",
    "# Experience replay buffers\n",
    "action_history = []\n",
    "state_history = []\n",
    "state_next_history = []\n",
    "rewards_history = []\n",
    "episode_reward_history=[]\n",
    "done_history = []\n",
    "reward_plot = []\n",
    "running_reward = 0\n",
    "episode_count = 0\n",
    "frame_count = 0\n",
    "# Number of frames to take random action and observe output\n",
    "epsilon_random_frames = 100000 #beast 10000\n",
    "# Number of frames for exploration\n",
    "epsilon_greedy_frames = 500000.0\n",
    "# Maximum replay length\n",
    "# Note: The Deepmind paper suggests 1000000 however this causes memory issues\n",
    "max_memory_length = 200000\n",
    "# Train the model after 4 actions\n",
    "update_after_actions = 100\n",
    "# How often to update the target network\n",
    "update_target_network = 10000\n",
    "# Using huber loss for stability\n",
    "# We are taking 3 frames in our LSTM\n",
    "#frame_offset=2\n",
    "\n"
   ]
  },
  {
   "cell_type": "code",
   "execution_count": null,
   "metadata": {
    "execution": {
     "iopub.execute_input": "2022-12-12T02:04:46.549913Z",
     "iopub.status.busy": "2022-12-12T02:04:46.549610Z",
     "iopub.status.idle": "2022-12-12T02:04:46.556744Z",
     "shell.execute_reply": "2022-12-12T02:04:46.555963Z",
     "shell.execute_reply.started": "2022-12-12T02:04:46.549890Z"
    },
    "tags": []
   },
   "outputs": [],
   "source": [
    "termination_steps=[]"
   ]
  },
  {
   "cell_type": "code",
   "execution_count": null,
   "metadata": {
    "execution": {
     "iopub.execute_input": "2022-12-12T02:04:46.617023Z",
     "iopub.status.busy": "2022-12-12T02:04:46.616744Z",
     "iopub.status.idle": "2022-12-12T02:04:46.621649Z",
     "shell.execute_reply": "2022-12-12T02:04:46.621043Z",
     "shell.execute_reply.started": "2022-12-12T02:04:46.617003Z"
    },
    "tags": []
   },
   "outputs": [],
   "source": [
    "success_ratio = []\n",
    "epsilon_history = [epsilon]"
   ]
  },
  {
   "cell_type": "code",
   "execution_count": null,
   "metadata": {
    "tags": []
   },
   "outputs": [],
   "source": []
  },
  {
   "cell_type": "code",
   "execution_count": null,
   "metadata": {
    "execution": {
     "iopub.execute_input": "2022-12-12T02:04:48.230556Z",
     "iopub.status.busy": "2022-12-12T02:04:48.230168Z",
     "iopub.status.idle": "2022-12-12T02:04:48.235594Z",
     "shell.execute_reply": "2022-12-12T02:04:48.234880Z",
     "shell.execute_reply.started": "2022-12-12T02:04:48.230532Z"
    },
    "tags": []
   },
   "outputs": [],
   "source": [
    "import numpy as np\n",
    "seed = 42\n",
    "np.random.seed(seed=42)\n",
    "def best_action(action_probs):\n",
    "  action = np.argmax(action_probs)\n",
    "  action_probs = np.abs(action_probs - action_probs[action])\n",
    "  possible_actions = []\n",
    "  for i in range(5):\n",
    "    if (action_probs[i] < 0.2):\n",
    "      possible_actions.append(i)\n",
    "  # print(action_probs, possible_actions)\n",
    "  length = len(possible_actions)\n",
    "  action_probs = [1 / length for i in possible_actions]\n",
    "  return np.random.choice(possible_actions, p=action_probs)\n"
   ]
  },
  {
   "cell_type": "code",
   "execution_count": null,
   "metadata": {
    "execution": {
     "iopub.execute_input": "2022-12-12T02:04:49.403300Z",
     "iopub.status.busy": "2022-12-12T02:04:49.402918Z",
     "iopub.status.idle": "2022-12-12T02:04:49.422456Z",
     "shell.execute_reply": "2022-12-12T02:04:49.421722Z",
     "shell.execute_reply.started": "2022-12-12T02:04:49.403276Z"
    },
    "tags": []
   },
   "outputs": [],
   "source": [
    "doorkey_model.summary()"
   ]
  },
  {
   "cell_type": "code",
   "execution_count": null,
   "metadata": {
    "execution": {
     "iopub.execute_input": "2022-12-12T02:21:29.427166Z",
     "iopub.status.busy": "2022-12-12T02:21:29.426743Z",
     "iopub.status.idle": "2022-12-12T02:28:52.114757Z",
     "shell.execute_reply": "2022-12-12T02:28:52.113956Z",
     "shell.execute_reply.started": "2022-12-12T02:21:29.427137Z"
    },
    "tags": []
   },
   "outputs": [],
   "source": [
    "noOfEpisodes=1000 #beast 100000\n",
    "#while noOfEpisodes:  # Run until solved\n",
    "for _ in tqdm(range(noOfEpisodes)):\n",
    "    #noOfEpisodes-=1\n",
    "    state = np.array(env.reset_m())\n",
    "    episode_reward = 0\n",
    "    success = 0\n",
    "\n",
    "    for timestep in range(1, max_steps_per_episode):\n",
    "        # env.render(); Adding this line would show the attempts\n",
    "        # of the agent in a pop up window.\n",
    "        frame_count += 1\n",
    "\n",
    "        # Use epsilon-greedy for exploration\n",
    "        if frame_count < epsilon_random_frames or epsilon > np.random.rand(1)[0]:\n",
    "            # Take random action\n",
    "            action = np.random.choice(num_actions)\n",
    "        else:\n",
    "            # Predict action Q-values\n",
    "            # From environment state\n",
    "            #print(len(state_history))\n",
    "            state_numpy = np.array(state_history[-(frame_offset+1):]).reshape((frame_offset+1),147)\n",
    "            state_numpy = np.array([state_numpy])\n",
    "            action_probs = doorkey_model(state_numpy, training=False)\n",
    "            # Take best action\n",
    "            #action = np.argmax(action_probs[0])\n",
    "            action = best_action(action_probs[0])\n",
    "            #print(action_probs[0])\n",
    "            \n",
    "\n",
    "        # Decay probability of taking random action\n",
    "        epsilon -= epsilon_interval / epsilon_greedy_frames\n",
    "        epsilon = max(epsilon, epsilon_min)\n",
    "        #epsilon_history.append(epsilon)\n",
    "        \n",
    "\n",
    "        # Apply the sampled action in our environment\n",
    "        state_next, reward, done, _ = env.step_m(action)\n",
    "        state_next = np.array(state_next)\n",
    "\n",
    "        episode_reward += reward\n",
    "        if(done==True):\n",
    "            success = 1\n",
    "\n",
    "        # Save actions and states in replay buffer\n",
    "        action_history.append(action)\n",
    "        temp_state=dict(state.item(0)) # state is a 0-d numpy array.\n",
    "        state_history.append(temp_state['image'])\n",
    "        temp_state=dict(state_next.item(0)) # state is a 0-d numpy array.\n",
    "        state_next_history.append(temp_state['image'])\n",
    "        done_history.append(done)\n",
    "        rewards_history.append(reward)\n",
    "        state = state_next\n",
    "\n",
    "        # Update every fourth frame and once batch size is over 32\n",
    "        if frame_count % update_after_actions == 0 and len(done_history) > batch_size:\n",
    "            # Get indices of samples for replay buffers\n",
    "            indices = np.random.choice(range(len(done_history)-frame_offset), size=batch_size)+frame_offset\n",
    "            i=indices[0]\n",
    "            # Using list comprehension to sample from replay buffer\n",
    "            state_sample = np.array([ np.array(state_history[i-frame_offset:i+1]).reshape((frame_offset+1),147) for i in indices])\n",
    "            state_next_sample = np.array([ np.array(state_next_history[i-frame_offset:i+1]).reshape((frame_offset+1),147) for i in indices])\n",
    "            rewards_sample = [rewards_history[i] for i in indices]\n",
    "            action_sample = [action_history[i] for i in indices]\n",
    "            # Build the updated Q-values for the sampled future states\n",
    "            # Use the target model for stability\n",
    "            future_rewards = doorkey_model_target.predict(state_next_sample,verbose=False)\n",
    "            # Q value = reward + discount factor * expected future reward\n",
    "            updated_q_values = rewards_sample + gamma * np.max(\\\n",
    "                future_rewards, axis=1)\n",
    "            updated_q_values = updated_q_values.astype('float32')\n",
    "            # Create a mask so we only calculate loss on the updated Q-values\n",
    "            masks = tf.one_hot(action_sample, num_actions)\n",
    "            with tf.GradientTape() as tape:    \n",
    "                q_values = doorkey_model(state_sample)\n",
    "                # Apply the masks to the Q-values to get the Q-value for action taken\n",
    "                q_action = tf.reduce_sum(tf.multiply(q_values, masks), axis=1)\n",
    "                loss = loss_function(updated_q_values,q_action)\n",
    "            # Backpropagation\n",
    "            grads = tape.gradient(loss, doorkey_model.trainable_variables)\n",
    "            optimizer.apply_gradients(zip(grads, doorkey_model.trainable_variables))\n",
    "            \n",
    "\n",
    "        if frame_count % update_target_network == 0:\n",
    "            # update the the target network with new weights\n",
    "            doorkey_model_target.set_weights(doorkey_model.get_weights())\n",
    "            # Log details\n",
    "            template = \"running reward: {:.2f} at episode {}, frame count {} with epsilon {}\"\n",
    "            print(template.format(running_reward, episode_count, frame_count, epsilon))\n",
    "        if frame_count > update_target_network*10:\n",
    "            update_target_network = update_target_network*10\n",
    "\n",
    "        # Limit the state and reward history\n",
    "        if len(rewards_history) > max_memory_length:\n",
    "            del rewards_history[:1]\n",
    "            del state_history[:1]\n",
    "            del state_next_history[:1]\n",
    "            del action_history[:1]\n",
    "            del done_history[:1]\n",
    "        if done:\n",
    "            break\n",
    "\n",
    "    success_ratio.append(success)\n",
    "    # Update running reward to check condition for solving\n",
    "    epsilon_history.append(epsilon)\n",
    "    episode_reward_history.append(episode_reward)\n",
    "    running_reward = np.mean(episode_reward_history)\n",
    "    reward_plot.append(episode_reward/timestep)\n",
    "    episode_count += 1\n",
    "    termination_steps.append(timestep)\n"
   ]
  },
  {
   "cell_type": "code",
   "execution_count": null,
   "metadata": {
    "execution": {
     "iopub.execute_input": "2022-12-12T02:36:36.416410Z",
     "iopub.status.busy": "2022-12-12T02:36:36.415953Z",
     "iopub.status.idle": "2022-12-12T02:36:40.343865Z",
     "shell.execute_reply": "2022-12-12T02:36:40.343150Z",
     "shell.execute_reply.started": "2022-12-12T02:36:36.416375Z"
    },
    "tags": []
   },
   "outputs": [],
   "source": [
    "doorkey_model.save(\"DoorKey_Experts1\")"
   ]
  },
  {
   "cell_type": "code",
   "execution_count": null,
   "metadata": {
    "execution": {
     "iopub.execute_input": "2022-12-12T01:29:04.793519Z",
     "iopub.status.busy": "2022-12-12T01:29:04.793205Z",
     "iopub.status.idle": "2022-12-12T01:29:05.061773Z",
     "shell.execute_reply": "2022-12-12T01:29:05.061007Z",
     "shell.execute_reply.started": "2022-12-12T01:29:04.793495Z"
    },
    "tags": []
   },
   "outputs": [],
   "source": [
    "plotProgress(reward_plot)\n",
    "reward_mean = [np.mean(np.array(reward_plot[i-10:i+1])) for i in range(len(reward_plot))]\n",
    "plotProgress(reward_mean)"
   ]
  },
  {
   "cell_type": "code",
   "execution_count": null,
   "metadata": {
    "execution": {
     "iopub.execute_input": "2022-12-10T20:28:05.300608Z",
     "iopub.status.busy": "2022-12-10T20:28:05.300218Z",
     "iopub.status.idle": "2022-12-10T20:28:05.309091Z",
     "shell.execute_reply": "2022-12-10T20:28:05.308308Z",
     "shell.execute_reply.started": "2022-12-10T20:28:05.300582Z"
    },
    "tags": []
   },
   "outputs": [],
   "source": [
    "# a = np.array(reward_plot)\n",
    "np.savetxt(\"reward_plot_doorkey.txt\",a)\n",
    "b = np.array(termination_steps)\n",
    "np.savetxt('termination_steps_doorkey.txt',b)\n",
    "c = np.array(success_ratio)\n",
    "np.savetxt(\"success_doorkey.txt\",c)"
   ]
  },
  {
   "cell_type": "code",
   "execution_count": null,
   "metadata": {
    "execution": {
     "iopub.execute_input": "2022-12-12T01:29:21.506147Z",
     "iopub.status.busy": "2022-12-12T01:29:21.505756Z",
     "iopub.status.idle": "2022-12-12T01:29:21.756098Z",
     "shell.execute_reply": "2022-12-12T01:29:21.755456Z",
     "shell.execute_reply.started": "2022-12-12T01:29:21.506124Z"
    },
    "tags": []
   },
   "outputs": [],
   "source": [
    "def plotProgressTimesteps(reward_plot):\n",
    "    plt.plot(reward_plot)\n",
    "    plt.xlabel('Episodes')\n",
    "    plt.ylabel('Termination Steps')\n",
    "    plt.title('Total Steps V/S Episodes.')\n",
    "    plt.show()\n",
    "\n",
    "plotProgressTimesteps(termination_steps)\n",
    "termination_mean = [np.mean(np.array(termination_steps[i-20:i+1])) for i in range(len(termination_steps))]\n",
    "plotProgressTimesteps(termination_mean)"
   ]
  },
  {
   "cell_type": "code",
   "execution_count": null,
   "metadata": {
    "execution": {
     "iopub.execute_input": "2022-12-10T20:11:46.112698Z",
     "iopub.status.busy": "2022-12-10T20:11:46.112302Z",
     "iopub.status.idle": "2022-12-10T20:11:46.241084Z",
     "shell.execute_reply": "2022-12-10T20:11:46.240175Z",
     "shell.execute_reply.started": "2022-12-10T20:11:46.112672Z"
    },
    "tags": []
   },
   "outputs": [],
   "source": [
    "def plotProgressSuccess(reward_plot):\n",
    "    plt.plot(reward_plot)\n",
    "    plt.xlabel('Episodes')\n",
    "    plt.ylabel('Success\\Failure')\n",
    "    plt.title(' Success V/S Episodes.')\n",
    "    plt.show()\n",
    "\n",
    "plotProgressSuccess(success_ratio)"
   ]
  },
  {
   "cell_type": "code",
   "execution_count": null,
   "metadata": {
    "execution": {
     "iopub.execute_input": "2022-12-10T20:12:18.468395Z",
     "iopub.status.busy": "2022-12-10T20:12:18.467782Z",
     "iopub.status.idle": "2022-12-10T20:12:18.473154Z",
     "shell.execute_reply": "2022-12-10T20:12:18.472194Z",
     "shell.execute_reply.started": "2022-12-10T20:12:18.468349Z"
    },
    "tags": []
   },
   "outputs": [],
   "source": [
    "cumulative_reward = [termination_steps[i]*reward_plot[i] for i in range(len(reward_plot))]"
   ]
  },
  {
   "cell_type": "code",
   "execution_count": null,
   "metadata": {
    "execution": {
     "iopub.execute_input": "2022-12-10T20:12:24.385056Z",
     "iopub.status.busy": "2022-12-10T20:12:24.384668Z",
     "iopub.status.idle": "2022-12-10T20:12:24.529405Z",
     "shell.execute_reply": "2022-12-10T20:12:24.528674Z",
     "shell.execute_reply.started": "2022-12-10T20:12:24.385029Z"
    },
    "tags": []
   },
   "outputs": [],
   "source": [
    "plotProgressSuccess(cumulative_reward)"
   ]
  },
  {
   "cell_type": "code",
   "execution_count": null,
   "metadata": {
    "execution": {
     "iopub.execute_input": "2022-12-10T20:45:38.184830Z",
     "iopub.status.busy": "2022-12-10T20:45:38.184393Z",
     "iopub.status.idle": "2022-12-10T20:45:38.312677Z",
     "shell.execute_reply": "2022-12-10T20:45:38.311934Z",
     "shell.execute_reply.started": "2022-12-10T20:45:38.184805Z"
    },
    "tags": []
   },
   "outputs": [],
   "source": [
    "plotProgressSuccess(epsilon_history)"
   ]
  },
  {
   "cell_type": "code",
   "execution_count": null,
   "metadata": {},
   "outputs": [],
   "source": []
  },
  {
   "cell_type": "code",
   "execution_count": null,
   "metadata": {},
   "outputs": [],
   "source": []
  },
  {
   "cell_type": "code",
   "execution_count": null,
   "metadata": {},
   "outputs": [],
   "source": []
  },
  {
   "cell_type": "code",
   "execution_count": null,
   "metadata": {},
   "outputs": [],
   "source": []
  },
  {
   "cell_type": "code",
   "execution_count": null,
   "metadata": {},
   "outputs": [],
   "source": []
  },
  {
   "cell_type": "code",
   "execution_count": null,
   "metadata": {},
   "outputs": [],
   "source": []
  },
  {
   "cell_type": "code",
   "execution_count": null,
   "metadata": {},
   "outputs": [],
   "source": []
  },
  {
   "cell_type": "code",
   "execution_count": null,
   "metadata": {},
   "outputs": [],
   "source": []
  },
  {
   "cell_type": "code",
   "execution_count": null,
   "metadata": {},
   "outputs": [],
   "source": []
  },
  {
   "cell_type": "code",
   "execution_count": null,
   "metadata": {},
   "outputs": [],
   "source": []
  },
  {
   "cell_type": "code",
   "execution_count": null,
   "metadata": {},
   "outputs": [],
   "source": []
  },
  {
   "cell_type": "code",
   "execution_count": null,
   "metadata": {},
   "outputs": [],
   "source": []
  }
 ],
 "metadata": {
  "kernelspec": {
   "display_name": "Python 3",
   "language": "python",
   "name": "python3"
  },
  "language_info": {
   "codemirror_mode": {
    "name": "ipython",
    "version": 3
   },
   "file_extension": ".py",
   "mimetype": "text/x-python",
   "name": "python",
   "nbconvert_exporter": "python",
   "pygments_lexer": "ipython3",
   "version": "3.8.3"
  }
 },
 "nbformat": 4,
 "nbformat_minor": 5
}
