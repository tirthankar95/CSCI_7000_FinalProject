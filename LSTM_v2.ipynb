{
  "nbformat": 4,
  "nbformat_minor": 0,
  "metadata": {
    "colab": {
      "provenance": []
    },
    "kernelspec": {
      "name": "python3",
      "display_name": "Python 3"
    },
    "language_info": {
      "name": "python"
    },
    "accelerator": "GPU",
    "gpuClass": "standard"
  },
  "cells": [
    {
      "cell_type": "code",
      "execution_count": 1,
      "metadata": {
        "colab": {
          "base_uri": "https://localhost:8080/"
        },
        "id": "ALAIPri6MIxa",
        "outputId": "1dbf14e7-8865-4268-b08a-dfcac1c25baf"
      },
      "outputs": [
        {
          "output_type": "stream",
          "name": "stdout",
          "text": [
            "Cloning into 'CSCI_7000_FinalProject'...\n",
            "remote: Enumerating objects: 363, done.\u001b[K\n",
            "remote: Counting objects: 100% (363/363), done.\u001b[K\n",
            "remote: Compressing objects: 100% (273/273), done.\u001b[K\n",
            "remote: Total 363 (delta 129), reused 315 (delta 81), pack-reused 0\u001b[K\n",
            "Receiving objects: 100% (363/363), 19.57 MiB | 16.91 MiB/s, done.\n",
            "Resolving deltas: 100% (129/129), done.\n"
          ]
        }
      ],
      "source": [
        "!git clone https://github.com/tirthankar95/CSCI_7000_FinalProject.git"
      ]
    },
    {
      "cell_type": "code",
      "source": [
        "%cd CSCI_7000_FinalProject/Ajay/gym-minigrid/"
      ],
      "metadata": {
        "colab": {
          "base_uri": "https://localhost:8080/"
        },
        "id": "HD0W_MbuMq2S",
        "outputId": "014538fb-bd8e-44b2-ab14-e07f8839c98a"
      },
      "execution_count": 2,
      "outputs": [
        {
          "output_type": "stream",
          "name": "stdout",
          "text": [
            "/content/CSCI_7000_FinalProject/Ajay/gym-minigrid\n"
          ]
        }
      ]
    },
    {
      "cell_type": "code",
      "source": [
        "!pip install -e ."
      ],
      "metadata": {
        "colab": {
          "base_uri": "https://localhost:8080/"
        },
        "id": "6_AVuwNaMwEU",
        "outputId": "7e8f67de-a826-4789-f9e6-a9ff9c4e1461"
      },
      "execution_count": 3,
      "outputs": [
        {
          "output_type": "stream",
          "name": "stdout",
          "text": [
            "Looking in indexes: https://pypi.org/simple, https://us-python.pkg.dev/colab-wheels/public/simple/\n",
            "Obtaining file:///content/CSCI_7000_FinalProject/Ajay/gym-minigrid\n",
            "Requirement already satisfied: gym>=0.9.6 in /usr/local/lib/python3.8/dist-packages (from gym-minigrid==0.0.5) (0.25.2)\n",
            "Requirement already satisfied: numpy>=1.15.0 in /usr/local/lib/python3.8/dist-packages (from gym-minigrid==0.0.5) (1.21.6)\n",
            "Collecting pyqt5>=5.10.1\n",
            "  Downloading PyQt5-5.15.7-cp37-abi3-manylinux1_x86_64.whl (8.4 MB)\n",
            "\u001b[K     |████████████████████████████████| 8.4 MB 38.3 MB/s \n",
            "\u001b[?25hRequirement already satisfied: cloudpickle>=1.2.0 in /usr/local/lib/python3.8/dist-packages (from gym>=0.9.6->gym-minigrid==0.0.5) (1.5.0)\n",
            "Requirement already satisfied: importlib-metadata>=4.8.0 in /usr/local/lib/python3.8/dist-packages (from gym>=0.9.6->gym-minigrid==0.0.5) (4.13.0)\n",
            "Requirement already satisfied: gym-notices>=0.0.4 in /usr/local/lib/python3.8/dist-packages (from gym>=0.9.6->gym-minigrid==0.0.5) (0.0.8)\n",
            "Requirement already satisfied: zipp>=0.5 in /usr/local/lib/python3.8/dist-packages (from importlib-metadata>=4.8.0->gym>=0.9.6->gym-minigrid==0.0.5) (3.10.0)\n",
            "Collecting PyQt5-sip<13,>=12.11\n",
            "  Downloading PyQt5_sip-12.11.0-cp38-cp38-manylinux1_x86_64.whl (361 kB)\n",
            "\u001b[K     |████████████████████████████████| 361 kB 69.0 MB/s \n",
            "\u001b[?25hCollecting PyQt5-Qt5>=5.15.0\n",
            "  Downloading PyQt5_Qt5-5.15.2-py3-none-manylinux2014_x86_64.whl (59.9 MB)\n",
            "\u001b[K     |████████████████████████████████| 59.9 MB 1.2 MB/s \n",
            "\u001b[?25hInstalling collected packages: PyQt5-sip, PyQt5-Qt5, pyqt5, gym-minigrid\n",
            "  Running setup.py develop for gym-minigrid\n",
            "Successfully installed PyQt5-Qt5-5.15.2 PyQt5-sip-12.11.0 gym-minigrid-0.0.5 pyqt5-5.15.7\n"
          ]
        }
      ]
    },
    {
      "cell_type": "code",
      "source": [
        "from gym_minigrid.envs.doorkey import *\n",
        "from gym_minigrid.envs.crossing import *\n",
        "env = CrossingEnv(size=6)\n",
        "env.step_m(1)"
      ],
      "metadata": {
        "colab": {
          "base_uri": "https://localhost:8080/"
        },
        "id": "QHRf-tShMzMM",
        "outputId": "2a05e275-86e8-40c4-f5e8-78fd2df485d2"
      },
      "execution_count": 83,
      "outputs": [
        {
          "output_type": "stream",
          "name": "stderr",
          "text": [
            "/content/CSCI_7000_FinalProject/Ajay/gym-minigrid/gym_minigrid/minigrid.py:663: DeprecationWarning: `np.bool` is a deprecated alias for the builtin `bool`. To silence this warning, use `bool` by itself. Doing this will not modify any behavior and is safe. If you specifically wanted the numpy scalar type, use `np.bool_` here.\n",
            "Deprecated in NumPy 1.20; for more details and guidance: https://numpy.org/devdocs/release/1.20.0-notes.html#deprecations\n",
            "  mask = np.zeros(shape=(grid.width, grid.height), dtype=np.bool)\n"
          ]
        },
        {
          "output_type": "execute_result",
          "data": {
            "text/plain": [
              "({'image': array([[[0, 0, 0],\n",
              "          [0, 0, 0],\n",
              "          [2, 5, 0],\n",
              "          [8, 1, 0],\n",
              "          [1, 0, 0],\n",
              "          [1, 0, 0],\n",
              "          [1, 0, 0]],\n",
              "  \n",
              "         [[0, 0, 0],\n",
              "          [0, 0, 0],\n",
              "          [2, 5, 0],\n",
              "          [9, 0, 0],\n",
              "          [9, 0, 0],\n",
              "          [1, 0, 0],\n",
              "          [9, 0, 0]],\n",
              "  \n",
              "         [[0, 0, 0],\n",
              "          [0, 0, 0],\n",
              "          [2, 5, 0],\n",
              "          [1, 0, 0],\n",
              "          [9, 0, 0],\n",
              "          [1, 0, 0],\n",
              "          [1, 0, 0]],\n",
              "  \n",
              "         [[0, 0, 0],\n",
              "          [0, 0, 0],\n",
              "          [2, 5, 0],\n",
              "          [1, 0, 0],\n",
              "          [9, 0, 0],\n",
              "          [1, 0, 0],\n",
              "          [1, 0, 0]],\n",
              "  \n",
              "         [[0, 0, 0],\n",
              "          [0, 0, 0],\n",
              "          [2, 5, 0],\n",
              "          [2, 5, 0],\n",
              "          [2, 5, 0],\n",
              "          [2, 5, 0],\n",
              "          [2, 5, 0]],\n",
              "  \n",
              "         [[0, 0, 0],\n",
              "          [0, 0, 0],\n",
              "          [0, 0, 0],\n",
              "          [0, 0, 0],\n",
              "          [0, 0, 0],\n",
              "          [0, 0, 0],\n",
              "          [0, 0, 0]],\n",
              "  \n",
              "         [[0, 0, 0],\n",
              "          [0, 0, 0],\n",
              "          [0, 0, 0],\n",
              "          [0, 0, 0],\n",
              "          [0, 0, 0],\n",
              "          [0, 0, 0],\n",
              "          [0, 0, 0]]], dtype=uint8),\n",
              "  'direction': 1,\n",
              "  'mission': 'avoid the lava and get to the green goal square'},\n",
              " -1,\n",
              " False,\n",
              " (1, 1))"
            ]
          },
          "metadata": {},
          "execution_count": 83
        }
      ]
    },
    {
      "cell_type": "code",
      "source": [
        "import gym\n",
        "import numpy as np\n",
        "import random\n",
        "import gym_minigrid\n",
        "import matplotlib.pyplot as plt\n",
        "import tensorflow as tf\n",
        "import keras\n",
        "from keras.models import Sequential,Model\n",
        "from keras.layers import LSTM,Bidirectional,Dense,Input,Embedding,TimeDistributed\n",
        "from keras.callbacks import EarlyStopping, ModelCheckpoint\n"
      ],
      "metadata": {
        "id": "Ufnk-Hx0M5wh"
      },
      "execution_count": 5,
      "outputs": []
    },
    {
      "cell_type": "code",
      "source": [
        "num_actions=5"
      ],
      "metadata": {
        "id": "d12pNDSOM-K-"
      },
      "execution_count": 30,
      "outputs": []
    },
    {
      "cell_type": "code",
      "source": [
        "\n",
        "def plotProgress(reward_plot):\n",
        "    plt.plot(reward_plot)\n",
        "    plt.xlabel('Episodes')\n",
        "    plt.ylabel('Avg. reward')\n",
        "    plt.title('Avg Reward Per Step V/S Episodes.')\n",
        "    plt.show()\n"
      ],
      "metadata": {
        "id": "2yozA0MIM__e"
      },
      "execution_count": 31,
      "outputs": []
    },
    {
      "cell_type": "code",
      "source": [
        "def create():\n",
        "    global num_actions\n",
        "    input=Input(shape=(3,147)) # (3,3,7,7) ~ the mini-grid by default returns (3,7,7) image.\n",
        "    model=LSTM(units=128,return_sequences=False)(input)\n",
        "    x1 = Dense(units=128, activation='relu')(model)\n",
        "    x1 = Dense(units=64, activation='relu')(x1)\n",
        "    x1 = Dense(units=32, activation='relu')(x1)\n",
        "    x1 = Dense(units=16, activation='relu')(x1)\n",
        "    output=Dense(units=num_actions,activation='linear')(x1)\n",
        "    model=Model(input,output)\n",
        "    return model\n"
      ],
      "metadata": {
        "id": "A4xDRnJ-NB1i"
      },
      "execution_count": 84,
      "outputs": []
    },
    {
      "cell_type": "code",
      "source": [
        "from tqdm import tqdm\n",
        "global num_actions\n",
        "# Configuration paramaters for the whole setup\n",
        "seed = 42\n",
        "gamma = 0.99  # Discount factor for past rewards\n",
        "epsilon = 1.0  # Epsilon greedy parameter\n",
        "epsilon_min = 0.1  # Minimum epsilon greedy parameter\n",
        "epsilon_max = 1.0  # Maximum epsilon greedy parameter\n",
        "epsilon_interval = (\n",
        "    epsilon_max - epsilon_min\n",
        ")  # Rate at which to reduce chance of random action being taken\n",
        "batch_size = 4098  # Size of batch taken from replay buffer\n",
        "max_steps_per_episode = 5000 #beast 1000\n",
        "from gym_minigrid.envs.doorkey import *\n",
        "from gym_minigrid.envs.crossing import *\n",
        "env = CrossingEnv(size=6)\n",
        "#env = gym.make('MiniGrid-DoorKey-6x6-v0')\n",
        "env.seed(seed)\n",
        "\n",
        "model=create()\n",
        "model_target=create()\n",
        "loss_function = keras.losses.MeanSquaredError()\n",
        "optimizer=keras.optimizers.RMSprop()\n",
        "\n",
        "# Experience replay buffers\n",
        "action_history = []\n",
        "state_history = []\n",
        "state_next_history = []\n",
        "rewards_history = []\n",
        "episode_reward_history=[]\n",
        "done_history = []\n",
        "reward_plot = []\n",
        "running_reward = 0\n",
        "episode_count = 0\n",
        "frame_count = 0\n",
        "# Number of frames to take random action and observe output\n",
        "epsilon_random_frames = 50000 #beast 10000\n",
        "# Number of frames for exploration\n",
        "epsilon_greedy_frames = 1000000.0\n",
        "# Maximum replay length\n",
        "# Note: The Deepmind paper suggests 1000000 however this causes memory issues\n",
        "max_memory_length = 100000\n",
        "# Train the model after 4 actions\n",
        "update_after_actions = 100\n",
        "# How often to update the target network\n",
        "update_target_network = 10000\n",
        "# Using huber loss for stability\n",
        "# We are taking 3 frames in our LSTM\n",
        "frame_offset=2\n",
        "\n"
      ],
      "metadata": {
        "id": "LW0DguegNDVH"
      },
      "execution_count": 85,
      "outputs": []
    },
    {
      "cell_type": "code",
      "source": [
        "termination_steps=[]"
      ],
      "metadata": {
        "id": "ZOgN0QyOvfqs"
      },
      "execution_count": 86,
      "outputs": []
    },
    {
      "cell_type": "code",
      "source": [
        "noOfEpisodes=2000 #beast 100000\n",
        "#while noOfEpisodes:  # Run until solved\n",
        "for _ in tqdm(range(noOfEpisodes)):\n",
        "    #noOfEpisodes-=1\n",
        "    state = np.array(env.reset_m())\n",
        "    episode_reward = 0\n",
        "\n",
        "    for timestep in range(1, max_steps_per_episode):\n",
        "        # env.render(); Adding this line would show the attempts\n",
        "        # of the agent in a pop up window.\n",
        "        frame_count += 1\n",
        "\n",
        "        # Use epsilon-greedy for exploration\n",
        "        if frame_count < epsilon_random_frames or epsilon > np.random.rand(1)[0]:\n",
        "            # Take random action\n",
        "            action = np.random.choice(num_actions)\n",
        "        else:\n",
        "            # Predict action Q-values\n",
        "            # From environment state\n",
        "            state_numpy = np.array(state_history[-3:]).reshape(3,147)\n",
        "            state_numpy = np.array([state_numpy])\n",
        "            action_probs = model(state_numpy, training=False)\n",
        "            # Take best action\n",
        "            action = np.argmax(action_probs[0])\n",
        "\n",
        "        # Decay probability of taking random action\n",
        "        epsilon -= epsilon_interval / epsilon_greedy_frames\n",
        "        epsilon = max(epsilon, epsilon_min)\n",
        "\n",
        "        # Apply the sampled action in our environment\n",
        "        state_next, reward, done, _ = env.step_m(action)\n",
        "        state_next = np.array(state_next)\n",
        "\n",
        "        episode_reward += reward\n",
        "\n",
        "        # Save actions and states in replay buffer\n",
        "        action_history.append(action)\n",
        "        temp_state=dict(state.item(0)) # state is a 0-d numpy array.\n",
        "        state_history.append(temp_state['image'])\n",
        "        temp_state=dict(state_next.item(0)) # state is a 0-d numpy array.\n",
        "        state_next_history.append(temp_state['image'])\n",
        "        done_history.append(done)\n",
        "        rewards_history.append(reward)\n",
        "        state = state_next\n",
        "\n",
        "        # Update every fourth frame and once batch size is over 32\n",
        "        if frame_count % update_after_actions == 0 and len(done_history) > batch_size:\n",
        "            # Get indices of samples for replay buffers\n",
        "            indices = np.random.choice(range(len(done_history)-frame_offset), size=batch_size)+frame_offset\n",
        "            i=indices[0]\n",
        "            # Using list comprehension to sample from replay buffer\n",
        "            state_sample = np.array([ np.array(state_history[i-frame_offset:i+1]).reshape(3,147) for i in indices])\n",
        "            state_next_sample = np.array([ np.array(state_next_history[i-frame_offset:i+1]).reshape(3,147) for i in indices])\n",
        "            rewards_sample = [rewards_history[i] for i in indices]\n",
        "            action_sample = [action_history[i] for i in indices]\n",
        "            # Build the updated Q-values for the sampled future states\n",
        "            # Use the target model for stability\n",
        "            future_rewards = model_target.predict(state_next_sample,verbose=False)\n",
        "            # Q value = reward + discount factor * expected future reward\n",
        "            updated_q_values = rewards_sample + gamma * np.max(\\\n",
        "                future_rewards, axis=1)\n",
        "            updated_q_values = updated_q_values.astype('float32')\n",
        "            # Create a mask so we only calculate loss on the updated Q-values\n",
        "            masks = tf.one_hot(action_sample, num_actions)\n",
        "            with tf.GradientTape() as tape:    \n",
        "                q_values = model(state_sample)\n",
        "                # Apply the masks to the Q-values to get the Q-value for action taken\n",
        "                q_action = tf.reduce_sum(tf.multiply(q_values, masks), axis=1)\n",
        "                loss = loss_function(updated_q_values,q_action)\n",
        "            # Backpropagation\n",
        "            grads = tape.gradient(loss, model.trainable_variables)\n",
        "            optimizer.apply_gradients(zip(grads, model.trainable_variables))\n",
        "            \n",
        "\n",
        "        if frame_count % update_target_network == 0:\n",
        "            # update the the target network with new weights\n",
        "            model_target.set_weights(model.get_weights())\n",
        "            # Log details\n",
        "            template = \"running reward: {:.2f} at episode {}, frame count {}\"\n",
        "            print(template.format(running_reward, episode_count, frame_count))\n",
        "\n",
        "        # Limit the state and reward history\n",
        "        if len(rewards_history) > max_memory_length:\n",
        "            del rewards_history[:1]\n",
        "            del state_history[:1]\n",
        "            del state_next_history[:1]\n",
        "            del action_history[:1]\n",
        "            del done_history[:1]\n",
        "        if done:\n",
        "            break\n",
        "\n",
        "# Update running reward to check condition for solving\n",
        "    episode_reward_history.append(episode_reward)\n",
        "    running_reward = np.mean(episode_reward_history)\n",
        "    reward_plot.append(episode_reward/timestep)\n",
        "    episode_count += 1\n",
        "    termination_steps.append(timestep)\n",
        "plotProgress(reward_plot)"
      ],
      "metadata": {
        "colab": {
          "base_uri": "https://localhost:8080/",
          "height": 489
        },
        "id": "_-j58-TWNHBt",
        "outputId": "8e2d5a1f-1404-461a-d542-a87742ade8e6"
      },
      "execution_count": 106,
      "outputs": [
        {
          "output_type": "stream",
          "name": "stderr",
          "text": [
            "\r  0%|          | 0/2000 [00:00<?, ?it/s]/content/CSCI_7000_FinalProject/Ajay/gym-minigrid/gym_minigrid/minigrid.py:663: DeprecationWarning: `np.bool` is a deprecated alias for the builtin `bool`. To silence this warning, use `bool` by itself. Doing this will not modify any behavior and is safe. If you specifically wanted the numpy scalar type, use `np.bool_` here.\n",
            "Deprecated in NumPy 1.20; for more details and guidance: https://numpy.org/devdocs/release/1.20.0-notes.html#deprecations\n",
            "  mask = np.zeros(shape=(grid.width, grid.height), dtype=np.bool)\n",
            " 11%|█         | 223/2000 [00:40<06:09,  4.81it/s]"
          ]
        },
        {
          "output_type": "stream",
          "name": "stdout",
          "text": [
            "running reward: -173.81 at episode 4622, frame count 150000\n"
          ]
        },
        {
          "output_type": "stream",
          "name": "stderr",
          "text": [
            " 26%|██▌       | 518/2000 [01:34<05:13,  4.73it/s]"
          ]
        },
        {
          "output_type": "stream",
          "name": "stdout",
          "text": [
            "running reward: -173.47 at episode 4917, frame count 160000\n"
          ]
        },
        {
          "output_type": "stream",
          "name": "stderr",
          "text": [
            " 41%|████▏     | 829/2000 [02:30<02:52,  6.79it/s]"
          ]
        },
        {
          "output_type": "stream",
          "name": "stdout",
          "text": [
            "running reward: -172.82 at episode 5227, frame count 170000\n"
          ]
        },
        {
          "output_type": "stream",
          "name": "stderr",
          "text": [
            " 58%|█████▊    | 1151/2000 [03:27<02:44,  5.17it/s]"
          ]
        },
        {
          "output_type": "stream",
          "name": "stdout",
          "text": [
            "running reward: -172.09 at episode 5550, frame count 180000\n"
          ]
        },
        {
          "output_type": "stream",
          "name": "stderr",
          "text": [
            " 73%|███████▎  | 1458/2000 [04:23<01:53,  4.77it/s]"
          ]
        },
        {
          "output_type": "stream",
          "name": "stdout",
          "text": [
            "running reward: -171.74 at episode 5857, frame count 190000\n"
          ]
        },
        {
          "output_type": "stream",
          "name": "stderr",
          "text": [
            " 90%|█████████ | 1809/2000 [05:21<00:22,  8.42it/s]"
          ]
        },
        {
          "output_type": "stream",
          "name": "stdout",
          "text": [
            "running reward: -170.66 at episode 6204, frame count 200000\n"
          ]
        },
        {
          "output_type": "stream",
          "name": "stderr",
          "text": [
            "100%|██████████| 2000/2000 [05:56<00:00,  5.61it/s]\n"
          ]
        },
        {
          "output_type": "display_data",
          "data": {
            "text/plain": [
              "<Figure size 432x288 with 1 Axes>"
            ],
            "image/png": "[encoded data removed]"
          },
          "metadata": {
            "needs_background": "light"
          }
        }
      ]
    },
    {
      "cell_type": "code",
      "source": [
        "epsilon"
      ],
      "metadata": {
        "colab": {
          "base_uri": "https://localhost:8080/"
        },
        "id": "JbcKLowfUS1A",
        "outputId": "3a1d5441-5178-443b-a8ac-7940e5a889cc"
      },
      "execution_count": 107,
      "outputs": [
        {
          "output_type": "execute_result",
          "data": {
            "text/plain": [
              "0.8145595000061053"
            ]
          },
          "metadata": {},
          "execution_count": 107
        }
      ]
    },
    {
      "cell_type": "code",
      "source": [
        "plotProgress(termination_steps)"
      ],
      "metadata": {
        "colab": {
          "base_uri": "https://localhost:8080/",
          "height": 295
        },
        "id": "IFxd3Fg60RLS",
        "outputId": "0fb9c94f-59a7-49e6-ad99-10f987d798f2"
      },
      "execution_count": 108,
      "outputs": [
        {
          "output_type": "display_data",
          "data": {
            "text/plain": [
              "<Figure size 432x288 with 1 Axes>"
            ],
            "image/png": "[encoded data removed]"
          },
          "metadata": {
            "needs_background": "light"
          }
        }
      ]
    },
    {
      "cell_type": "code",
      "source": [
        "!rm -r LavaExperts.ml\n"
      ],
      "metadata": {
        "id": "ln6JyiT0NPcU"
      },
      "execution_count": 109,
      "outputs": []
    },
    {
      "cell_type": "code",
      "source": [
        "model.save('LavaExperts.ml')"
      ],
      "metadata": {
        "colab": {
          "base_uri": "https://localhost:8080/"
        },
        "id": "sIJlUVnXf0Oe",
        "outputId": "d66ba84a-f684-483f-869c-c75b78653821"
      },
      "execution_count": 110,
      "outputs": [
        {
          "output_type": "stream",
          "name": "stderr",
          "text": [
            "WARNING:tensorflow:Compiled the loaded model, but the compiled metrics have yet to be built. `model.compile_metrics` will be empty until you train or evaluate the model.\n",
            "WARNING:absl:Found untraced functions such as lstm_cell_10_layer_call_fn, lstm_cell_10_layer_call_and_return_conditional_losses while saving (showing 2 of 2). These functions will not be directly callable after loading.\n"
          ]
        }
      ]
    },
    {
      "cell_type": "code",
      "source": [
        "# import time\n",
        "# print(model.summary())\n",
        "# state = np.array(env.reset_m())\n",
        "# temp_state=dict(state.item(0))\n",
        "# noOfFrames=3\n",
        "# state_history=[temp_state['image'] for i in range(noOfFrames)]\n",
        "# done = False\n",
        "# i=0\n",
        "# while not done or i<3000:\n",
        "#   state_numpy = np.array(state_history[-3:]).reshape(3,147)\n",
        "#   state_numpy = np.array([state_numpy])\n",
        "#   action_probs = model(state_numpy, training=False)\n",
        "#   action = np.argmax(action_probs[0])\n",
        "#   state, reward, done, _ = env.step_m(action)\n",
        "#   state=np.array(state)\n",
        "#   temp_state=dict(state.item(0))\n",
        "#   del state_history[:1]\n",
        "#   state_history.append(temp_state['image'])\n",
        "#   i = i+1\n",
        "#   if(action>1):\n",
        "#     print(action,i)\n",
        "#   #env.render()\n",
        "#   time.sleep(0.1)\n"
      ],
      "metadata": {
        "colab": {
          "base_uri": "https://localhost:8080/",
          "height": 688
        },
        "id": "d0lTWvVMvcJc",
        "outputId": "a4df1a17-e235-4d6c-da75-fe2730f032be"
      },
      "execution_count": 45,
      "outputs": [
        {
          "output_type": "stream",
          "name": "stdout",
          "text": [
            "Model: \"model_6\"\n",
            "_________________________________________________________________\n",
            " Layer (type)                Output Shape              Param #   \n",
            "=================================================================\n",
            " input_7 (InputLayer)        [(None, 3, 147)]          0         \n",
            "                                                                 \n",
            " lstm_6 (LSTM)               (None, 64)                54272     \n",
            "                                                                 \n",
            " dense_6 (Dense)             (None, 128)               8320      \n",
            "                                                                 \n",
            " dense_7 (Dense)             (None, 64)                8256      \n",
            "                                                                 \n",
            " dense_8 (Dense)             (None, 32)                2080      \n",
            "                                                                 \n",
            " dense_9 (Dense)             (None, 16)                528       \n",
            "                                                                 \n",
            " dense_10 (Dense)            (None, 5)                 85        \n",
            "                                                                 \n",
            "=================================================================\n",
            "Total params: 73,541\n",
            "Trainable params: 73,541\n",
            "Non-trainable params: 0\n",
            "_________________________________________________________________\n",
            "None\n"
          ]
        },
        {
          "output_type": "stream",
          "name": "stderr",
          "text": [
            "/content/CSCI_7000_FinalProject/Ajay/gym-minigrid/gym_minigrid/minigrid.py:663: DeprecationWarning: `np.bool` is a deprecated alias for the builtin `bool`. To silence this warning, use `bool` by itself. Doing this will not modify any behavior and is safe. If you specifically wanted the numpy scalar type, use `np.bool_` here.\n",
            "Deprecated in NumPy 1.20; for more details and guidance: https://numpy.org/devdocs/release/1.20.0-notes.html#deprecations\n",
            "  mask = np.zeros(shape=(grid.width, grid.height), dtype=np.bool)\n"
          ]
        },
        {
          "output_type": "error",
          "ename": "KeyboardInterrupt",
          "evalue": "ignored",
          "traceback": [
            "\u001b[0;31m---------------------------------------------------------------------------\u001b[0m",
            "\u001b[0;31mKeyboardInterrupt\u001b[0m                         Traceback (most recent call last)",
            "\u001b[0;32m<ipython-input-45-0fc540487007>\u001b[0m in \u001b[0;36m<module>\u001b[0;34m\u001b[0m\n\u001b[1;32m     21\u001b[0m     \u001b[0mprint\u001b[0m\u001b[0;34m(\u001b[0m\u001b[0maction\u001b[0m\u001b[0;34m,\u001b[0m\u001b[0mi\u001b[0m\u001b[0;34m)\u001b[0m\u001b[0;34m\u001b[0m\u001b[0;34m\u001b[0m\u001b[0m\n\u001b[1;32m     22\u001b[0m   \u001b[0;31m#env.render()\u001b[0m\u001b[0;34m\u001b[0m\u001b[0;34m\u001b[0m\u001b[0;34m\u001b[0m\u001b[0m\n\u001b[0;32m---> 23\u001b[0;31m   \u001b[0mtime\u001b[0m\u001b[0;34m.\u001b[0m\u001b[0msleep\u001b[0m\u001b[0;34m(\u001b[0m\u001b[0;36m0.1\u001b[0m\u001b[0;34m)\u001b[0m\u001b[0;34m\u001b[0m\u001b[0;34m\u001b[0m\u001b[0m\n\u001b[0m",
            "\u001b[0;31mKeyboardInterrupt\u001b[0m: "
          ]
        }
      ]
    },
    {
      "cell_type": "code",
      "source": [],
      "metadata": {
        "id": "kxT_pp_O0izu"
      },
      "execution_count": null,
      "outputs": []
    }
  ]
}